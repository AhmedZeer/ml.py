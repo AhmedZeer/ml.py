{
 "cells": [
  {
   "cell_type": "code",
   "execution_count": 50,
   "id": "8b63b06b-f694-485c-821d-17f153edb24d",
   "metadata": {},
   "outputs": [],
   "source": [
    "rgen = np.random.RandomState(0)"
   ]
  },
  {
   "cell_type": "code",
   "execution_count": 141,
   "id": "908dfa6d-881e-4a60-8eb4-93b5243b782f",
   "metadata": {},
   "outputs": [],
   "source": [
    "import matplotlib.pyplot as plt\n",
    "import numpy as np\n",
    "\n",
    "class Perceptron:\n",
    "    def __init__(self, eta, iterNum, X, y):\n",
    "        self.eta = eta\n",
    "        self.iterNum = iterNum\n",
    "        self.X = X\n",
    "        self.y = y\n",
    "        self.errors_ = []\n",
    "\n",
    "\n",
    "    def fit( self ):\n",
    "\n",
    "        rgen = np.random.RandomState(0)\n",
    "        self.w_ = rgen.normal( loc = 0.0, scale = 0.01, size = self.X.shape[1] ) \n",
    "        self.b_ = np.float_(0.)\n",
    "        \n",
    "        for _ in range(self.iterNum):\n",
    "            error = 0\n",
    "            for xi, target in zip( self.X, self.y ):\n",
    "                \n",
    "                update = self.eta * ( target - self.final(xi) )\n",
    "                self.w_ += update * xi\n",
    "                self.b_ += update\n",
    "                error += int( update != 0 )\n",
    "            \n",
    "            self.errors_.append(error)\n",
    "\n",
    "        return self\n",
    "\n",
    "        \n",
    "\n",
    "    def evaluate( self, X ):\n",
    "        return ( np.dot( X, self.w_ ) + self.b_ )\n",
    "\n",
    "    def final( self, X ):\n",
    "        return ( np.where(self.evaluate(X) >= 0.0 , 1, 0))\n",
    "        "
   ]
  },
  {
   "cell_type": "code",
   "execution_count": null,
   "id": "34e8f4b6-ea11-4842-8295-aa864e217837",
   "metadata": {},
   "outputs": [],
   "source": [
    "import pandas as pd\n",
    "\n",
    "s = \"https://archive.ics.uci.edu/ml/machine-learning-databases/iris/iris.data\"\n",
    "df = pd.read_csv(s, header = None, encoding = \"utf-8\")"
   ]
  },
  {
   "cell_type": "code",
   "execution_count": null,
   "id": "0d55a5a1-98ce-412b-bffd-6e05cc28e401",
   "metadata": {},
   "outputs": [],
   "source": [
    "y = df.iloc[0:100, 4].values"
   ]
  },
  {
   "cell_type": "code",
   "execution_count": 32,
   "id": "4b7f4f3f-2dc7-42a5-8871-f27e62bc8540",
   "metadata": {},
   "outputs": [],
   "source": [
    "y = np.where( y == \"Iris-setosa\", 1, 0 )"
   ]
  },
  {
   "cell_type": "code",
   "execution_count": 34,
   "id": "9bc0860a-2529-4916-8d37-0903dd952861",
   "metadata": {},
   "outputs": [
    {
     "data": {
      "text/plain": [
       "array([1, 1, 1, 1, 1, 1, 1, 1, 1, 1, 1, 1, 1, 1, 1, 1, 1, 1, 1, 1, 1, 1,\n",
       "       1, 1, 1, 1, 1, 1, 1, 1, 1, 1, 1, 1, 1, 1, 1, 1, 1, 1, 1, 1, 1, 1,\n",
       "       1, 1, 1, 1, 1, 1, 0, 0, 0, 0, 0, 0, 0, 0, 0, 0, 0, 0, 0, 0, 0, 0,\n",
       "       0, 0, 0, 0, 0, 0, 0, 0, 0, 0, 0, 0, 0, 0, 0, 0, 0, 0, 0, 0, 0, 0,\n",
       "       0, 0, 0, 0, 0, 0, 0, 0, 0, 0, 0, 0])"
      ]
     },
     "execution_count": 34,
     "metadata": {},
     "output_type": "execute_result"
    }
   ],
   "source": [
    "y"
   ]
  },
  {
   "cell_type": "code",
   "execution_count": 120,
   "id": "d1626131-5884-44d5-9ef5-2dfa2971de12",
   "metadata": {},
   "outputs": [],
   "source": [
    "x = df.iloc[0:100, [0,2]].values"
   ]
  },
  {
   "cell_type": "code",
   "execution_count": 44,
   "id": "8e203613-6835-481f-a5f1-ccbcf06cfca6",
   "metadata": {},
   "outputs": [
    {
     "data": {
      "text/plain": [
       "array([50, 51, 52, 53, 54, 55, 56, 57, 58, 59, 60, 61, 62, 63, 64, 65, 66,\n",
       "       67, 68, 69, 70, 71, 72, 73, 74, 75, 76, 77, 78, 79, 80, 81, 82, 83,\n",
       "       84, 85, 86, 87, 88, 89, 90, 91, 92, 93, 94, 95, 96, 97, 98, 99])"
      ]
     },
     "execution_count": 44,
     "metadata": {},
     "output_type": "execute_result"
    }
   ],
   "source": [
    "np.arange(50)+50"
   ]
  },
  {
   "cell_type": "code",
   "execution_count": 121,
   "id": "33bf581e-d5c4-489f-badd-6d0d845dc022",
   "metadata": {},
   "outputs": [
    {
     "data": {
      "text/plain": [
       "<matplotlib.collections.PathCollection at 0x7366a7764440>"
      ]
     },
     "execution_count": 121,
     "metadata": {},
     "output_type": "execute_result"
    },
    {
     "data": {
      "image/png": "[encoded data removed]",
      "text/plain": [
       "<Figure size 640x480 with 1 Axes>"
      ]
     },
     "metadata": {},
     "output_type": "display_data"
    }
   ],
   "source": [
    "plt.scatter( x = np.arange(50), y = x[50:100, 0], color = 'b' )\n",
    "plt.scatter( x = np.arange(50)+50, y = x[0:50, 1], color = 'r' )"
   ]
  },
  {
   "cell_type": "code",
   "execution_count": 101,
   "id": "abd43d72-c0ee-4c04-a5c8-25de845ab840",
   "metadata": {},
   "outputs": [],
   "source": [
    "rgen = np.random.RandomState(0)\n",
    "w = rgen.normal( loc = 0.0, scale = 0.01, size = x.shape[1] ) "
   ]
  },
  {
   "cell_type": "code",
   "execution_count": 106,
   "id": "005a5695-8c42-4832-911a-7b160db91c31",
   "metadata": {},
   "outputs": [
    {
     "data": {
      "text/plain": [
       "2"
      ]
     },
     "execution_count": 106,
     "metadata": {},
     "output_type": "execute_result"
    }
   ],
   "source": [
    "x.shape[1]"
   ]
  },
  {
   "cell_type": "code",
   "execution_count": 142,
   "id": "5cd7786a-9355-4ca7-9566-1efee53d17fc",
   "metadata": {},
   "outputs": [],
   "source": [
    "ppn = Perceptron( eta = 0.1, iterNum = 15, X = x, y = y)"
   ]
  },
  {
   "cell_type": "code",
   "execution_count": 143,
   "id": "4100deb6-1e74-4c97-8583-0c1f98db3aca",
   "metadata": {},
   "outputs": [
    {
     "data": {
      "text/plain": [
       "<__main__.Perceptron at 0x7366a777e420>"
      ]
     },
     "execution_count": 143,
     "metadata": {},
     "output_type": "execute_result"
    }
   ],
   "source": [
    "ppn.fit()"
   ]
  },
  {
   "cell_type": "code",
   "execution_count": 144,
   "id": "31807293-57b5-4462-9186-7858f6c5630a",
   "metadata": {},
   "outputs": [
    {
     "data": {
      "text/plain": [
       "[1, 3, 3, 2, 1, 0, 0, 0, 0, 0, 0, 0, 0, 0, 0]"
      ]
     },
     "execution_count": 144,
     "metadata": {},
     "output_type": "execute_result"
    }
   ],
   "source": [
    "ppn.errors_"
   ]
  }
 ],
 "metadata": {
  "kernelspec": {
   "display_name": "Python (ml)",
   "language": "python",
   "name": "ml"
  },
  "language_info": {
   "codemirror_mode": {
    "name": "ipython",
    "version": 3
   },
   "file_extension": ".py",
   "mimetype": "text/x-python",
   "name": "python",
   "nbconvert_exporter": "python",
   "pygments_lexer": "ipython3",
   "version": "3.12.3"
  }
 },
 "nbformat": 4,
 "nbformat_minor": 5
}
