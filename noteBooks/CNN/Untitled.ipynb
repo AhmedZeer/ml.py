{
 "cells": [
  {
   "cell_type": "code",
   "execution_count": 1,
   "id": "639e27aa-98d8-44a2-9482-9023cb3ea1a8",
   "metadata": {},
   "outputs": [],
   "source": [
    "import numpy as np"
   ]
  },
  {
   "cell_type": "code",
   "execution_count": 30,
   "id": "d9d7ff7d-c3aa-48ad-af4c-aa06972a872f",
   "metadata": {},
   "outputs": [],
   "source": [
    "def conv( x, w, s, p ):\n",
    "    x_pad = np.array(x)\n",
    "    w_rot = np.array(w[::-1])\n",
    "    if (p > 0):\n",
    "        pad = np.zeros( shape = p )\n",
    "        x_pad = np.concatenate( [pad, x, pad] )\n",
    "    res = []\n",
    "    for i in range( 0, int( len(x_pad) - len(w) ) + 1, s ):\n",
    "        res.append( np.sum(x_pad[i:i+w_rot.shape[0]] * w_rot))\n",
    "        \n",
    "    return res"
   ]
  },
  {
   "cell_type": "code",
   "execution_count": 109,
   "id": "adc96f34-2e16-4725-9ea0-484558b82f6d",
   "metadata": {},
   "outputs": [],
   "source": [
    "x = [1,2,3,12]\n",
    "w = [2,1]"
   ]
  },
  {
   "cell_type": "code",
   "execution_count": 125,
   "id": "96ae6f6f-ea3b-4b7f-8246-f1bfe8427df0",
   "metadata": {},
   "outputs": [
    {
     "data": {
      "text/plain": [
       "array([[0., 0.],\n",
       "       [0., 0.]])"
      ]
     },
     "execution_count": 125,
     "metadata": {},
     "output_type": "execute_result"
    }
   ],
   "source": [
    "np.zeros( shape = (2,2) )"
   ]
  },
  {
   "cell_type": "code",
   "execution_count": 126,
   "id": "445ab113-1659-4cef-bce6-54914fe60334",
   "metadata": {},
   "outputs": [],
   "source": [
    "def conv2d( x, w, s = (1,1), p = (0,0) ):\n",
    "    w_rot = w[::-1,::-1]\n",
    "    x_orig = np.array(x)\n",
    "    \n",
    "    n1 = x_orig.shape[0] + 2*p[0]\n",
    "    n2 = x_orig.shape[1] + 2*p[1]\n",
    "    \n",
    "    x_padded = np.zeros(shape=(n1,n2))\n",
    "    x_padded[ p[0]:p[0] + x_orig.shape[0] , p[1]:p[1] + x_orig.shape[1] ] = x_orig\n",
    "\n",
    "    res = []\n",
    "    for i in range( 0, int( ( x_pad.shape[0] - w_rot.shape[0] ) / s[0] ) + 1, s[0] ):\n",
    "        res.append([])\n",
    "        for j in range( 0, int( ( x_pad.shape[1] - w_rot.shape[1] ) / s[1] ) + 1, s[1] ):\n",
    "            x_sub = x_padded[i:i+w_rot.shape[0], j:j+w_rot.shape[1]]\n",
    "            ret[-1].append(np.sum(x_sub * w_rot))\n",
    "    return res"
   ]
  }
 ],
 "metadata": {
  "kernelspec": {
   "display_name": "Python 3 (ipykernel)",
   "language": "python",
   "name": "python3"
  },
  "language_info": {
   "codemirror_mode": {
    "name": "ipython",
    "version": 3
   },
   "file_extension": ".py",
   "mimetype": "text/x-python",
   "name": "python",
   "nbconvert_exporter": "python",
   "pygments_lexer": "ipython3",
   "version": "3.12.1"
  }
 },
 "nbformat": 4,
 "nbformat_minor": 5
}
