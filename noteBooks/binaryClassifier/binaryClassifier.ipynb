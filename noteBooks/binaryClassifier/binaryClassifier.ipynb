{
 "cells": [
  {
   "cell_type": "markdown",
   "id": "7fbb748f-442f-4d71-8620-e09e999d8d3f",
   "metadata": {},
   "source": [
    "# Coding The Perceptron"
   ]
  },
  {
   "cell_type": "code",
   "execution_count": null,
   "id": "c9bdd593-f8ae-4a38-8088-ca48f24a22d4",
   "metadata": {},
   "outputs": [],
   "source": [
    "import numpy as np"
   ]
  },
  {
   "cell_type": "code",
   "execution_count": null,
   "id": "ae376ae6-205d-40a9-ba93-1027ce38328c",
   "metadata": {},
   "outputs": [],
   "source": [
    "# rgen has a lot of methods. One of them, which is the one we are using\n",
    "# `normal`. Basicaly, it is a normal distribution that we can control and get\n",
    "# random values from.\n",
    "# We will use this to initialize our weights.\n",
    "\n",
    "rgen = np.random.RandomState(10)\n",
    "rgen.normal(loc = 0.0, scale = 0.001, size = 10)"
   ]
  },
  {
   "cell_type": "code",
   "execution_count": null,
   "id": "50453e2d-dc83-496d-89b0-24e1a35aa723",
   "metadata": {},
   "outputs": [],
   "source": [
    "# this method is used to make a float?\n",
    "b = np.float_(0.)\n",
    "b"
   ]
  },
  {
   "cell_type": "code",
   "execution_count": null,
   "id": "96ff0b09-1e6a-4a11-b3f5-4b4d22f42bb3",
   "metadata": {},
   "outputs": [],
   "source": [
    "# The zip() mehtod, in this sceneario is used to create a `coordinate point` if you will.\n",
    "# As you can see it made a tuple of the corresponding indices of each array.\n",
    "\n",
    "x = [1,2,3]\n",
    "y = [4,5,6]\n",
    "\n",
    "zipped = zip(x,y)\n",
    "\n",
    "print(\"List:\",list(zipped))\n",
    "\n",
    "for x,y in zip(x,y):\n",
    "    print(f\"X: {x}\")\n",
    "    print(f\"Y: {y} \\n\")"
   ]
  },
  {
   "cell_type": "code",
   "execution_count": null,
   "id": "6d1d90bc-2519-47a6-b950-6b5ef0668d1f",
   "metadata": {},
   "outputs": [],
   "source": [
    "# When dealing with numpy arrays, we can specify conditions where certain modifications can happen at these conditions.\n",
    "\n",
    "a = np.arange(10)\n",
    "np.where( a > 4, a*3, a)"
   ]
  },
  {
   "cell_type": "code",
   "execution_count": null,
   "id": "1fc15694-6e6d-44ca-9429-728b1835e8e3",
   "metadata": {},
   "outputs": [],
   "source": [
    "# This class will act as our main perceptron to train.\n",
    "\n",
    "class perceptron:\n",
    "    \n",
    "    def __init__( self, eta = 0.01, n_iter = 50, random_state = 1 ):\n",
    "        self.eta = eta\n",
    "        self.n_iter = n_iter\n",
    "        self.random_state = random_state\n",
    "\n",
    "    # Derivative = 0\n",
    "    def fit(self, x, y): \n",
    "        rgen = np.random.RandomState(self.random_state)\n",
    "        self.w_ = rgen.normal( loc = 0.0, scale = 0.01, size = x.shape[1] )\n",
    "        self.b_ = np.float_(0.)\n",
    "        self.errors_ = []\n",
    "\n",
    "        for _ in range(self.n_iter):\n",
    "            errors = 0\n",
    "            for xi, target in zip(x,y):\n",
    "                update = self.eta * ( target - self.perdict(xi))\n",
    "                self.w_ += update*xi\n",
    "                self.b_ += update\n",
    "                errors += (int)( update != 0.0 )\n",
    "            self.erros_.append(errors)\n",
    "        return self\n",
    "\n",
    "    # Y = W . X + B ( dot prod calc ) \n",
    "    def net_input( self, x ):\n",
    "        return ( np.dot(self.w_ , x) + self.b_ )\n",
    "\n",
    "    def predict( self, x ):\n",
    "        return np.where(self.net_input(x) >= 0.0, 1, 0)\n"
   ]
  },
  {
   "cell_type": "markdown",
   "id": "35cfe09d-cb3b-41e1-bfda-3e2ecba83c08",
   "metadata": {},
   "source": [
    "# Downloading The Dataset."
   ]
  },
  {
   "cell_type": "code",
   "execution_count": null,
   "id": "94864aec-03e9-4b0b-b8e3-053c64cfc46e",
   "metadata": {},
   "outputs": [],
   "source": [
    "# Importing the dataset\n",
    "import os\n",
    "import pandas as pd\n",
    "s = 'https://archive.ics.uci.edu/ml/machine-learning-databases/iris/iris.data'\n",
    "df = pd.read_csv(s, header=None, encoding=\"utf-8\")"
   ]
  },
  {
   "cell_type": "code",
   "execution_count": null,
   "id": "4b262880-3c14-4f28-81c7-785b5e2bfcdc",
   "metadata": {},
   "outputs": [],
   "source": [
    "df.head()"
   ]
  },
  {
   "cell_type": "code",
   "execution_count": 123,
   "id": "d0692a8a-dcbf-473e-8f73-27bfb6367c9c",
   "metadata": {},
   "outputs": [
    {
     "data": {
      "text/plain": [
       "[]"
      ]
     },
     "execution_count": 123,
     "metadata": {},
     "output_type": "execute_result"
    },
    {
     "data": {
      "image/png": "[encoded data removed]",
      "text/plain": [
       "<Figure size 640x480 with 1 Axes>"
      ]
     },
     "metadata": {},
     "output_type": "display_data"
    }
   ],
   "source": [
    "import matplotlib.pyplot as plt\n",
    "import numpy as np\n",
    "\n",
    "# This .iloc function gives us the ability to visualize data based on rows and coloumns we choose.\n",
    "y = df.iloc[0:100, 4].values\n",
    "y = np.where( y == \"Iris-setosa\", 0, 1)\n",
    "x = df.iloc[0:100, [0,2]].values\n",
    "\n",
    "# plot configs.\n",
    "plt.scatter( x[0:50, 0], x[0:50, 1] , marker = 'o', color = 'r', label = \"setosa\" )\n",
    "plt.scatter( x[50:100, 0], x[50:100, 1] , marker = 'o', color = 'b', label = \"digeri\" )\n",
    "plt.xlabel('digeri [cm]')\n",
    "plt.ylabel('setosa [cm]')\n",
    "plt.legend(loc=\"upper left\")\n",
    "plt.plot()"
   ]
  },
  {
   "cell_type": "code",
   "execution_count": null,
   "id": "e4444ec9-2bb2-4b17-840f-042cca5929a9",
   "metadata": {},
   "outputs": [],
   "source": [
    "print(type(x))"
   ]
  },
  {
   "cell_type": "code",
   "execution_count": null,
   "id": "39d0cb18-756e-4f48-8003-161f6eb2415d",
   "metadata": {},
   "outputs": [],
   "source": [
    "y"
   ]
  }
 ],
 "metadata": {
  "kernelspec": {
   "display_name": "Python (ml)",
   "language": "python",
   "name": "ml"
  },
  "language_info": {
   "codemirror_mode": {
    "name": "ipython",
    "version": 3
   },
   "file_extension": ".py",
   "mimetype": "text/x-python",
   "name": "python",
   "nbconvert_exporter": "python",
   "pygments_lexer": "ipython3",
   "version": "3.12.3"
  }
 },
 "nbformat": 4,
 "nbformat_minor": 5
}
