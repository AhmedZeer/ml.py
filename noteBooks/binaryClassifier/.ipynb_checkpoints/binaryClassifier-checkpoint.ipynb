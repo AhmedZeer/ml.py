{
 "cells": [
  {
   "cell_type": "markdown",
   "id": "7fbb748f-442f-4d71-8620-e09e999d8d3f",
   "metadata": {},
   "source": [
    "# Coding The Perceptron"
   ]
  },
  {
   "cell_type": "code",
   "execution_count": null,
   "id": "c9bdd593-f8ae-4a38-8088-ca48f24a22d4",
   "metadata": {},
   "outputs": [],
   "source": [
    "import numpy as np"
   ]
  },
  {
   "cell_type": "code",
   "execution_count": null,
   "id": "ae376ae6-205d-40a9-ba93-1027ce38328c",
   "metadata": {},
   "outputs": [],
   "source": [
    "# rgen has a lot of methods. One of them, which is the one we are using\n",
    "# `normal`. Basicaly, it is a normal distribution that we can control and get\n",
    "# random values from.\n",
    "# We will use this to initialize our weights.\n",
    "\n",
    "rgen = np.random.RandomState(10)\n",
    "rgen.normal(loc = 0.0, scale = 0.001, size = 10)"
   ]
  },
  {
   "cell_type": "code",
   "execution_count": null,
   "id": "50453e2d-dc83-496d-89b0-24e1a35aa723",
   "metadata": {},
   "outputs": [],
   "source": [
    "# this method is used to make a float?\n",
    "b = np.float_(0.)\n",
    "b"
   ]
  },
  {
   "cell_type": "code",
   "execution_count": null,
   "id": "96ff0b09-1e6a-4a11-b3f5-4b4d22f42bb3",
   "metadata": {},
   "outputs": [],
   "source": [
    "# The zip() mehtod, in this sceneario is used to create a `coordinate point` if you will.\n",
    "# As you can see it made a tuple of the corresponding indices of each array.\n",
    "\n",
    "x = [1,2,3]\n",
    "y = [4,5,6]\n",
    "\n",
    "zipped = zip(x,y)\n",
    "\n",
    "print(\"List:\",list(zipped))\n",
    "\n",
    "for x,y in zip(x,y):\n",
    "    print(f\"X: {x}\")\n",
    "    print(f\"Y: {y} \\n\")"
   ]
  },
  {
   "cell_type": "code",
   "execution_count": null,
   "id": "6d1d90bc-2519-47a6-b950-6b5ef0668d1f",
   "metadata": {},
   "outputs": [],
   "source": [
    "# When dealing with numpy arrays, we can specify conditions where certain modifications can happen at these conditions.\n",
    "\n",
    "a = np.arange(10)\n",
    "np.where( a > 4, a*3, a)"
   ]
  },
  {
   "cell_type": "code",
   "execution_count": 142,
   "id": "1fc15694-6e6d-44ca-9429-728b1835e8e3",
   "metadata": {},
   "outputs": [],
   "source": [
    "# This class will act as our main perceptron to train.\n",
    "\n",
    "class perceptron:\n",
    "    \n",
    "    def __init__( self, eta = 0.01, n_iter = 50, random_state = 1 ):\n",
    "        self.eta = eta\n",
    "        self.n_iter = n_iter\n",
    "        self.random_state = random_state\n",
    "        \n",
    "    # Y = W . X + B ( dot prod calc ) \n",
    "    def net_input( self, x ):\n",
    "        return ( np.dot(self.w_ , x) + self.b_ )\n",
    "\n",
    "    def predict( self, x ):\n",
    "        return np.where(self.net_input(x) >= 0.0, 1, 0)\n",
    "    \n",
    "    # Derivative = 0\n",
    "    def fit(self, x, y): \n",
    "        rgen = np.random.RandomState(self.random_state)\n",
    "        self.w_ = rgen.normal( loc = 0.0, scale = 0.01, size = x.shape[1] )\n",
    "        self.b_ = np.float_(0.)\n",
    "        self.errors_ = []\n",
    "\n",
    "        for _ in range(self.n_iter):\n",
    "            errors = 0\n",
    "            for xi, target in zip(x,y):\n",
    "                update = self.eta * ( target - self.predict(xi))\n",
    "                self.w_ += update*xi\n",
    "                self.b_ += update\n",
    "                errors += (int)( update != 0.0 )\n",
    "            self.errors_.append(errors)\n",
    "        return self\n",
    "\n",
    "\n"
   ]
  },
  {
   "cell_type": "markdown",
   "id": "35cfe09d-cb3b-41e1-bfda-3e2ecba83c08",
   "metadata": {},
   "source": [
    "# Downloading The Dataset."
   ]
  },
  {
   "cell_type": "code",
   "execution_count": null,
   "id": "94864aec-03e9-4b0b-b8e3-053c64cfc46e",
   "metadata": {},
   "outputs": [],
   "source": [
    "# Importing the dataset\n",
    "import os\n",
    "import pandas as pd\n",
    "s = 'https://archive.ics.uci.edu/ml/machine-learning-databases/iris/iris.data'\n",
    "df = pd.read_csv(s, header=None, encoding=\"utf-8\")"
   ]
  },
  {
   "cell_type": "code",
   "execution_count": null,
   "id": "4b262880-3c14-4f28-81c7-785b5e2bfcdc",
   "metadata": {},
   "outputs": [],
   "source": [
    "df.head()"
   ]
  },
  {
   "cell_type": "code",
   "execution_count": 123,
   "id": "d0692a8a-dcbf-473e-8f73-27bfb6367c9c",
   "metadata": {},
   "outputs": [
    {
     "data": {
      "text/plain": [
       "[]"
      ]
     },
     "execution_count": 123,
     "metadata": {},
     "output_type": "execute_result"
    },
    {
     "data": {
      "image/png": "[encoded data removed]",
      "text/plain": [
       "<Figure size 640x480 with 1 Axes>"
      ]
     },
     "metadata": {},
     "output_type": "display_data"
    }
   ],
   "source": [
    "import matplotlib.pyplot as plt\n",
    "import numpy as np\n",
    "\n",
    "# This .iloc function gives us the ability to visualize data based on rows and coloumns we choose.\n",
    "y = df.iloc[0:100, 4].values\n",
    "y = np.where( y == \"Iris-setosa\", 0, 1)\n",
    "x = df.iloc[0:100, [0,2]].values\n",
    "\n",
    "# plot configs.\n",
    "plt.scatter( x[0:50, 0], x[0:50, 1] , marker = 'o', color = 'r', label = \"setosa\" )\n",
    "plt.scatter( x[50:100, 0], x[50:100, 1] , marker = 'o', color = 'b', label = \"digeri\" )\n",
    "plt.xlabel('digeri [cm]')\n",
    "plt.ylabel('setosa [cm]')\n",
    "plt.legend(loc=\"upper left\")\n",
    "plt.plot()"
   ]
  },
  {
   "cell_type": "markdown",
   "id": "f197bf6f-6448-4cbb-93df-0ca708b964dc",
   "metadata": {},
   "source": [
    "# Training."
   ]
  },
  {
   "cell_type": "code",
   "execution_count": 166,
   "id": "9962b86a-c9b4-4b15-af84-5fc26ed2142f",
   "metadata": {},
   "outputs": [],
   "source": [
    "ppn = perceptron( eta = 0.1, n_iter = 10 )"
   ]
  },
  {
   "cell_type": "code",
   "execution_count": 167,
   "id": "2af8c2fa-3332-43c6-8d64-2036331b338d",
   "metadata": {},
   "outputs": [
    {
     "data": {
      "text/plain": [
       "<__main__.perceptron at 0x702407ef75f0>"
      ]
     },
     "execution_count": 167,
     "metadata": {},
     "output_type": "execute_result"
    }
   ],
   "source": [
    "ppn.fit(x,y)"
   ]
  },
  {
   "cell_type": "code",
   "execution_count": 168,
   "id": "e6938be7-3ac7-400e-9529-af3fa33bc107",
   "metadata": {},
   "outputs": [
    {
     "data": {
      "text/plain": [
       "[<matplotlib.lines.Line2D at 0x7024077d6cf0>]"
      ]
     },
     "execution_count": 168,
     "metadata": {},
     "output_type": "execute_result"
    },
    {
     "data": {
      "image/png": "[encoded data removed]",
      "text/plain": [
       "<Figure size 640x480 with 1 Axes>"
      ]
     },
     "metadata": {},
     "output_type": "display_data"
    }
   ],
   "source": [
    "plt.plot( range( 0, len(ppn.errors_) ) , ppn.errors_)"
   ]
  },
  {
   "cell_type": "code",
   "execution_count": 216,
   "id": "a8a531a7-0818-43ae-83f9-1ea3d7a96dc8",
   "metadata": {},
   "outputs": [
    {
     "data": {
      "text/plain": [
       "array([[4.9, 1.4]])"
      ]
     },
     "execution_count": 216,
     "metadata": {},
     "output_type": "execute_result"
    }
   ],
   "source": [
    "b = 0\n",
    "x[ b == 0, 1]"
   ]
  },
  {
   "cell_type": "code",
   "execution_count": 205,
   "id": "e6f7af9d-45f9-4c07-b3b0-233178aa989c",
   "metadata": {},
   "outputs": [
    {
     "data": {
      "text/plain": [
       "array([4.7, 4.5, 4.9, 4. , 4.6, 4.5, 4.7, 3.3, 4.6, 3.9, 3.5, 4.2, 4. ,\n",
       "       4.7, 3.6, 4.4, 4.5, 4.1, 4.5, 3.9, 4.8, 4. , 4.9, 4.7, 4.3, 4.4,\n",
       "       4.8, 5. , 4.5, 3.5, 3.8, 3.7, 3.9, 5.1, 4.5, 4.5, 4.7, 4.4, 4.1,\n",
       "       4. , 4.4, 4.6, 4. , 3.3, 4.2, 4.2, 4.2, 4.3, 3. , 4.1])"
      ]
     },
     "execution_count": 205,
     "metadata": {},
     "output_type": "execute_result"
    }
   ],
   "source": [
    "a = x[ y == cl[1], 1]\n",
    "a"
   ]
  },
  {
   "cell_type": "code",
   "execution_count": 244,
   "id": "2869b1c5-bc8f-42dd-b37f-e23602bdfef9",
   "metadata": {},
   "outputs": [
    {
     "ename": "TypeError",
     "evalue": "perceptron.predict() missing 1 required positional argument: 'x'",
     "output_type": "error",
     "traceback": [
      "\u001b[0;31m---------------------------------------------------------------------------\u001b[0m",
      "\u001b[0;31mTypeError\u001b[0m                                 Traceback (most recent call last)",
      "Cell \u001b[0;32mIn[244], line 6\u001b[0m\n\u001b[1;32m      2\u001b[0m x2_min, x2_max \u001b[38;5;241m=\u001b[39m ( x[:, \u001b[38;5;241m1\u001b[39m]\u001b[38;5;241m.\u001b[39mmin() \u001b[38;5;241m-\u001b[39m \u001b[38;5;241m1\u001b[39m ), ( x[:, \u001b[38;5;241m1\u001b[39m]\u001b[38;5;241m.\u001b[39mmax() \u001b[38;5;241m+\u001b[39m \u001b[38;5;241m1\u001b[39m )\n\u001b[1;32m      4\u001b[0m xx1, xx2 \u001b[38;5;241m=\u001b[39m np\u001b[38;5;241m.\u001b[39mmeshgrid( np\u001b[38;5;241m.\u001b[39marange( x1_min, x1_max, \u001b[38;5;241m0.2\u001b[39m ), np\u001b[38;5;241m.\u001b[39marange( x2_min, x2_max, \u001b[38;5;241m0.2\u001b[39m ))\n\u001b[0;32m----> 6\u001b[0m \u001b[43mperceptron\u001b[49m\u001b[38;5;241;43m.\u001b[39;49m\u001b[43mpredict\u001b[49m\u001b[43m(\u001b[49m\u001b[43mnp\u001b[49m\u001b[38;5;241;43m.\u001b[39;49m\u001b[43marray\u001b[49m\u001b[43m(\u001b[49m\u001b[43m[\u001b[49m\u001b[43mxx1\u001b[49m\u001b[38;5;241;43m.\u001b[39;49m\u001b[43mravel\u001b[49m\u001b[43m(\u001b[49m\u001b[43m)\u001b[49m\u001b[43m,\u001b[49m\u001b[43m \u001b[49m\u001b[43mxx2\u001b[49m\u001b[38;5;241;43m.\u001b[39;49m\u001b[43mravel\u001b[49m\u001b[43m(\u001b[49m\u001b[43m)\u001b[49m\u001b[43m]\u001b[49m\u001b[43m)\u001b[49m\u001b[43m)\u001b[49m\n\u001b[1;32m      8\u001b[0m \u001b[38;5;66;03m# lab = perceptron.predict( np.array([xx1.ravel(), xx2.ravel()]).T )\u001b[39;00m\n\u001b[1;32m      9\u001b[0m \u001b[38;5;66;03m# lab = lab.reshape(xx1.shape)\u001b[39;00m\n",
      "\u001b[0;31mTypeError\u001b[0m: perceptron.predict() missing 1 required positional argument: 'x'"
     ]
    }
   ],
   "source": [
    "x1_min, x1_max = ( x[:, 0].min() - 1 ), ( x[:, 0].max() + 1 )\n",
    "x2_min, x2_max = ( x[:, 1].min() - 1 ), ( x[:, 1].max() + 1 )\n",
    "\n",
    "xx1, xx2 = np.meshgrid( np.arange( x1_min, x1_max, 0.2 ), np.arange( x2_min, x2_max, 0.2 ))\n",
    "\n",
    "perceptron.predict(np.array([xx1.ravel(), xx2.ravel()]))\n",
    "\n",
    "# lab = perceptron.predict( np.array([xx1.ravel(), xx2.ravel()]).T )\n",
    "# lab = lab.reshape(xx1.shape)"
   ]
  },
  {
   "cell_type": "markdown",
   "id": "9581a89c-284a-467c-a612-12d5efe2c73f",
   "metadata": {},
   "source": [
    "# Plotting."
   ]
  },
  {
   "cell_type": "code",
   "execution_count": 231,
   "id": "f914433e-3031-4d65-9bae-b820d7184a01",
   "metadata": {},
   "outputs": [],
   "source": [
    "from matplotlib.colors import ListedColormap\n",
    "\n",
    "def plot_decision_regions( X, y, classifier, resolution = 0.02 ):\n",
    "    \n",
    "    markers = ( 'o', 's', '<', '>', 'v' )\n",
    "    colors = ( \"red\", \"blue\", \"green\", \"lightgray\", \"cyan\" )\n",
    "    cmap = ListedColormap( colors[:len( np.unique(y)) ] )\n",
    "\n",
    "    x1_min, x1_max = ( X[:, 0].min() - 1 ), ( X[:, 0].max() + 1 )\n",
    "    x2_min, x2_max = ( X[:, 1].min() - 1 ), ( X[:, 1].max() + 1 )\n",
    "\n",
    "    xx1, xx2 = np.meshgrid( np.arange( x1_min, x1_max, resolution ), np.arange( x2_min, x2_max, resolution )) \n",
    "    lab = classifier.predict( np.array([xx1.ravel(), xx2.ravel()]).T )\n",
    "    lab = lab.reshape(xx1.shape)\n",
    "\n",
    "    plt.contourf( xx1, xx2, lab, alpha = 0.3, cmap = cmap )\n",
    "    plt.xlim( xx1.min(), xx1.max() )\n",
    "    plt.ylim( xx2.min(), xx2.max() )\n",
    "\n",
    "    for idx, cl in enumerate(np.unique(y)):\n",
    "        plt.scatter( x = X[ y == cl, 1],\n",
    "                     y = X[ y == cl, 0],\n",
    "                    alpha = 0.8,\n",
    "                    color = colors[idx],\n",
    "                    marker = markers[idx], )"
   ]
  },
  {
   "cell_type": "code",
   "execution_count": 232,
   "id": "7c28f72a-950e-4e06-a233-7aa482998491",
   "metadata": {},
   "outputs": [
    {
     "ename": "TypeError",
     "evalue": "perceptron.net_input() missing 1 required positional argument: 'x'",
     "output_type": "error",
     "traceback": [
      "\u001b[0;31m---------------------------------------------------------------------------\u001b[0m",
      "\u001b[0;31mTypeError\u001b[0m                                 Traceback (most recent call last)",
      "Cell \u001b[0;32mIn[232], line 1\u001b[0m\n\u001b[0;32m----> 1\u001b[0m \u001b[43mplot_decision_regions\u001b[49m\u001b[43m(\u001b[49m\u001b[43m \u001b[49m\u001b[43mx\u001b[49m\u001b[43m,\u001b[49m\u001b[43m \u001b[49m\u001b[43my\u001b[49m\u001b[43m,\u001b[49m\u001b[43m \u001b[49m\u001b[43mperceptron\u001b[49m\u001b[43m)\u001b[49m\n",
      "Cell \u001b[0;32mIn[231], line 13\u001b[0m, in \u001b[0;36mplot_decision_regions\u001b[0;34m(X, y, classifier, resolution)\u001b[0m\n\u001b[1;32m     10\u001b[0m x2_min, x2_max \u001b[38;5;241m=\u001b[39m ( X[:, \u001b[38;5;241m1\u001b[39m]\u001b[38;5;241m.\u001b[39mmin() \u001b[38;5;241m-\u001b[39m \u001b[38;5;241m1\u001b[39m ), ( X[:, \u001b[38;5;241m1\u001b[39m]\u001b[38;5;241m.\u001b[39mmax() \u001b[38;5;241m+\u001b[39m \u001b[38;5;241m1\u001b[39m )\n\u001b[1;32m     12\u001b[0m xx1, xx2 \u001b[38;5;241m=\u001b[39m np\u001b[38;5;241m.\u001b[39mmeshgrid( np\u001b[38;5;241m.\u001b[39marange( x1_min, x1_max, resolution ), np\u001b[38;5;241m.\u001b[39marange( x2_min, x2_max, resolution )) \n\u001b[0;32m---> 13\u001b[0m lab \u001b[38;5;241m=\u001b[39m \u001b[43mclassifier\u001b[49m\u001b[38;5;241;43m.\u001b[39;49m\u001b[43mpredict\u001b[49m\u001b[43m(\u001b[49m\u001b[43m \u001b[49m\u001b[43mclassifier\u001b[49m\u001b[43m,\u001b[49m\u001b[43m \u001b[49m\u001b[43mnp\u001b[49m\u001b[38;5;241;43m.\u001b[39;49m\u001b[43marray\u001b[49m\u001b[43m(\u001b[49m\u001b[43m[\u001b[49m\u001b[43mxx1\u001b[49m\u001b[38;5;241;43m.\u001b[39;49m\u001b[43mravel\u001b[49m\u001b[43m(\u001b[49m\u001b[43m)\u001b[49m\u001b[43m,\u001b[49m\u001b[43m \u001b[49m\u001b[43mxx2\u001b[49m\u001b[38;5;241;43m.\u001b[39;49m\u001b[43mravel\u001b[49m\u001b[43m(\u001b[49m\u001b[43m)\u001b[49m\u001b[43m]\u001b[49m\u001b[43m)\u001b[49m\u001b[38;5;241;43m.\u001b[39;49m\u001b[43mT\u001b[49m\u001b[43m \u001b[49m\u001b[43m)\u001b[49m\n\u001b[1;32m     14\u001b[0m lab \u001b[38;5;241m=\u001b[39m lab\u001b[38;5;241m.\u001b[39mreshape(xx1\u001b[38;5;241m.\u001b[39mshape)\n\u001b[1;32m     16\u001b[0m plt\u001b[38;5;241m.\u001b[39mcontourf( xx1, xx2, lab, alpha \u001b[38;5;241m=\u001b[39m \u001b[38;5;241m0.3\u001b[39m, cmap \u001b[38;5;241m=\u001b[39m cmap )\n",
      "Cell \u001b[0;32mIn[142], line 15\u001b[0m, in \u001b[0;36mperceptron.predict\u001b[0;34m(self, x)\u001b[0m\n\u001b[1;32m     14\u001b[0m \u001b[38;5;28;01mdef\u001b[39;00m \u001b[38;5;21mpredict\u001b[39m( \u001b[38;5;28mself\u001b[39m, x ):\n\u001b[0;32m---> 15\u001b[0m     \u001b[38;5;28;01mreturn\u001b[39;00m np\u001b[38;5;241m.\u001b[39mwhere(\u001b[38;5;28;43mself\u001b[39;49m\u001b[38;5;241;43m.\u001b[39;49m\u001b[43mnet_input\u001b[49m\u001b[43m(\u001b[49m\u001b[43mx\u001b[49m\u001b[43m)\u001b[49m \u001b[38;5;241m>\u001b[39m\u001b[38;5;241m=\u001b[39m \u001b[38;5;241m0.0\u001b[39m, \u001b[38;5;241m1\u001b[39m, \u001b[38;5;241m0\u001b[39m)\n",
      "\u001b[0;31mTypeError\u001b[0m: perceptron.net_input() missing 1 required positional argument: 'x'"
     ]
    }
   ],
   "source": [
    "plot_decision_regions( x, y, perceptron)"
   ]
  }
 ],
 "metadata": {
  "kernelspec": {
   "display_name": "Python (ml)",
   "language": "python",
   "name": "ml"
  },
  "language_info": {
   "codemirror_mode": {
    "name": "ipython",
    "version": 3
   },
   "file_extension": ".py",
   "mimetype": "text/x-python",
   "name": "python",
   "nbconvert_exporter": "python",
   "pygments_lexer": "ipython3",
   "version": "3.12.3"
  }
 },
 "nbformat": 4,
 "nbformat_minor": 5
}
