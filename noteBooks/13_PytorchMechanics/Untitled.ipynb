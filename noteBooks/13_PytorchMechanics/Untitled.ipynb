{
 "cells": [
  {
   "cell_type": "code",
   "execution_count": null,
   "id": "bb661d1e-838c-4240-a30a-f3baf8039660",
   "metadata": {},
   "outputs": [],
   "source": [
    "# OR gate problem"
   ]
  },
  {
   "cell_type": "markdown",
   "id": "c8fe4e8d-70f6-4300-84b9-5cf83431c6df",
   "metadata": {},
   "source": [
    "### Data"
   ]
  },
  {
   "cell_type": "code",
   "execution_count": 36,
   "id": "4cd95ca7-6a56-40b8-9528-fe3b4ce112fd",
   "metadata": {},
   "outputs": [],
   "source": [
    "import torch \n",
    "import torch.nn as nn\n",
    "import numpy as np\n",
    "import matplotlib.pyplot as plt\n",
    "from torch.utils.data import DataLoader, TensorDataset"
   ]
  },
  {
   "cell_type": "code",
   "execution_count": 54,
   "id": "cdadf8dd-195d-4adb-9d4f-b98d50a34592",
   "metadata": {},
   "outputs": [],
   "source": [
    "dataset_size = 400\n",
    "train_size = int(dataset_size * 0.5)\n",
    "test_size = int(dataset_size * 0.5)"
   ]
  },
  {
   "cell_type": "code",
   "execution_count": 56,
   "id": "63ac3450-b44e-4de0-ac2c-01e5cb2994af",
   "metadata": {
    "scrolled": true
   },
   "outputs": [],
   "source": [
    "x = np.random.normal(0, 0.5, size=(dataset_size, 2))*100\n",
    "# x"
   ]
  },
  {
   "cell_type": "code",
   "execution_count": 57,
   "id": "ce9e4b13-a60e-4458-acc1-bf659853af6d",
   "metadata": {
    "scrolled": true
   },
   "outputs": [],
   "source": [
    "y = np.ones(dataset_size)\n",
    "# y"
   ]
  },
  {
   "cell_type": "code",
   "execution_count": 58,
   "id": "be2fba1d-9bed-4a87-bb31-a8e361d91db3",
   "metadata": {
    "scrolled": true
   },
   "outputs": [],
   "source": [
    "y[ x[:,0] * x[:,1] <= 0 ] = 0 \n",
    "# y"
   ]
  },
  {
   "cell_type": "code",
   "execution_count": 59,
   "id": "c5b14fb4-ce8f-4734-be40-fc98431e5580",
   "metadata": {},
   "outputs": [],
   "source": [
    "y_train = torch.tensor(y[:train_size], dtype = torch.float32)\n",
    "x_train = torch.tensor(x[:train_size,:], dtype = torch.float32)\n",
    "\n",
    "y_valid = torch.tensor(y[train_size:], dtype = torch.float32)\n",
    "x_valid = torch.tensor(x[train_size:,:], dtype = torch.float32)"
   ]
  },
  {
   "cell_type": "code",
   "execution_count": 62,
   "id": "990fb3f5-2bda-427d-98f7-1b71784fe6fe",
   "metadata": {},
   "outputs": [],
   "source": [
    "td_train = TensorDataset( x_train, y_train ) "
   ]
  },
  {
   "cell_type": "code",
   "execution_count": 63,
   "id": "8cb6d1c5-5ec0-45bf-a647-adca7ec2d7a9",
   "metadata": {},
   "outputs": [],
   "source": [
    "batch_size = 2\n",
    "dl_train = DataLoader( dataset=td_train, batch_size=batch_size, shuffle=True )"
   ]
  },
  {
   "cell_type": "code",
   "execution_count": 67,
   "id": "2f1e6ec6-7ef1-4ec4-ab8c-af34a16be97d",
   "metadata": {},
   "outputs": [],
   "source": [
    "model = nn.Sequential(\n",
    "    nn.Linear(2,1),\n",
    "    nn.Softmax()\n",
    ")"
   ]
  },
  {
   "cell_type": "code",
   "execution_count": 68,
   "id": "78f3dcc0-dfd0-4b7f-ab4a-561ac0775c3e",
   "metadata": {},
   "outputs": [
    {
     "name": "stderr",
     "output_type": "stream",
     "text": [
      "Z:\\python\\Lib\\site-packages\\tqdm\\auto.py:21: TqdmWarning: IProgress not found. Please update jupyter and ipywidgets. See https://ipywidgets.readthedocs.io/en/stable/user_install.html\n",
      "  from .autonotebook import tqdm as notebook_tqdm\n"
     ]
    }
   ],
   "source": [
    "loss_f = nn.BCELoss()\n",
    "optim  = torch.optim.SGD( lr=0.01, params=model.parameters() ) "
   ]
  },
  {
   "cell_type": "code",
   "execution_count": null,
   "id": "35a0ef78-b386-4112-be2c-54e3b5bdb06e",
   "metadata": {},
   "outputs": [],
   "source": [
    "def train( model, x_val, y_val, dl, n_epochs ):\n",
    "    train_loss = [0] * n_epochs\n",
    "    train_acc = [0] * n_epochs\n",
    "    valid_loss = [0] * n_epochs\n",
    "    valid_acc = [0] * n_epochs\n",
    "    for e in n_epochs:\n",
    "        for x_batch, y_batch in dl:\n",
    "            pred = model(x_batch).squeeze()\n",
    "            cost = loss_f( pred, y_val )\n",
    "            cost.backward()\n",
    "            optim.step()\n",
    "            optim.zero_grad()\n",
    "            train_loss[e] += cost.item()\n",
    "            is_correct = ( pred == y_batch )"
   ]
  }
 ],
 "metadata": {
  "kernelspec": {
   "display_name": "Python 3 (ipykernel)",
   "language": "python",
   "name": "python3"
  },
  "language_info": {
   "codemirror_mode": {
    "name": "ipython",
    "version": 3
   },
   "file_extension": ".py",
   "mimetype": "text/x-python",
   "name": "python",
   "nbconvert_exporter": "python",
   "pygments_lexer": "ipython3",
   "version": "3.12.1"
  }
 },
 "nbformat": 4,
 "nbformat_minor": 5
}
