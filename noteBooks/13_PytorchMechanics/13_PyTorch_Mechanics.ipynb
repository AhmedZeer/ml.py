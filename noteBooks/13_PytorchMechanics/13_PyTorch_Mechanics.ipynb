{
 "cells": [
  {
   "cell_type": "markdown",
   "id": "28eb7055-8286-43e8-810e-98787703ff74",
   "metadata": {
    "jp-MarkdownHeadingCollapsed": true
   },
   "source": [
    "### PyTorch's Computation Graphs"
   ]
  },
  {
   "cell_type": "code",
   "execution_count": 1,
   "id": "aaa26b53-7ab9-4d1c-bf06-dbee4995eb79",
   "metadata": {},
   "outputs": [],
   "source": [
    "import torch"
   ]
  },
  {
   "cell_type": "code",
   "execution_count": 7,
   "id": "f7da81e0-65cd-44e5-a8db-abfbe15938f5",
   "metadata": {},
   "outputs": [],
   "source": [
    "def compute_z( a, b, c ):\n",
    "    r1 = torch.sub(a,b)\n",
    "    r2 = torch.mul(r1,2)\n",
    "    z  = torch.add(r2,c)\n",
    "    return z"
   ]
  },
  {
   "cell_type": "code",
   "execution_count": 8,
   "id": "1265d157-81d9-460f-bb31-0964de7450f5",
   "metadata": {},
   "outputs": [
    {
     "data": {
      "text/plain": [
       "tensor(1)"
      ]
     },
     "execution_count": 8,
     "metadata": {},
     "output_type": "execute_result"
    }
   ],
   "source": [
    "compute_z(1,2,3)"
   ]
  },
  {
   "cell_type": "code",
   "execution_count": 10,
   "id": "8a73d704-755c-47b0-9a8c-88e9b278b0ec",
   "metadata": {},
   "outputs": [
    {
     "data": {
      "text/plain": [
       "tensor(1)"
      ]
     },
     "execution_count": 10,
     "metadata": {},
     "output_type": "execute_result"
    }
   ],
   "source": [
    "compute_z(torch.tensor(1),torch.tensor(2),torch.tensor(3))"
   ]
  },
  {
   "cell_type": "code",
   "execution_count": 11,
   "id": "f7eab623-33cd-4145-b901-55818eb7014e",
   "metadata": {},
   "outputs": [
    {
     "data": {
      "text/plain": [
       "tensor([[1]])"
      ]
     },
     "execution_count": 11,
     "metadata": {},
     "output_type": "execute_result"
    }
   ],
   "source": [
    "compute_z(torch.tensor([[1]]),torch.tensor([[2]]),torch.tensor([[3]]))"
   ]
  },
  {
   "cell_type": "markdown",
   "id": "75418b2e-1c39-4abd-9047-02c733da22d7",
   "metadata": {
    "jp-MarkdownHeadingCollapsed": true
   },
   "source": [
    "### Tensors Gradient"
   ]
  },
  {
   "cell_type": "code",
   "execution_count": 20,
   "id": "15be595a-6670-403e-9ffe-3f46537a3803",
   "metadata": {},
   "outputs": [
    {
     "name": "stdout",
     "output_type": "stream",
     "text": [
      "False\n"
     ]
    }
   ],
   "source": [
    "a = torch.tensor([3.123,123,321])\n",
    "print(a.requires_grad)"
   ]
  },
  {
   "cell_type": "code",
   "execution_count": 21,
   "id": "19838619-7096-43d8-b963-3badb3ca6dae",
   "metadata": {},
   "outputs": [
    {
     "name": "stdout",
     "output_type": "stream",
     "text": [
      "True\n"
     ]
    }
   ],
   "source": [
    "a.requires_grad_()\n",
    "print(a.requires_grad)"
   ]
  },
  {
   "cell_type": "markdown",
   "id": "3193bf08-c7bc-46a3-a1c8-cb50778f51d8",
   "metadata": {},
   "source": [
    "The `method_()` methods are in-place functions to increase efficiency."
   ]
  },
  {
   "cell_type": "markdown",
   "id": "27cdaac4-b755-40f4-8826-f62e8b169c04",
   "metadata": {
    "jp-MarkdownHeadingCollapsed": true
   },
   "source": [
    "### Tensors Random Init"
   ]
  },
  {
   "cell_type": "code",
   "execution_count": 22,
   "id": "7236d48c-485e-42f7-b36c-6ce3cfef8e4f",
   "metadata": {},
   "outputs": [],
   "source": [
    "import torch.nn as nn"
   ]
  },
  {
   "cell_type": "code",
   "execution_count": 32,
   "id": "d0c84c32-7c58-4568-8ef2-d84ea77e95ac",
   "metadata": {},
   "outputs": [
    {
     "data": {
      "text/plain": [
       "tensor([[ 0.3244,  0.2392,  1.0183],\n",
       "        [ 0.5733, -0.7506,  1.0690]])"
      ]
     },
     "execution_count": 32,
     "metadata": {},
     "output_type": "execute_result"
    }
   ],
   "source": [
    "a = torch.empty(2,3)\n",
    "nn.init.xavier_normal_(a)"
   ]
  },
  {
   "cell_type": "code",
   "execution_count": 35,
   "id": "e622776c-21dc-44df-8c82-bbbb55e1134a",
   "metadata": {},
   "outputs": [],
   "source": [
    "class myModule( nn.Module ):\n",
    "    def __init__(self):\n",
    "        super().__init__()\n",
    "        self.w1 = torch.empty(2, 3, reqeuire_grad = True )\n",
    "        nn.init.xavier_normal_(self.w1)\n",
    "        self.w2 = torch.empty(1, 2, reqeuire_grad = True )\n",
    "        nn.init.xavier_normal_(self.w2)"
   ]
  },
  {
   "cell_type": "code",
   "execution_count": null,
   "id": "86c5cddb-2a0e-4beb-bb05-10f1c71de43f",
   "metadata": {},
   "outputs": [],
   "source": []
  },
  {
   "cell_type": "markdown",
   "id": "91cfd250-a583-4527-8eed-b47d76ea883c",
   "metadata": {
    "jp-MarkdownHeadingCollapsed": true
   },
   "source": [
    "### Automatic Diffrentation"
   ]
  },
  {
   "cell_type": "code",
   "execution_count": 42,
   "id": "89e370ac-0f0a-42e5-b997-1f8b07231218",
   "metadata": {},
   "outputs": [],
   "source": [
    "w = torch.tensor( (2.0, 3.0), requires_grad = True ) \n",
    "b = torch.tensor( 2.0, requires_grad = True ) \n",
    "x = torch.randn(2)"
   ]
  },
  {
   "cell_type": "code",
   "execution_count": 47,
   "id": "aa9bdaf2-796b-4a75-8cf1-58b3a6b501b2",
   "metadata": {},
   "outputs": [
    {
     "data": {
      "text/plain": [
       "tensor([1.0225, 4.9693], grad_fn=<AddBackward0>)"
      ]
     },
     "execution_count": 47,
     "metadata": {},
     "output_type": "execute_result"
    }
   ],
   "source": [
    "z = (x.mul(w)).add(b)\n",
    "z"
   ]
  },
  {
   "cell_type": "code",
   "execution_count": 56,
   "id": "9e5fda03-e5ac-4289-a452-496f5d4b14fd",
   "metadata": {},
   "outputs": [],
   "source": [
    "y = torch.tensor( [1.5, 4.3] )"
   ]
  },
  {
   "cell_type": "code",
   "execution_count": 60,
   "id": "9c7d2bc3-3f07-43f9-bae6-657090b77075",
   "metadata": {},
   "outputs": [],
   "source": [
    "loss = ( y.sub(z) ).pow(2).sum()"
   ]
  },
  {
   "cell_type": "code",
   "execution_count": 62,
   "id": "7f3f5798-e1c3-49b2-b7ba-dece55d12557",
   "metadata": {},
   "outputs": [
    {
     "name": "stdout",
     "output_type": "stream",
     "text": [
      "dL/dw : tensor([0.4668, 1.3248])\n",
      "dL/db : 0.38347721099853516\n"
     ]
    }
   ],
   "source": [
    "loss.backward()\n",
    "print(f\"dL/dw : {w.grad}\")\n",
    "print(f\"dL/db : {b.grad}\")"
   ]
  },
  {
   "cell_type": "markdown",
   "id": "c961d41e-d3ef-43aa-86d8-ed1505e93035",
   "metadata": {},
   "source": [
    "### nn.Sequential"
   ]
  },
  {
   "cell_type": "code",
   "execution_count": null,
   "id": "d513b7eb-a7f2-4724-901b-b9ed7dcb3937",
   "metadata": {},
   "outputs": [],
   "source": [
    "'''\n",
    "    In order to bind some nn.modules after each other we can\n",
    "    use this method. It is a kind of container that will\n",
    "    execute in a sequential way.\n",
    "'''"
   ]
  },
  {
   "cell_type": "code",
   "execution_count": 64,
   "id": "3f0b4f13-9a01-4d3b-85bd-c76f14b05ecb",
   "metadata": {},
   "outputs": [
    {
     "data": {
      "text/plain": [
       "Sequential(\n",
       "  (0): Linear(in_features=14, out_features=6, bias=True)\n",
       "  (1): ReLU()\n",
       "  (2): Linear(in_features=16, out_features=32, bias=True)\n",
       "  (3): ReLU()\n",
       ")"
      ]
     },
     "execution_count": 64,
     "metadata": {},
     "output_type": "execute_result"
    }
   ],
   "source": [
    "model = nn.Sequential(\n",
    "    nn.Linear(14,6),\n",
    "    nn.ReLU(),\n",
    "    nn.Linear(16,32),\n",
    "    nn.ReLU()\n",
    ")\n",
    "model"
   ]
  },
  {
   "cell_type": "code",
   "execution_count": 75,
   "id": "c1a575e0-4500-4ad0-b360-ddb7cdc1d978",
   "metadata": {},
   "outputs": [
    {
     "data": {
      "text/plain": [
       "tensor(0.6399, grad_fn=<MulBackward0>)"
      ]
     },
     "execution_count": 75,
     "metadata": {},
     "output_type": "execute_result"
    }
   ],
   "source": [
    "nn.init.xavier_uniform_(model[0].weight)\n",
    "l1_weight = 0.01\n",
    "l1_penalty = l1_weight * model[2].weight.abs().sum()\n",
    "l1_penalty"
   ]
  },
  {
   "cell_type": "code",
   "execution_count": 76,
   "id": "411c39f8-8e1b-4672-be5d-e41f608c24f2",
   "metadata": {},
   "outputs": [
    {
     "name": "stderr",
     "output_type": "stream",
     "text": [
      "Z:\\python\\Lib\\site-packages\\tqdm\\auto.py:21: TqdmWarning: IProgress not found. Please update jupyter and ipywidgets. See https://ipywidgets.readthedocs.io/en/stable/user_install.html\n",
      "  from .autonotebook import tqdm as notebook_tqdm\n"
     ]
    }
   ],
   "source": [
    "loss_fn = nn.BCELoss()\n",
    "optim = torch.optim.SGD(lr=0.001, params= model.parameters() )"
   ]
  },
  {
   "cell_type": "code",
   "execution_count": 95,
   "id": "1befb861-78dc-4866-9249-5a95ba162dcb",
   "metadata": {},
   "outputs": [],
   "source": [
    "import numpy as np\n",
    "import matplotlib.pyplot as plt"
   ]
  },
  {
   "cell_type": "code",
   "execution_count": 89,
   "id": "3fd28b2c-3011-47ac-a1f7-7de3c33afa87",
   "metadata": {},
   "outputs": [],
   "source": [
    "gen = np.random.RandomState()"
   ]
  },
  {
   "cell_type": "code",
   "execution_count": 117,
   "id": "a29d1e13-6df1-4cf2-afc9-36cdfe8645b1",
   "metadata": {},
   "outputs": [],
   "source": [
    "X = gen.normal(loc = 0.0, scale = 2, size = 200)\n",
    "y = gen.normal(loc = 0.0, scale = 2, size = 200)"
   ]
  },
  {
   "cell_type": "code",
   "execution_count": 119,
   "id": "f89d282f-d567-4191-a933-0af75ff7b22b",
   "metadata": {},
   "outputs": [
    {
     "data": {
      "image/png": "[encoded data removed]",
      "text/plain": [
       "<Figure size 640x480 with 1 Axes>"
      ]
     },
     "metadata": {},
     "output_type": "display_data"
    }
   ],
   "source": [
    "for x_,y_ in zip(X,y):\n",
    "    if( (x_ > 0 and y_ > 0) or (x_ > 0 and y_ > 0) ):\n",
    "        plt.scatter( x_ , y_, color = \"crimson\" )\n",
    "    elif( (x_ < 0 and y_ > 0) or (x_ > 0 and y_ > 0) ):\n",
    "        plt.scatter( x_ , y_, color = \"blue\" )\n",
    "plt.tight_layout()\n",
    "plt.show()"
   ]
  },
  {
   "cell_type": "code",
   "execution_count": 108,
   "id": "1bcbe7a2-3ac6-4f6f-99b5-75582b340138",
   "metadata": {},
   "outputs": [
    {
     "ename": "TypeError",
     "evalue": "ufunc 'bitwise_and' not supported for the input types, and the inputs could not be safely coerced to any supported types according to the casting rule ''safe''",
     "output_type": "error",
     "traceback": [
      "\u001b[1;31m---------------------------------------------------------------------------\u001b[0m",
      "\u001b[1;31mTypeError\u001b[0m                                 Traceback (most recent call last)",
      "Cell \u001b[1;32mIn[108], line 1\u001b[0m\n\u001b[1;32m----> 1\u001b[0m plt\u001b[38;5;241m.\u001b[39mscatter( X[X \u001b[38;5;241m>\u001b[39m \u001b[38;5;241;43m0\u001b[39;49m\u001b[43m \u001b[49m\u001b[38;5;241;43m&\u001b[39;49m\u001b[43m \u001b[49m\u001b[43my\u001b[49m \u001b[38;5;241m>\u001b[39m \u001b[38;5;241m0\u001b[39m] , y[X \u001b[38;5;241m>\u001b[39m \u001b[38;5;241m0\u001b[39m \u001b[38;5;129;01mand\u001b[39;00m y \u001b[38;5;241m>\u001b[39m \u001b[38;5;241m0\u001b[39m ], color \u001b[38;5;241m=\u001b[39m \u001b[38;5;124m\"\u001b[39m\u001b[38;5;124mcrimson\u001b[39m\u001b[38;5;124m\"\u001b[39m )\n\u001b[0;32m      2\u001b[0m \u001b[38;5;66;03m# plt.scatter( X[X < 0] , y[y < 0], color = \"crimson\" )\u001b[39;00m\n\u001b[0;32m      3\u001b[0m \u001b[38;5;66;03m# plt.scatter( X[X > 0] , y[y < 0], color = \"blue\" )\u001b[39;00m\n\u001b[0;32m      4\u001b[0m \u001b[38;5;66;03m# plt.scatter( X[X < 0] , y[y > 0], color = \"blue\" )\u001b[39;00m\n",
      "\u001b[1;31mTypeError\u001b[0m: ufunc 'bitwise_and' not supported for the input types, and the inputs could not be safely coerced to any supported types according to the casting rule ''safe''"
     ]
    }
   ],
   "source": [
    "plt.scatter( X[X > 0  y > 0] , y[X > 0 and y > 0 ], color = \"crimson\" )\n",
    "# plt.scatter( X[X < 0] , y[y < 0], color = \"crimson\" )\n",
    "# plt.scatter( X[X > 0] , y[y < 0], color = \"blue\" )\n",
    "# plt.scatter( X[X < 0] , y[y > 0], color = \"blue\" )"
   ]
  },
  {
   "cell_type": "code",
   "execution_count": null,
   "id": "ddd00f61-6b14-4b28-b615-78171758a623",
   "metadata": {},
   "outputs": [],
   "source": []
  }
 ],
 "metadata": {
  "kernelspec": {
   "display_name": "Python 3 (ipykernel)",
   "language": "python",
   "name": "python3"
  },
  "language_info": {
   "codemirror_mode": {
    "name": "ipython",
    "version": 3
   },
   "file_extension": ".py",
   "mimetype": "text/x-python",
   "name": "python",
   "nbconvert_exporter": "python",
   "pygments_lexer": "ipython3",
   "version": "3.12.1"
  }
 },
 "nbformat": 4,
 "nbformat_minor": 5
}
