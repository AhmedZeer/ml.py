{
 "cells": [
  {
   "cell_type": "code",
   "execution_count": 1,
   "id": "39a87d2f-b304-4e29-b769-e9951912522a",
   "metadata": {},
   "outputs": [
    {
     "name": "stderr",
     "output_type": "stream",
     "text": [
      "Z:\\python\\Lib\\site-packages\\tqdm\\auto.py:21: TqdmWarning: IProgress not found. Please update jupyter and ipywidgets. See https://ipywidgets.readthedocs.io/en/stable/user_install.html\n",
      "  from .autonotebook import tqdm as notebook_tqdm\n"
     ]
    }
   ],
   "source": [
    "import torch\n",
    "import torch.nn as nn\n",
    "import pytorch_lightning as pl\n",
    "from torchmetrics import Accuracy"
   ]
  },
  {
   "cell_type": "code",
   "execution_count": 27,
   "id": "fffc4948-a00c-4f25-87b4-a0852d45f2b7",
   "metadata": {},
   "outputs": [],
   "source": [
    "class MultiLayer( pl.LightningModule ):\n",
    "    \n",
    "    def __init__(self, image_shape = (1,28,28), hidden_units = (32,16) ):\n",
    "        super().__init__()\n",
    "\n",
    "        # Accuracies.\n",
    "        self.train_acc = Accuracy(task=\"multiclass\", num_classes=10)\n",
    "        self.valid_acc = Accuracy(task=\"multiclass\", num_classes=10)\n",
    "        self.test_acc = Accuracy(task=\"multiclass\", num_classes=10)\n",
    "\n",
    "        self.training_step_outputs = []\n",
    "\n",
    "        # Model.\n",
    "        input_size = image_shape[0] * image_shape[1] * image_shape[2]\n",
    "        all_layers = [nn.Flatten()]\n",
    "\n",
    "        for unit in hidden_units:\n",
    "            all_layers.append(nn.Linear(input_size,unit))\n",
    "            all_layers.append(nn.ReLU())\n",
    "            input_size = unit\n",
    "\n",
    "        all_layers.append( nn.Linear(hidden_units[-1], 10 ) )\n",
    "        self.Model = nn.Sequential( *all_layers )\n",
    "        \n",
    "    \n",
    "    def forward(self, x):\n",
    "        return( self.Model(x) )\n",
    "\n",
    "    def training_step(self, batch, batch_idx):\n",
    "        x,y = batch\n",
    "        logits = self(x)                          # Logits are the outputs before activation.\n",
    "        loss = nn.functional.cross_entropy( logits, y )\n",
    "        pred = torch.argmax( logits, dim=1 )\n",
    "        self.train_acc.update( pred, y )\n",
    "        self.log(\"Train_loss\", loss, prog_bar = True )\n",
    "        self.training_step_outputs.append(loss)\n",
    "        return loss\n",
    "    \n",
    "    def validation_step(self, batch, batch_idx):\n",
    "        x,y = batch\n",
    "        logits = self(x)\n",
    "        loss = nn.functional.cross_entropy( logits, y )\n",
    "        pred = torch.argmax( logits, dim =1 )\n",
    "        self.valid_acc.update( pred, y )\n",
    "        self.log( \"Eval_loss\", loss, prog_bar=True )\n",
    "        self.log( \"Eval_acc\", self.valid_acc.compute(), prog_bar = True ) \n",
    "        return loss\n",
    "\n",
    "    def test_step(self, batch, batch_idx):\n",
    "        x,y = batch\n",
    "        logits = self(x)\n",
    "        loss = nn.functional.cross_entropy( logits, y )\n",
    "        pred = torch.argmax( logits, dim = 1)\n",
    "        self.test_acc.update( pred, y )\n",
    "        self.log(\"Test_loss\", loss, prog_bar = True )\n",
    "        self.log(\"Test_acc\", self.test_acc.compute() )\n",
    "        \n",
    "    def on_train_epoch_end(self):\n",
    "        epoch_average = torch.stack(self.training_step_outputs).mean()\n",
    "        self.log(\"training_epoch_average\", epoch_average)\n",
    "        self.training_step_outputs.clear()  # free memory\n",
    "\n",
    "\n",
    "    def configure_optimizers(self):\n",
    "        optimizer = torch.optim.Adam( lr=0.01, params=self.Model.parameters() )\n",
    "        return optimizer"
   ]
  },
  {
   "cell_type": "code",
   "execution_count": 8,
   "id": "f283461a-a905-4f37-a1e8-2956b879d378",
   "metadata": {},
   "outputs": [],
   "source": [
    "from torchvision import transforms\n",
    "from torchvision.datasets import MNIST\n",
    "from torch.utils.data import DataLoader\n",
    "from torch.utils.data import random_split"
   ]
  },
  {
   "cell_type": "code",
   "execution_count": 39,
   "id": "2370c638-31ea-4ecb-96fd-d84fac18e81d",
   "metadata": {},
   "outputs": [],
   "source": [
    "class MnistDataModule( pl.LightningDataModule ):\n",
    "\n",
    "    def __init__(self, data_path = \"./\" ):\n",
    "        super().__init__()\n",
    "        self.data_path = data_path\n",
    "        self.transform = transforms.Compose( [transforms.ToTensor()] )\n",
    "    \n",
    "    def prepare_data(self):\n",
    "        MNIST( root=self.data_path, download=True )\n",
    "\n",
    "    def setup(self, stage=None):\n",
    "        mnist_all = MNIST( root = self.data_path, download = False, train= True, transform=self.transform ) \n",
    "        self.train, self.val = random_split( mnist_all, [55000,5000], generator=torch.Generator().manual_seed(0) )\n",
    "        self.test = MNIST( train = False, root = self.data_path, transform=self.transform, download=False )\n",
    "        \n",
    "    def train_dataloader(self):\n",
    "        return DataLoader( self.train, batch_size=64, num_workers=4 )\n",
    "                         \n",
    "    def test_dataloader(self):\n",
    "        return DataLoader( self.test, batch_size=64, num_workers=4 )\n",
    "                        \n",
    "    def val_dataloader(self):\n",
    "        return DataLoader( self.val, batch_size=64, num_workers=4 )"
   ]
  },
  {
   "cell_type": "code",
   "execution_count": 40,
   "id": "3067e005-fd07-4026-8500-f6f29fda0329",
   "metadata": {},
   "outputs": [],
   "source": [
    "torch.manual_seed(0)\n",
    "mnist = MnistDataModule()"
   ]
  },
  {
   "cell_type": "code",
   "execution_count": 41,
   "id": "d8e28627-7a1c-48ef-adc6-dd0b07b721bd",
   "metadata": {},
   "outputs": [],
   "source": [
    "clf = MultiLayer()"
   ]
  },
  {
   "cell_type": "code",
   "execution_count": 42,
   "id": "a8b03ee5-70d5-4b0b-aaeb-53d2655ae390",
   "metadata": {},
   "outputs": [
    {
     "name": "stderr",
     "output_type": "stream",
     "text": [
      "GPU available: False, used: False\n",
      "TPU available: False, using: 0 TPU cores\n",
      "HPU available: False, using: 0 HPUs\n"
     ]
    }
   ],
   "source": [
    "trainer = pl.Trainer( max_epochs = 10 )"
   ]
  },
  {
   "cell_type": "code",
   "execution_count": null,
   "id": "100cc9dd-c62b-45a6-8762-03b66c339fec",
   "metadata": {},
   "outputs": [],
   "source": [
    "trainer.fit( datamodule = mnist, model = clf )"
   ]
  },
  {
   "cell_type": "code",
   "execution_count": 45,
   "id": "4c5fffe7-eca5-4398-a83d-7d1bab338396",
   "metadata": {},
   "outputs": [
    {
     "name": "stderr",
     "output_type": "stream",
     "text": [
      "Z:\\python\\Lib\\site-packages\\pytorch_lightning\\trainer\\connectors\\data_connector.py:419: Consider setting `persistent_workers=True` in 'test_dataloader' to speed up the dataloader worker initialization.\n"
     ]
    },
    {
     "name": "stdout",
     "output_type": "stream",
     "text": [
      "Testing DataLoader 0: 100%|█████████████████████████████████████████████████████████| 157/157 [00:00<00:00, 249.60it/s]\n"
     ]
    },
    {
     "data": {
      "text/html": [
       "<pre style=\"white-space:pre;overflow-x:auto;line-height:normal;font-family:Menlo,'DejaVu Sans Mono',consolas,'Courier New',monospace\">┏━━━━━━━━━━━━━━━━━━━━━━━━━━━┳━━━━━━━━━━━━━━━━━━━━━━━━━━━┓\n",
       "┃<span style=\"font-weight: bold\">        Test metric        </span>┃<span style=\"font-weight: bold\">       DataLoader 0        </span>┃\n",
       "┡━━━━━━━━━━━━━━━━━━━━━━━━━━━╇━━━━━━━━━━━━━━━━━━━━━━━━━━━┩\n",
       "│<span style=\"color: #008080; text-decoration-color: #008080\">         Test_acc          </span>│<span style=\"color: #800080; text-decoration-color: #800080\">    0.9549301862716675     </span>│\n",
       "│<span style=\"color: #008080; text-decoration-color: #008080\">         Test_loss         </span>│<span style=\"color: #800080; text-decoration-color: #800080\">    0.1755753457546234     </span>│\n",
       "└───────────────────────────┴───────────────────────────┘\n",
       "</pre>\n"
      ],
      "text/plain": [
       "┏━━━━━━━━━━━━━━━━━━━━━━━━━━━┳━━━━━━━━━━━━━━━━━━━━━━━━━━━┓\n",
       "┃\u001b[1m \u001b[0m\u001b[1m       Test metric       \u001b[0m\u001b[1m \u001b[0m┃\u001b[1m \u001b[0m\u001b[1m      DataLoader 0       \u001b[0m\u001b[1m \u001b[0m┃\n",
       "┡━━━━━━━━━━━━━━━━━━━━━━━━━━━╇━━━━━━━━━━━━━━━━━━━━━━━━━━━┩\n",
       "│\u001b[36m \u001b[0m\u001b[36m        Test_acc         \u001b[0m\u001b[36m \u001b[0m│\u001b[35m \u001b[0m\u001b[35m   0.9549301862716675    \u001b[0m\u001b[35m \u001b[0m│\n",
       "│\u001b[36m \u001b[0m\u001b[36m        Test_loss        \u001b[0m\u001b[36m \u001b[0m│\u001b[35m \u001b[0m\u001b[35m   0.1755753457546234    \u001b[0m\u001b[35m \u001b[0m│\n",
       "└───────────────────────────┴───────────────────────────┘\n"
      ]
     },
     "metadata": {},
     "output_type": "display_data"
    },
    {
     "data": {
      "text/plain": [
       "[{'Test_loss': 0.1755753457546234, 'Test_acc': 0.9549301862716675}]"
      ]
     },
     "execution_count": 45,
     "metadata": {},
     "output_type": "execute_result"
    }
   ],
   "source": [
    "trainer.test( datamodule = mnist, model = clf )"
   ]
  },
  {
   "cell_type": "code",
   "execution_count": null,
   "id": "0678f0ec-3de4-4b46-bd26-bc144a10c6f1",
   "metadata": {},
   "outputs": [],
   "source": []
  }
 ],
 "metadata": {
  "kernelspec": {
   "display_name": "Python 3 (ipykernel)",
   "language": "python",
   "name": "python3"
  },
  "language_info": {
   "codemirror_mode": {
    "name": "ipython",
    "version": 3
   },
   "file_extension": ".py",
   "mimetype": "text/x-python",
   "name": "python",
   "nbconvert_exporter": "python",
   "pygments_lexer": "ipython3",
   "version": "3.12.1"
  }
 },
 "nbformat": 4,
 "nbformat_minor": 5
}
