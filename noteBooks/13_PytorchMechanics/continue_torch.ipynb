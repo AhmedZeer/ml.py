{
 "cells": [
  {
   "cell_type": "markdown",
   "id": "256c019c-a57a-462e-ba09-ba67b97c9373",
   "metadata": {
    "jp-MarkdownHeadingCollapsed": true
   },
   "source": [
    "### NN test"
   ]
  },
  {
   "cell_type": "code",
   "execution_count": 1,
   "id": "c0c9d3ba-7ed5-4e3f-8d30-9e1142aa38c1",
   "metadata": {},
   "outputs": [],
   "source": [
    "import torch\n",
    "import torch.nn as nn"
   ]
  },
  {
   "cell_type": "code",
   "execution_count": 9,
   "id": "3a7f5c8c-db33-4174-bf85-960cf0a9f718",
   "metadata": {},
   "outputs": [
    {
     "data": {
      "text/plain": [
       "tensor([[0., 0., 0.],\n",
       "        [0., 0., 0.]])"
      ]
     },
     "execution_count": 9,
     "metadata": {},
     "output_type": "execute_result"
    }
   ],
   "source": [
    "torch.Tensor( 2,3 ).fill_(0)"
   ]
  },
  {
   "cell_type": "code",
   "execution_count": 70,
   "id": "ec099911-b589-4322-82d1-5e1f4d4745c9",
   "metadata": {},
   "outputs": [],
   "source": [
    "class NoisyLinear( nn.Module ):\n",
    "    def __init__( self, input_size, output_size, stddev = 0.1 ):\n",
    "        super().__init__()\n",
    "        w = torch.Tensor( input_size, output_size )\n",
    "        self.w = nn.Parameter(w)\n",
    "        nn.init.xavier_normal_(w)\n",
    "\n",
    "        b = torch.Tensor( output_size ).fill_(0)\n",
    "        self.b = nn.Parameter(b)\n",
    "        self.stddev_noise = stddev\n",
    "\n",
    "    def forward( self, x, is_training = False ):\n",
    "        if is_training:\n",
    "            noise = torch.normal( 0.0,  self.stddev_noise, x.shape )\n",
    "            new_x = torch.add( x, noise )\n",
    "        else:\n",
    "            new_x = x\n",
    "        return torch.add(torch.mm( new_x, self.w ), self.b )        "
   ]
  },
  {
   "cell_type": "code",
   "execution_count": 171,
   "id": "364a8b90-7901-46b2-9f64-f4dd8889af16",
   "metadata": {},
   "outputs": [],
   "source": [
    "n_linear = NoisyLinear(2,4)"
   ]
  },
  {
   "cell_type": "code",
   "execution_count": 72,
   "id": "fdd8b8a6-08d3-4873-87eb-8e9880c38fa3",
   "metadata": {},
   "outputs": [
    {
     "data": {
      "text/plain": [
       "tensor([[0., 0., 0., 0.]])"
      ]
     },
     "execution_count": 72,
     "metadata": {},
     "output_type": "execute_result"
    }
   ],
   "source": [
    "x = torch.zeros(1,4)\n",
    "x"
   ]
  },
  {
   "cell_type": "code",
   "execution_count": 73,
   "id": "1859bb09-5dbc-4c22-87a2-ab70d8454ca0",
   "metadata": {},
   "outputs": [
    {
     "data": {
      "text/plain": [
       "tensor([[-0.0864,  0.1710, -0.1147,  0.2150]])"
      ]
     },
     "execution_count": 73,
     "metadata": {},
     "output_type": "execute_result"
    }
   ],
   "source": [
    "torch.normal( 0.0,  0.1, x.shape )"
   ]
  },
  {
   "cell_type": "code",
   "execution_count": 88,
   "id": "af804354-9a36-46dc-881d-74cf46e14c48",
   "metadata": {},
   "outputs": [
    {
     "data": {
      "text/plain": [
       "tensor([[0., 0.]], grad_fn=<AddBackward0>)"
      ]
     },
     "execution_count": 88,
     "metadata": {},
     "output_type": "execute_result"
    }
   ],
   "source": [
    "n_linear(x, is_training = True )\n",
    "n_linear(x, is_training = False )"
   ]
  },
  {
   "cell_type": "code",
   "execution_count": 181,
   "id": "9ec2eb3b-f9fd-4f99-bac5-07ed1bb4f7ec",
   "metadata": {},
   "outputs": [],
   "source": [
    "class MyNoisyModel( nn.Module ):\n",
    "    \n",
    "    def __init__( self ):\n",
    "        super().__init__()\n",
    "        self.l1 = NoisyLinear(2,4,1.5)\n",
    "        self.a1 = nn.ReLU()\n",
    "        self.l2 = nn.Linear( 4, 4 )\n",
    "        self.a2 = nn.ReLU()\n",
    "        self.l3 = nn.Linear( 4, 1 )\n",
    "        self.a3 = nn.Sigmoid()\n",
    "    \n",
    "    def forward( self, x ):\n",
    "        x = self.l1(x, is_training = True)\n",
    "        x = self.a1(x)\n",
    "        x = self.l2(x)\n",
    "        x = self.a2(x)\n",
    "        x = self.l3(x)\n",
    "        x = self.a3(x)\n",
    "        return x\n",
    "    \n",
    "    def predict( self, x ):\n",
    "        x = torch.tensor( x, dtype=torch.float32 )\n",
    "        pred = self.forward(x).squeeze()\n",
    "        return ( pred >= 0.5 ).float()"
   ]
  },
  {
   "cell_type": "code",
   "execution_count": 182,
   "id": "a6c51ae5-c68a-443a-b4ee-559c5c4f88fc",
   "metadata": {},
   "outputs": [],
   "source": [
    "model = MyNoisyModel()\n",
    "loss_f = nn.BCELoss()\n",
    "optimizer = torch.optim.SGD( model.parameters(), lr=0.01 )\n",
    "n_epochs = 100"
   ]
  },
  {
   "cell_type": "code",
   "execution_count": 183,
   "id": "9695a49c-4b54-4506-92ee-f67e1f1297c0",
   "metadata": {
    "scrolled": true
   },
   "outputs": [
    {
     "data": {
      "text/plain": [
       "tensor([[0.5012],\n",
       "        [0.4646],\n",
       "        [0.4682],\n",
       "        [0.4674],\n",
       "        [0.4682],\n",
       "        [0.4766],\n",
       "        [0.5002],\n",
       "        [0.4763],\n",
       "        [0.4642],\n",
       "        [0.4645],\n",
       "        [0.4970],\n",
       "        [0.4682],\n",
       "        [0.5084],\n",
       "        [0.4904],\n",
       "        [0.4945],\n",
       "        [0.4682],\n",
       "        [0.5281],\n",
       "        [0.5086],\n",
       "        [0.4682],\n",
       "        [0.4611],\n",
       "        [0.4970],\n",
       "        [0.4682],\n",
       "        [0.4935],\n",
       "        [0.4829],\n",
       "        [0.4680],\n",
       "        [0.4825],\n",
       "        [0.4577],\n",
       "        [0.4555],\n",
       "        [0.4682],\n",
       "        [0.5090],\n",
       "        [0.4667],\n",
       "        [0.5151],\n",
       "        [0.4925],\n",
       "        [0.4868],\n",
       "        [0.4882],\n",
       "        [0.4777],\n",
       "        [0.4998],\n",
       "        [0.4529],\n",
       "        [0.4868],\n",
       "        [0.4879],\n",
       "        [0.4696],\n",
       "        [0.5350],\n",
       "        [0.4799],\n",
       "        [0.4715],\n",
       "        [0.4682],\n",
       "        [0.4938],\n",
       "        [0.4883],\n",
       "        [0.4783],\n",
       "        [0.4827],\n",
       "        [0.4682],\n",
       "        [0.5147],\n",
       "        [0.4881],\n",
       "        [0.4772],\n",
       "        [0.4806],\n",
       "        [0.5175],\n",
       "        [0.4671],\n",
       "        [0.4682],\n",
       "        [0.5036],\n",
       "        [0.5349],\n",
       "        [0.4612],\n",
       "        [0.4795],\n",
       "        [0.4624],\n",
       "        [0.4928],\n",
       "        [0.4788],\n",
       "        [0.4829],\n",
       "        [0.4936],\n",
       "        [0.5362],\n",
       "        [0.4713],\n",
       "        [0.5026],\n",
       "        [0.5033],\n",
       "        [0.4507],\n",
       "        [0.4604],\n",
       "        [0.4682],\n",
       "        [0.4682],\n",
       "        [0.4734],\n",
       "        [0.4681],\n",
       "        [0.4680],\n",
       "        [0.4652],\n",
       "        [0.4995],\n",
       "        [0.4706],\n",
       "        [0.4682],\n",
       "        [0.4753],\n",
       "        [0.4555],\n",
       "        [0.4666],\n",
       "        [0.4819],\n",
       "        [0.5016],\n",
       "        [0.4771],\n",
       "        [0.4668],\n",
       "        [0.5033],\n",
       "        [0.5193],\n",
       "        [0.5318],\n",
       "        [0.4632],\n",
       "        [0.4958],\n",
       "        [0.5070],\n",
       "        [0.4984],\n",
       "        [0.4807],\n",
       "        [0.4682],\n",
       "        [0.5027],\n",
       "        [0.4682],\n",
       "        [0.5012]], grad_fn=<SigmoidBackward0>)"
      ]
     },
     "execution_count": 183,
     "metadata": {},
     "output_type": "execute_result"
    }
   ],
   "source": [
    "model(x_train)"
   ]
  },
  {
   "cell_type": "code",
   "execution_count": 145,
   "id": "8b4f60a2-258d-4f6a-b7d1-d032fe3d7ceb",
   "metadata": {},
   "outputs": [],
   "source": [
    "from torch.utils.data import DataLoader, TensorDataset\n",
    "import matplotlib.pyplot as plt\n",
    "import numpy as np\n",
    "torch.manual_seed(1)\n",
    "np.random.seed(1)\n",
    "x = np.random.uniform(low=-1, high=1, size=(200, 2))\n",
    "y = np.ones(len(x))\n",
    "y[x[:, 0] * x[:, 1]<0] = 0\n",
    "n_train = 100\n",
    "x_train = torch.tensor(x[:n_train, :], dtype=torch.float32)\n",
    "y_train = torch.tensor(y[:n_train], dtype=torch.float32)\n",
    "x_valid = torch.tensor(x[n_train:, :], dtype=torch.float32)\n",
    "y_valid = torch.tensor(y[n_train:], dtype=torch.float32)\n",
    "train_ds = TensorDataset(x_train, y_train)\n",
    "batch_size = 2\n",
    "torch.manual_seed(1)\n",
    "train_dl = DataLoader(train_ds, batch_size, shuffle=True)"
   ]
  },
  {
   "cell_type": "code",
   "execution_count": 155,
   "id": "e2dfe5b8-4369-4b5a-bbd8-77017d9752e8",
   "metadata": {},
   "outputs": [
    {
     "data": {
      "text/plain": [
       "tensor([[ 0.8172, -0.4128],\n",
       "        [-0.5911,  0.7562]])"
      ]
     },
     "execution_count": 155,
     "metadata": {},
     "output_type": "execute_result"
    }
   ],
   "source": [
    "x_batch"
   ]
  },
  {
   "cell_type": "code",
   "execution_count": 201,
   "id": "4ae738b5-e489-48dd-ba82-3a9728d38d19",
   "metadata": {
    "scrolled": true
   },
   "outputs": [
    {
     "name": "stdout",
     "output_type": "stream",
     "text": [
      "Epoch 1/100 - Train Loss: 0.6937, Train Acc: 0.5400\n",
      "Epoch 1/100 - Val Loss: 0.6798, Val Acc: 0.6900\n",
      "Epoch 2/100 - Train Loss: 0.6946, Train Acc: 0.5100\n",
      "Epoch 2/100 - Val Loss: 0.6803, Val Acc: 0.6400\n",
      "Epoch 3/100 - Train Loss: 0.6990, Train Acc: 0.5000\n",
      "Epoch 3/100 - Val Loss: 0.6814, Val Acc: 0.5500\n",
      "Epoch 4/100 - Train Loss: 0.6974, Train Acc: 0.4500\n",
      "Epoch 4/100 - Val Loss: 0.6825, Val Acc: 0.5500\n",
      "Epoch 5/100 - Train Loss: 0.6937, Train Acc: 0.5400\n",
      "Epoch 5/100 - Val Loss: 0.6832, Val Acc: 0.5400\n",
      "Epoch 6/100 - Train Loss: 0.7023, Train Acc: 0.4900\n",
      "Epoch 6/100 - Val Loss: 0.6841, Val Acc: 0.5300\n",
      "Epoch 7/100 - Train Loss: 0.6901, Train Acc: 0.5100\n",
      "Epoch 7/100 - Val Loss: 0.6843, Val Acc: 0.5300\n",
      "Epoch 8/100 - Train Loss: 0.6958, Train Acc: 0.5400\n",
      "Epoch 8/100 - Val Loss: 0.6856, Val Acc: 0.5300\n",
      "Epoch 9/100 - Train Loss: 0.6822, Train Acc: 0.5400\n",
      "Epoch 9/100 - Val Loss: 0.6848, Val Acc: 0.5300\n",
      "Epoch 10/100 - Train Loss: 0.6928, Train Acc: 0.5400\n",
      "Epoch 10/100 - Val Loss: 0.6854, Val Acc: 0.5300\n",
      "Epoch 11/100 - Train Loss: 0.6937, Train Acc: 0.4800\n",
      "Epoch 11/100 - Val Loss: 0.6860, Val Acc: 0.5300\n",
      "Epoch 12/100 - Train Loss: 0.6954, Train Acc: 0.4900\n",
      "Epoch 12/100 - Val Loss: 0.6864, Val Acc: 0.5300\n",
      "Epoch 13/100 - Train Loss: 0.6827, Train Acc: 0.5600\n",
      "Epoch 13/100 - Val Loss: 0.6858, Val Acc: 0.5300\n",
      "Epoch 14/100 - Train Loss: 0.6867, Train Acc: 0.5600\n",
      "Epoch 14/100 - Val Loss: 0.6852, Val Acc: 0.5300\n",
      "Epoch 15/100 - Train Loss: 0.6896, Train Acc: 0.5200\n",
      "Epoch 15/100 - Val Loss: 0.6856, Val Acc: 0.5300\n",
      "Epoch 16/100 - Train Loss: 0.6926, Train Acc: 0.5500\n",
      "Epoch 16/100 - Val Loss: 0.6858, Val Acc: 0.5300\n",
      "Epoch 17/100 - Train Loss: 0.6980, Train Acc: 0.5000\n",
      "Epoch 17/100 - Val Loss: 0.6861, Val Acc: 0.5300\n",
      "Epoch 18/100 - Train Loss: 0.6841, Train Acc: 0.5700\n",
      "Epoch 18/100 - Val Loss: 0.6858, Val Acc: 0.5300\n",
      "Epoch 19/100 - Train Loss: 0.6877, Train Acc: 0.5500\n",
      "Epoch 19/100 - Val Loss: 0.6854, Val Acc: 0.5300\n",
      "Epoch 20/100 - Train Loss: 0.6888, Train Acc: 0.5400\n",
      "Epoch 20/100 - Val Loss: 0.6851, Val Acc: 0.5300\n",
      "Epoch 21/100 - Train Loss: 0.6859, Train Acc: 0.5500\n",
      "Epoch 21/100 - Val Loss: 0.6850, Val Acc: 0.5300\n",
      "Epoch 22/100 - Train Loss: 0.6935, Train Acc: 0.5200\n",
      "Epoch 22/100 - Val Loss: 0.6856, Val Acc: 0.5300\n",
      "Epoch 23/100 - Train Loss: 0.6997, Train Acc: 0.4900\n",
      "Epoch 23/100 - Val Loss: 0.6861, Val Acc: 0.5300\n",
      "Epoch 24/100 - Train Loss: 0.6751, Train Acc: 0.6200\n",
      "Epoch 24/100 - Val Loss: 0.6847, Val Acc: 0.5300\n",
      "Epoch 25/100 - Train Loss: 0.6991, Train Acc: 0.5300\n",
      "Epoch 25/100 - Val Loss: 0.6856, Val Acc: 0.5300\n",
      "Epoch 26/100 - Train Loss: 0.6914, Train Acc: 0.5700\n",
      "Epoch 26/100 - Val Loss: 0.6857, Val Acc: 0.5300\n",
      "Epoch 27/100 - Train Loss: 0.6859, Train Acc: 0.5700\n",
      "Epoch 27/100 - Val Loss: 0.6854, Val Acc: 0.5300\n",
      "Epoch 28/100 - Train Loss: 0.6821, Train Acc: 0.5800\n",
      "Epoch 28/100 - Val Loss: 0.6853, Val Acc: 0.5300\n",
      "Epoch 29/100 - Train Loss: 0.6961, Train Acc: 0.5200\n",
      "Epoch 29/100 - Val Loss: 0.6858, Val Acc: 0.5300\n",
      "Epoch 30/100 - Train Loss: 0.7047, Train Acc: 0.5100\n",
      "Epoch 30/100 - Val Loss: 0.6868, Val Acc: 0.5300\n",
      "Epoch 31/100 - Train Loss: 0.6909, Train Acc: 0.5500\n",
      "Epoch 31/100 - Val Loss: 0.6866, Val Acc: 0.5300\n",
      "Epoch 32/100 - Train Loss: 0.6924, Train Acc: 0.5200\n",
      "Epoch 32/100 - Val Loss: 0.6861, Val Acc: 0.5300\n",
      "Epoch 33/100 - Train Loss: 0.6916, Train Acc: 0.5100\n",
      "Epoch 33/100 - Val Loss: 0.6863, Val Acc: 0.5300\n",
      "Epoch 34/100 - Train Loss: 0.6896, Train Acc: 0.5500\n",
      "Epoch 34/100 - Val Loss: 0.6861, Val Acc: 0.5300\n",
      "Epoch 35/100 - Train Loss: 0.6797, Train Acc: 0.5700\n",
      "Epoch 35/100 - Val Loss: 0.6852, Val Acc: 0.5300\n",
      "Epoch 36/100 - Train Loss: 0.6992, Train Acc: 0.5100\n",
      "Epoch 36/100 - Val Loss: 0.6856, Val Acc: 0.5300\n",
      "Epoch 37/100 - Train Loss: 0.6856, Train Acc: 0.5300\n",
      "Epoch 37/100 - Val Loss: 0.6852, Val Acc: 0.5300\n",
      "Epoch 38/100 - Train Loss: 0.6846, Train Acc: 0.5600\n",
      "Epoch 38/100 - Val Loss: 0.6851, Val Acc: 0.5300\n",
      "Epoch 39/100 - Train Loss: 0.7018, Train Acc: 0.4900\n",
      "Epoch 39/100 - Val Loss: 0.6864, Val Acc: 0.5300\n",
      "Epoch 40/100 - Train Loss: 0.6826, Train Acc: 0.6200\n",
      "Epoch 40/100 - Val Loss: 0.6857, Val Acc: 0.5300\n",
      "Epoch 41/100 - Train Loss: 0.6920, Train Acc: 0.5400\n",
      "Epoch 41/100 - Val Loss: 0.6856, Val Acc: 0.5300\n",
      "Epoch 42/100 - Train Loss: 0.6883, Train Acc: 0.6000\n",
      "Epoch 42/100 - Val Loss: 0.6851, Val Acc: 0.5300\n",
      "Epoch 43/100 - Train Loss: 0.6860, Train Acc: 0.5900\n",
      "Epoch 43/100 - Val Loss: 0.6844, Val Acc: 0.5300\n",
      "Epoch 44/100 - Train Loss: 0.6864, Train Acc: 0.5700\n",
      "Epoch 44/100 - Val Loss: 0.6840, Val Acc: 0.5300\n",
      "Epoch 45/100 - Train Loss: 0.6927, Train Acc: 0.5300\n",
      "Epoch 45/100 - Val Loss: 0.6843, Val Acc: 0.5300\n",
      "Epoch 46/100 - Train Loss: 0.6934, Train Acc: 0.5100\n",
      "Epoch 46/100 - Val Loss: 0.6847, Val Acc: 0.5300\n",
      "Epoch 47/100 - Train Loss: 0.6952, Train Acc: 0.5600\n",
      "Epoch 47/100 - Val Loss: 0.6852, Val Acc: 0.5300\n",
      "Epoch 48/100 - Train Loss: 0.6979, Train Acc: 0.5000\n",
      "Epoch 48/100 - Val Loss: 0.6856, Val Acc: 0.5300\n",
      "Epoch 49/100 - Train Loss: 0.6897, Train Acc: 0.5600\n",
      "Epoch 49/100 - Val Loss: 0.6859, Val Acc: 0.5300\n",
      "Epoch 50/100 - Train Loss: 0.6982, Train Acc: 0.5300\n",
      "Epoch 50/100 - Val Loss: 0.6861, Val Acc: 0.5300\n",
      "Epoch 51/100 - Train Loss: 0.6947, Train Acc: 0.4800\n",
      "Epoch 51/100 - Val Loss: 0.6864, Val Acc: 0.5300\n",
      "Epoch 52/100 - Train Loss: 0.6977, Train Acc: 0.5100\n",
      "Epoch 52/100 - Val Loss: 0.6870, Val Acc: 0.5300\n",
      "Epoch 53/100 - Train Loss: 0.6847, Train Acc: 0.5400\n",
      "Epoch 53/100 - Val Loss: 0.6864, Val Acc: 0.5300\n",
      "Epoch 54/100 - Train Loss: 0.6969, Train Acc: 0.5100\n",
      "Epoch 54/100 - Val Loss: 0.6871, Val Acc: 0.5300\n",
      "Epoch 55/100 - Train Loss: 0.6887, Train Acc: 0.5300\n",
      "Epoch 55/100 - Val Loss: 0.6865, Val Acc: 0.5300\n",
      "Epoch 56/100 - Train Loss: 0.6918, Train Acc: 0.5200\n",
      "Epoch 56/100 - Val Loss: 0.6870, Val Acc: 0.5300\n",
      "Epoch 57/100 - Train Loss: 0.6839, Train Acc: 0.5700\n",
      "Epoch 57/100 - Val Loss: 0.6861, Val Acc: 0.5300\n",
      "Epoch 58/100 - Train Loss: 0.6930, Train Acc: 0.5400\n",
      "Epoch 58/100 - Val Loss: 0.6865, Val Acc: 0.5300\n",
      "Epoch 59/100 - Train Loss: 0.6961, Train Acc: 0.5000\n",
      "Epoch 59/100 - Val Loss: 0.6869, Val Acc: 0.5300\n",
      "Epoch 60/100 - Train Loss: 0.6897, Train Acc: 0.5300\n",
      "Epoch 60/100 - Val Loss: 0.6866, Val Acc: 0.5300\n",
      "Epoch 61/100 - Train Loss: 0.6972, Train Acc: 0.4600\n",
      "Epoch 61/100 - Val Loss: 0.6875, Val Acc: 0.5300\n",
      "Epoch 62/100 - Train Loss: 0.6829, Train Acc: 0.5900\n",
      "Epoch 62/100 - Val Loss: 0.6863, Val Acc: 0.5300\n",
      "Epoch 63/100 - Train Loss: 0.6795, Train Acc: 0.5900\n",
      "Epoch 63/100 - Val Loss: 0.6851, Val Acc: 0.5300\n",
      "Epoch 64/100 - Train Loss: 0.6937, Train Acc: 0.5200\n",
      "Epoch 64/100 - Val Loss: 0.6854, Val Acc: 0.5300\n",
      "Epoch 65/100 - Train Loss: 0.6898, Train Acc: 0.5500\n",
      "Epoch 65/100 - Val Loss: 0.6854, Val Acc: 0.5300\n",
      "Epoch 66/100 - Train Loss: 0.6933, Train Acc: 0.4800\n",
      "Epoch 66/100 - Val Loss: 0.6857, Val Acc: 0.5300\n",
      "Epoch 67/100 - Train Loss: 0.6935, Train Acc: 0.5500\n",
      "Epoch 67/100 - Val Loss: 0.6859, Val Acc: 0.5300\n",
      "Epoch 68/100 - Train Loss: 0.7000, Train Acc: 0.4900\n",
      "Epoch 68/100 - Val Loss: 0.6871, Val Acc: 0.5300\n",
      "Epoch 69/100 - Train Loss: 0.6929, Train Acc: 0.5300\n",
      "Epoch 69/100 - Val Loss: 0.6872, Val Acc: 0.5300\n",
      "Epoch 70/100 - Train Loss: 0.6952, Train Acc: 0.5100\n",
      "Epoch 70/100 - Val Loss: 0.6877, Val Acc: 0.5300\n",
      "Epoch 71/100 - Train Loss: 0.6916, Train Acc: 0.5200\n",
      "Epoch 71/100 - Val Loss: 0.6873, Val Acc: 0.5300\n",
      "Epoch 72/100 - Train Loss: 0.6891, Train Acc: 0.5200\n",
      "Epoch 72/100 - Val Loss: 0.6872, Val Acc: 0.5300\n",
      "Epoch 73/100 - Train Loss: 0.6872, Train Acc: 0.6100\n",
      "Epoch 73/100 - Val Loss: 0.6871, Val Acc: 0.5300\n",
      "Epoch 74/100 - Train Loss: 0.6877, Train Acc: 0.5700\n",
      "Epoch 74/100 - Val Loss: 0.6865, Val Acc: 0.5300\n",
      "Epoch 75/100 - Train Loss: 0.6890, Train Acc: 0.5700\n",
      "Epoch 75/100 - Val Loss: 0.6862, Val Acc: 0.5300\n",
      "Epoch 76/100 - Train Loss: 0.7034, Train Acc: 0.4700\n",
      "Epoch 76/100 - Val Loss: 0.6880, Val Acc: 0.5300\n",
      "Epoch 77/100 - Train Loss: 0.6910, Train Acc: 0.5200\n",
      "Epoch 77/100 - Val Loss: 0.6877, Val Acc: 0.5300\n",
      "Epoch 78/100 - Train Loss: 0.6976, Train Acc: 0.4900\n",
      "Epoch 78/100 - Val Loss: 0.6884, Val Acc: 0.5300\n",
      "Epoch 79/100 - Train Loss: 0.6915, Train Acc: 0.5700\n",
      "Epoch 79/100 - Val Loss: 0.6887, Val Acc: 0.5300\n",
      "Epoch 80/100 - Train Loss: 0.6876, Train Acc: 0.5200\n",
      "Epoch 80/100 - Val Loss: 0.6882, Val Acc: 0.5300\n",
      "Epoch 81/100 - Train Loss: 0.6965, Train Acc: 0.5300\n",
      "Epoch 81/100 - Val Loss: 0.6890, Val Acc: 0.5300\n",
      "Epoch 82/100 - Train Loss: 0.6935, Train Acc: 0.5100\n",
      "Epoch 82/100 - Val Loss: 0.6890, Val Acc: 0.5300\n",
      "Epoch 83/100 - Train Loss: 0.6895, Train Acc: 0.5500\n",
      "Epoch 83/100 - Val Loss: 0.6888, Val Acc: 0.5300\n",
      "Epoch 84/100 - Train Loss: 0.6956, Train Acc: 0.5200\n",
      "Epoch 84/100 - Val Loss: 0.6887, Val Acc: 0.5300\n",
      "Epoch 85/100 - Train Loss: 0.6840, Train Acc: 0.5500\n",
      "Epoch 85/100 - Val Loss: 0.6876, Val Acc: 0.5300\n",
      "Epoch 86/100 - Train Loss: 0.6908, Train Acc: 0.5300\n",
      "Epoch 86/100 - Val Loss: 0.6878, Val Acc: 0.5300\n",
      "Epoch 87/100 - Train Loss: 0.6900, Train Acc: 0.5300\n",
      "Epoch 87/100 - Val Loss: 0.6873, Val Acc: 0.5300\n",
      "Epoch 88/100 - Train Loss: 0.6922, Train Acc: 0.5200\n",
      "Epoch 88/100 - Val Loss: 0.6872, Val Acc: 0.5300\n",
      "Epoch 89/100 - Train Loss: 0.6944, Train Acc: 0.5100\n",
      "Epoch 89/100 - Val Loss: 0.6871, Val Acc: 0.5300\n",
      "Epoch 90/100 - Train Loss: 0.6887, Train Acc: 0.5600\n",
      "Epoch 90/100 - Val Loss: 0.6870, Val Acc: 0.5300\n",
      "Epoch 91/100 - Train Loss: 0.6793, Train Acc: 0.6000\n",
      "Epoch 91/100 - Val Loss: 0.6854, Val Acc: 0.5300\n",
      "Epoch 92/100 - Train Loss: 0.6851, Train Acc: 0.5400\n",
      "Epoch 92/100 - Val Loss: 0.6852, Val Acc: 0.5300\n",
      "Epoch 93/100 - Train Loss: 0.6804, Train Acc: 0.5900\n",
      "Epoch 93/100 - Val Loss: 0.6840, Val Acc: 0.5300\n",
      "Epoch 94/100 - Train Loss: 0.6948, Train Acc: 0.5300\n",
      "Epoch 94/100 - Val Loss: 0.6840, Val Acc: 0.5300\n",
      "Epoch 95/100 - Train Loss: 0.6874, Train Acc: 0.5500\n",
      "Epoch 95/100 - Val Loss: 0.6837, Val Acc: 0.5300\n",
      "Epoch 96/100 - Train Loss: 0.6867, Train Acc: 0.5600\n",
      "Epoch 96/100 - Val Loss: 0.6831, Val Acc: 0.5300\n",
      "Epoch 97/100 - Train Loss: 0.7015, Train Acc: 0.4800\n",
      "Epoch 97/100 - Val Loss: 0.6843, Val Acc: 0.5300\n",
      "Epoch 98/100 - Train Loss: 0.7014, Train Acc: 0.4800\n",
      "Epoch 98/100 - Val Loss: 0.6860, Val Acc: 0.5300\n",
      "Epoch 99/100 - Train Loss: 0.6909, Train Acc: 0.5100\n",
      "Epoch 99/100 - Val Loss: 0.6854, Val Acc: 0.5300\n",
      "Epoch 100/100 - Train Loss: 0.6915, Train Acc: 0.5700\n",
      "Epoch 100/100 - Val Loss: 0.6857, Val Acc: 0.5300\n"
     ]
    },
    {
     "data": {
      "image/png": "[encoded data removed]",
      "text/plain": [
       "<Figure size 640x480 with 1 Axes>"
      ]
     },
     "metadata": {},
     "output_type": "display_data"
    },
    {
     "data": {
      "image/png": "[encoded data removed]",
      "text/plain": [
       "<Figure size 640x480 with 1 Axes>"
      ]
     },
     "metadata": {},
     "output_type": "display_data"
    }
   ],
   "source": [
    "import torch\n",
    "import torch.nn as nn\n",
    "import numpy as np\n",
    "from torch.utils.data import DataLoader, TensorDataset\n",
    "\n",
    "# Define the NoisyLinear layer\n",
    "class NoisyLinear(nn.Module):\n",
    "    def __init__(self, in_features, out_features, noise_level):\n",
    "        super(NoisyLinear, self).__init__()\n",
    "        self.linear = nn.Linear(in_features, out_features)\n",
    "        self.noise_level = noise_level\n",
    "\n",
    "    def forward(self, x, is_training=True):\n",
    "        if is_training:\n",
    "            noise = torch.randn_like(x) * self.noise_level\n",
    "            return self.linear(x + noise)\n",
    "        else:\n",
    "            return self.linear(x)\n",
    "\n",
    "# Define your custom model\n",
    "class MyNoisyModel(nn.Module):\n",
    "    def __init__(self):\n",
    "        super(MyNoisyModel, self).__init__()\n",
    "        self.l1 = NoisyLinear(2, 4, 1.5)\n",
    "        self.a1 = nn.ReLU()\n",
    "        self.l2 = nn.Linear(4, 4)\n",
    "        self.a2 = nn.ReLU()\n",
    "        self.l3 = nn.Linear(4, 1)\n",
    "        self.a3 = nn.Sigmoid()\n",
    "\n",
    "    def forward(self, x, is_training=True):\n",
    "        x = self.l1(x, is_training)\n",
    "        x = self.a1(x)\n",
    "        x = self.l2(x)\n",
    "        x = self.a2(x)\n",
    "        x = self.l3(x)\n",
    "        x = self.a3(x)\n",
    "        return x\n",
    "\n",
    "    def predict(self, x):\n",
    "        x = torch.tensor(x, dtype=torch.float32)\n",
    "        pred = self.forward(x, is_training=False).squeeze()\n",
    "        return (pred >= 0.5).float()\n",
    "\n",
    "# Set random seed for reproducibility\n",
    "torch.manual_seed(1)\n",
    "np.random.seed(1)\n",
    "\n",
    "# Generate dataset\n",
    "x = np.random.uniform(low=-1, high=1, size=(200, 2))\n",
    "y = np.ones(len(x))\n",
    "y[x[:, 0] * x[:, 1] < 0] = 0\n",
    "\n",
    "n_train = 100\n",
    "x_train = torch.tensor(x[:n_train, :], dtype=torch.float32)\n",
    "y_train = torch.tensor(y[:n_train], dtype=torch.float32)\n",
    "x_valid = torch.tensor(x[n_train:, :], dtype=torch.float32)\n",
    "y_valid = torch.tensor(y[n_train:], dtype=torch.float32)\n",
    "\n",
    "train_ds = TensorDataset(x_train, y_train)\n",
    "batch_size = 2\n",
    "train_dl = DataLoader(train_ds, batch_size, shuffle=True)\n",
    "\n",
    "# Instantiate the model, loss function, and optimizer\n",
    "model = MyNoisyModel()\n",
    "loss_f = nn.BCELoss()\n",
    "optimizer = torch.optim.SGD(model.parameters(), lr=0.01)\n",
    "\n",
    "# Training loop\n",
    "n_epochs = 100\n",
    "val_acc = [0] * n_epochs\n",
    "val_loss = [0] * n_epochs\n",
    "train_acc = [0] * n_epochs\n",
    "train_loss = [0] * n_epochs\n",
    "\n",
    "for e in range(n_epochs):\n",
    "    model.train()  # Ensure the model is in training mode\n",
    "    train_loss[e] = 0\n",
    "    train_acc[e] = 0\n",
    "    for x_batch, y_batch in train_dl:\n",
    "        pred = model(x_batch).squeeze()\n",
    "        cost = loss_f(pred, y_batch)\n",
    "        cost.backward()\n",
    "        optimizer.step()\n",
    "        optimizer.zero_grad()\n",
    "        train_loss[e] += cost.item()\n",
    "        train_acc[e] += ((pred >= 0.5).float() == y_batch).float().mean().item()\n",
    "\n",
    "    train_loss[e] /= len(train_dl)\n",
    "    train_acc[e] /= len(train_dl)\n",
    "\n",
    "    model.eval()  # Ensure the model is in evaluation mode\n",
    "    with torch.no_grad():\n",
    "        pred = model(x_valid, is_training=False).squeeze()\n",
    "        cost = loss_f(pred, y_valid)\n",
    "        val_loss[e] = cost.item()\n",
    "        val_acc[e] = ((pred >= 0.5).float() == y_valid).float().mean().item()\n",
    "\n",
    "    print(f'Epoch {e+1}/{n_epochs} - Train Loss: {train_loss[e]:.4f}, Train Acc: {train_acc[e]:.4f}')\n",
    "    print(f'Epoch {e+1}/{n_epochs} - Val Loss: {val_loss[e]:.4f}, Val Acc: {val_acc[e]:.4f}')\n",
    "\n",
    "# Plot training and validation accuracy\n",
    "plt.plot(range(n_epochs), train_acc, label='Train Accuracy')\n",
    "plt.plot(range(n_epochs), val_acc, label='Validation Accuracy')\n",
    "plt.xlabel('Epochs')\n",
    "plt.ylabel('Accuracy')\n",
    "plt.title('Training and Validation Accuracy')\n",
    "plt.legend()\n",
    "plt.show()\n",
    "\n",
    "# Plot training and validation loss\n",
    "plt.plot(range(n_epochs), train_loss, label='Train Loss')\n",
    "plt.plot(range(n_epochs), val_loss, label='Validation Loss')\n",
    "plt.xlabel('Epochs')\n",
    "plt.ylabel('Loss')\n",
    "plt.title('Training and Validation Loss')\n",
    "plt.legend()\n",
    "plt.show()\n"
   ]
  },
  {
   "cell_type": "markdown",
   "id": "e6030efd-c00f-414c-b391-0d76d82b0f8c",
   "metadata": {},
   "source": [
    "### Fuel"
   ]
  },
  {
   "cell_type": "code",
   "execution_count": 202,
   "id": "350e8be5-07b9-4776-8550-955911081615",
   "metadata": {},
   "outputs": [],
   "source": [
    "import pandas as pd\n",
    "url = 'http://archive.ics.uci.edu/ml/machine-learning-databases/auto-mpg/auto-mpg.data'\n",
    "column_names = ['MPG', 'Cylinders', 'Displacement', 'Horsepower', 'Weight', 'Acceleration', 'Model Year', 'Origin']\n",
    "df = pd.read_csv(url, names=column_names, na_values = \"?\", comment='\\t', sep=\" \", skipinitialspace=True)"
   ]
  },
  {
   "cell_type": "code",
   "execution_count": 211,
   "id": "12afb905-c39c-4a0e-ae9e-cfcd91ceabab",
   "metadata": {},
   "outputs": [],
   "source": [
    "df.dropna(inplace=True)"
   ]
  },
  {
   "cell_type": "code",
   "execution_count": 218,
   "id": "e35320a7-b2c0-4052-8efb-f5e84dec569a",
   "metadata": {},
   "outputs": [],
   "source": [
    "df = df.reset_index(drop=True)"
   ]
  },
  {
   "cell_type": "code",
   "execution_count": 221,
   "id": "4a7af088-b53c-48c7-99dc-604e8cde5fcf",
   "metadata": {},
   "outputs": [],
   "source": [
    "import sklearn\n",
    "from sklearn.model_selection import train_test_split"
   ]
  },
  {
   "cell_type": "code",
   "execution_count": 222,
   "id": "e010cbce-02f4-48ed-b0c1-344cd71bcddf",
   "metadata": {},
   "outputs": [],
   "source": [
    "df_train, df_test = train_test_split(df, train_size=0.8, random_state=0 )"
   ]
  },
  {
   "cell_type": "code",
   "execution_count": 227,
   "id": "21fa4657-a7db-4f26-b71c-0869475f42e4",
   "metadata": {},
   "outputs": [],
   "source": [
    "train_stats = df_train.describe().transpose()"
   ]
  },
  {
   "cell_type": "code",
   "execution_count": 230,
   "id": "a58020a6-3944-4e0a-a389-abe067498fea",
   "metadata": {},
   "outputs": [],
   "source": [
    "numeric_column_names = [ 'Cylinders', 'Displacement', 'Horsepower', 'Weight', 'Acceleration' ]"
   ]
  },
  {
   "cell_type": "code",
   "execution_count": 231,
   "id": "26c25033-bbd7-43b3-b738-2b1920242624",
   "metadata": {},
   "outputs": [],
   "source": [
    "df_train_norm, df_test_norm = df_train.copy(), df_test.copy()"
   ]
  },
  {
   "cell_type": "code",
   "execution_count": 232,
   "id": "c64c76a4-9ddf-42fa-9653-b6a146ab6df8",
   "metadata": {},
   "outputs": [
    {
     "data": {
      "text/html": [
       "<div>\n",
       "<style scoped>\n",
       "    .dataframe tbody tr th:only-of-type {\n",
       "        vertical-align: middle;\n",
       "    }\n",
       "\n",
       "    .dataframe tbody tr th {\n",
       "        vertical-align: top;\n",
       "    }\n",
       "\n",
       "    .dataframe thead th {\n",
       "        text-align: right;\n",
       "    }\n",
       "</style>\n",
       "<table border=\"1\" class=\"dataframe\">\n",
       "  <thead>\n",
       "    <tr style=\"text-align: right;\">\n",
       "      <th></th>\n",
       "      <th>count</th>\n",
       "      <th>mean</th>\n",
       "      <th>std</th>\n",
       "      <th>min</th>\n",
       "      <th>25%</th>\n",
       "      <th>50%</th>\n",
       "      <th>75%</th>\n",
       "      <th>max</th>\n",
       "    </tr>\n",
       "  </thead>\n",
       "  <tbody>\n",
       "    <tr>\n",
       "      <th>MPG</th>\n",
       "      <td>313.0</td>\n",
       "      <td>23.482428</td>\n",
       "      <td>7.784488</td>\n",
       "      <td>9.0</td>\n",
       "      <td>17.5</td>\n",
       "      <td>23.0</td>\n",
       "      <td>29.0</td>\n",
       "      <td>46.6</td>\n",
       "    </tr>\n",
       "    <tr>\n",
       "      <th>Cylinders</th>\n",
       "      <td>313.0</td>\n",
       "      <td>5.447284</td>\n",
       "      <td>1.690263</td>\n",
       "      <td>3.0</td>\n",
       "      <td>4.0</td>\n",
       "      <td>4.0</td>\n",
       "      <td>8.0</td>\n",
       "      <td>8.0</td>\n",
       "    </tr>\n",
       "    <tr>\n",
       "      <th>Displacement</th>\n",
       "      <td>313.0</td>\n",
       "      <td>192.787540</td>\n",
       "      <td>103.201153</td>\n",
       "      <td>68.0</td>\n",
       "      <td>105.0</td>\n",
       "      <td>151.0</td>\n",
       "      <td>260.0</td>\n",
       "      <td>455.0</td>\n",
       "    </tr>\n",
       "    <tr>\n",
       "      <th>Horsepower</th>\n",
       "      <td>313.0</td>\n",
       "      <td>104.009585</td>\n",
       "      <td>37.915348</td>\n",
       "      <td>46.0</td>\n",
       "      <td>78.0</td>\n",
       "      <td>95.0</td>\n",
       "      <td>120.0</td>\n",
       "      <td>230.0</td>\n",
       "    </tr>\n",
       "    <tr>\n",
       "      <th>Weight</th>\n",
       "      <td>313.0</td>\n",
       "      <td>2972.255591</td>\n",
       "      <td>841.134947</td>\n",
       "      <td>1613.0</td>\n",
       "      <td>2230.0</td>\n",
       "      <td>2815.0</td>\n",
       "      <td>3574.0</td>\n",
       "      <td>5140.0</td>\n",
       "    </tr>\n",
       "    <tr>\n",
       "      <th>Acceleration</th>\n",
       "      <td>313.0</td>\n",
       "      <td>15.560383</td>\n",
       "      <td>2.785476</td>\n",
       "      <td>8.0</td>\n",
       "      <td>13.6</td>\n",
       "      <td>15.5</td>\n",
       "      <td>17.0</td>\n",
       "      <td>24.8</td>\n",
       "    </tr>\n",
       "    <tr>\n",
       "      <th>Model Year</th>\n",
       "      <td>313.0</td>\n",
       "      <td>76.070288</td>\n",
       "      <td>3.660449</td>\n",
       "      <td>70.0</td>\n",
       "      <td>73.0</td>\n",
       "      <td>76.0</td>\n",
       "      <td>79.0</td>\n",
       "      <td>82.0</td>\n",
       "    </tr>\n",
       "    <tr>\n",
       "      <th>Origin</th>\n",
       "      <td>313.0</td>\n",
       "      <td>1.584665</td>\n",
       "      <td>0.812574</td>\n",
       "      <td>1.0</td>\n",
       "      <td>1.0</td>\n",
       "      <td>1.0</td>\n",
       "      <td>2.0</td>\n",
       "      <td>3.0</td>\n",
       "    </tr>\n",
       "  </tbody>\n",
       "</table>\n",
       "</div>"
      ],
      "text/plain": [
       "              count         mean         std     min     25%     50%     75%  \\\n",
       "MPG           313.0    23.482428    7.784488     9.0    17.5    23.0    29.0   \n",
       "Cylinders     313.0     5.447284    1.690263     3.0     4.0     4.0     8.0   \n",
       "Displacement  313.0   192.787540  103.201153    68.0   105.0   151.0   260.0   \n",
       "Horsepower    313.0   104.009585   37.915348    46.0    78.0    95.0   120.0   \n",
       "Weight        313.0  2972.255591  841.134947  1613.0  2230.0  2815.0  3574.0   \n",
       "Acceleration  313.0    15.560383    2.785476     8.0    13.6    15.5    17.0   \n",
       "Model Year    313.0    76.070288    3.660449    70.0    73.0    76.0    79.0   \n",
       "Origin        313.0     1.584665    0.812574     1.0     1.0     1.0     2.0   \n",
       "\n",
       "                 max  \n",
       "MPG             46.6  \n",
       "Cylinders        8.0  \n",
       "Displacement   455.0  \n",
       "Horsepower     230.0  \n",
       "Weight        5140.0  \n",
       "Acceleration    24.8  \n",
       "Model Year      82.0  \n",
       "Origin           3.0  "
      ]
     },
     "execution_count": 232,
     "metadata": {},
     "output_type": "execute_result"
    }
   ],
   "source": [
    "train_stats"
   ]
  },
  {
   "cell_type": "code",
   "execution_count": 240,
   "id": "bce4595f-0338-4c59-956a-e6c43ca8b928",
   "metadata": {},
   "outputs": [],
   "source": [
    "for col in numeric_column_names:\n",
    "    mean = train_stats.loc[col, 'mean']\n",
    "    std  = train_stats.loc[col, 'std']\n",
    "    df_train_norm[col] = ( df_train[col] - mean ) / std \n",
    "    df_test_norm[col] = ( df_test[col] - mean ) / std "
   ]
  },
  {
   "cell_type": "code",
   "execution_count": 241,
   "id": "393dd6b1-ee90-4f25-a86c-f69e6e9cd950",
   "metadata": {},
   "outputs": [
    {
     "data": {
      "text/html": [
       "<div>\n",
       "<style scoped>\n",
       "    .dataframe tbody tr th:only-of-type {\n",
       "        vertical-align: middle;\n",
       "    }\n",
       "\n",
       "    .dataframe tbody tr th {\n",
       "        vertical-align: top;\n",
       "    }\n",
       "\n",
       "    .dataframe thead th {\n",
       "        text-align: right;\n",
       "    }\n",
       "</style>\n",
       "<table border=\"1\" class=\"dataframe\">\n",
       "  <thead>\n",
       "    <tr style=\"text-align: right;\">\n",
       "      <th></th>\n",
       "      <th>MPG</th>\n",
       "      <th>Cylinders</th>\n",
       "      <th>Displacement</th>\n",
       "      <th>Horsepower</th>\n",
       "      <th>Weight</th>\n",
       "      <th>Acceleration</th>\n",
       "      <th>Model Year</th>\n",
       "      <th>Origin</th>\n",
       "    </tr>\n",
       "  </thead>\n",
       "  <tbody>\n",
       "    <tr>\n",
       "      <th>323</th>\n",
       "      <td>44.3</td>\n",
       "      <td>-0.856248</td>\n",
       "      <td>-0.995992</td>\n",
       "      <td>-1.477227</td>\n",
       "      <td>-1.054831</td>\n",
       "      <td>2.204154</td>\n",
       "      <td>80</td>\n",
       "      <td>2</td>\n",
       "    </tr>\n",
       "    <tr>\n",
       "      <th>192</th>\n",
       "      <td>22.5</td>\n",
       "      <td>0.327000</td>\n",
       "      <td>0.379961</td>\n",
       "      <td>-0.369496</td>\n",
       "      <td>0.134038</td>\n",
       "      <td>0.732233</td>\n",
       "      <td>76</td>\n",
       "      <td>1</td>\n",
       "    </tr>\n",
       "    <tr>\n",
       "      <th>117</th>\n",
       "      <td>24.0</td>\n",
       "      <td>-0.856248</td>\n",
       "      <td>-0.744057</td>\n",
       "      <td>-0.765115</td>\n",
       "      <td>-0.968044</td>\n",
       "      <td>-0.021678</td>\n",
       "      <td>73</td>\n",
       "      <td>2</td>\n",
       "    </tr>\n",
       "    <tr>\n",
       "      <th>47</th>\n",
       "      <td>18.0</td>\n",
       "      <td>0.327000</td>\n",
       "      <td>0.554378</td>\n",
       "      <td>-0.422245</td>\n",
       "      <td>0.198237</td>\n",
       "      <td>-0.380683</td>\n",
       "      <td>71</td>\n",
       "      <td>1</td>\n",
       "    </tr>\n",
       "    <tr>\n",
       "      <th>172</th>\n",
       "      <td>18.0</td>\n",
       "      <td>0.327000</td>\n",
       "      <td>-0.211117</td>\n",
       "      <td>-0.184875</td>\n",
       "      <td>0.013963</td>\n",
       "      <td>-0.380683</td>\n",
       "      <td>75</td>\n",
       "      <td>1</td>\n",
       "    </tr>\n",
       "  </tbody>\n",
       "</table>\n",
       "</div>"
      ],
      "text/plain": [
       "      MPG  Cylinders  Displacement  Horsepower    Weight  Acceleration  \\\n",
       "323  44.3  -0.856248     -0.995992   -1.477227 -1.054831      2.204154   \n",
       "192  22.5   0.327000      0.379961   -0.369496  0.134038      0.732233   \n",
       "117  24.0  -0.856248     -0.744057   -0.765115 -0.968044     -0.021678   \n",
       "47   18.0   0.327000      0.554378   -0.422245  0.198237     -0.380683   \n",
       "172  18.0   0.327000     -0.211117   -0.184875  0.013963     -0.380683   \n",
       "\n",
       "     Model Year  Origin  \n",
       "323          80       2  \n",
       "192          76       1  \n",
       "117          73       2  \n",
       "47           71       1  \n",
       "172          75       1  "
      ]
     },
     "execution_count": 241,
     "metadata": {},
     "output_type": "execute_result"
    }
   ],
   "source": [
    "df_train_norm.tail()"
   ]
  },
  {
   "cell_type": "code",
   "execution_count": 242,
   "id": "7217a8fb-e4bb-4a54-b17a-90d11e594d4b",
   "metadata": {},
   "outputs": [
    {
     "data": {
      "text/html": [
       "<div>\n",
       "<style scoped>\n",
       "    .dataframe tbody tr th:only-of-type {\n",
       "        vertical-align: middle;\n",
       "    }\n",
       "\n",
       "    .dataframe tbody tr th {\n",
       "        vertical-align: top;\n",
       "    }\n",
       "\n",
       "    .dataframe thead th {\n",
       "        text-align: right;\n",
       "    }\n",
       "</style>\n",
       "<table border=\"1\" class=\"dataframe\">\n",
       "  <thead>\n",
       "    <tr style=\"text-align: right;\">\n",
       "      <th></th>\n",
       "      <th>MPG</th>\n",
       "      <th>Cylinders</th>\n",
       "      <th>Displacement</th>\n",
       "      <th>Horsepower</th>\n",
       "      <th>Weight</th>\n",
       "      <th>Acceleration</th>\n",
       "      <th>Model Year</th>\n",
       "      <th>Origin</th>\n",
       "    </tr>\n",
       "  </thead>\n",
       "  <tbody>\n",
       "    <tr>\n",
       "      <th>100</th>\n",
       "      <td>23.0</td>\n",
       "      <td>0.327000</td>\n",
       "      <td>0.050508</td>\n",
       "      <td>-0.237624</td>\n",
       "      <td>-0.081147</td>\n",
       "      <td>0.157825</td>\n",
       "      <td>73</td>\n",
       "      <td>1</td>\n",
       "    </tr>\n",
       "    <tr>\n",
       "      <th>64</th>\n",
       "      <td>14.0</td>\n",
       "      <td>1.510248</td>\n",
       "      <td>1.533049</td>\n",
       "      <td>1.292100</td>\n",
       "      <td>1.375219</td>\n",
       "      <td>-0.919191</td>\n",
       "      <td>72</td>\n",
       "      <td>1</td>\n",
       "    </tr>\n",
       "    <tr>\n",
       "      <th>55</th>\n",
       "      <td>26.0</td>\n",
       "      <td>-0.856248</td>\n",
       "      <td>-0.986302</td>\n",
       "      <td>-0.896987</td>\n",
       "      <td>-1.209385</td>\n",
       "      <td>1.773348</td>\n",
       "      <td>71</td>\n",
       "      <td>1</td>\n",
       "    </tr>\n",
       "    <tr>\n",
       "      <th>260</th>\n",
       "      <td>19.2</td>\n",
       "      <td>1.510248</td>\n",
       "      <td>1.087318</td>\n",
       "      <td>1.081103</td>\n",
       "      <td>0.538254</td>\n",
       "      <td>-0.847390</td>\n",
       "      <td>78</td>\n",
       "      <td>1</td>\n",
       "    </tr>\n",
       "    <tr>\n",
       "      <th>214</th>\n",
       "      <td>31.5</td>\n",
       "      <td>-0.856248</td>\n",
       "      <td>-0.918474</td>\n",
       "      <td>-0.949736</td>\n",
       "      <td>-1.102386</td>\n",
       "      <td>1.055337</td>\n",
       "      <td>77</td>\n",
       "      <td>3</td>\n",
       "    </tr>\n",
       "  </tbody>\n",
       "</table>\n",
       "</div>"
      ],
      "text/plain": [
       "      MPG  Cylinders  Displacement  Horsepower    Weight  Acceleration  \\\n",
       "100  23.0   0.327000      0.050508   -0.237624 -0.081147      0.157825   \n",
       "64   14.0   1.510248      1.533049    1.292100  1.375219     -0.919191   \n",
       "55   26.0  -0.856248     -0.986302   -0.896987 -1.209385      1.773348   \n",
       "260  19.2   1.510248      1.087318    1.081103  0.538254     -0.847390   \n",
       "214  31.5  -0.856248     -0.918474   -0.949736 -1.102386      1.055337   \n",
       "\n",
       "     Model Year  Origin  \n",
       "100          73       1  \n",
       "64           72       1  \n",
       "55           71       1  \n",
       "260          78       1  \n",
       "214          77       3  "
      ]
     },
     "execution_count": 242,
     "metadata": {},
     "output_type": "execute_result"
    }
   ],
   "source": [
    "df_test_norm.tail()"
   ]
  },
  {
   "cell_type": "code",
   "execution_count": 246,
   "id": "d1c3f028-7e80-496d-a721-f018b280066a",
   "metadata": {},
   "outputs": [],
   "source": [
    "df_details = df.describe().transpose()"
   ]
  },
  {
   "cell_type": "code",
   "execution_count": 247,
   "id": "11e669f2-0739-4028-ac51-be5dfc391214",
   "metadata": {},
   "outputs": [
    {
     "data": {
      "text/plain": [
       "count    392.000000\n",
       "mean      75.979592\n",
       "std        3.683737\n",
       "min       70.000000\n",
       "25%       73.000000\n",
       "50%       76.000000\n",
       "75%       79.000000\n",
       "max       82.000000\n",
       "Name: Model Year, dtype: float64"
      ]
     },
     "execution_count": 247,
     "metadata": {},
     "output_type": "execute_result"
    }
   ],
   "source": [
    "df_details.loc['Model Year']"
   ]
  },
  {
   "cell_type": "code",
   "execution_count": 244,
   "id": "75ec0799-7e5a-489d-ad00-d705d8bfc028",
   "metadata": {},
   "outputs": [
    {
     "data": {
      "text/plain": [
       "array([70, 71, 72, 73, 74, 75, 76, 77, 78, 79, 80, 81, 82], dtype=int64)"
      ]
     },
     "execution_count": 244,
     "metadata": {},
     "output_type": "execute_result"
    }
   ],
   "source": [
    "np.unique(df['Model Year'].values)"
   ]
  },
  {
   "cell_type": "code",
   "execution_count": 255,
   "id": "a67c3999-4d47-4c50-9a85-3e8e27cacf51",
   "metadata": {},
   "outputs": [],
   "source": [
    "boundries = torch.tensor([73, 76, 79])\n",
    "v = torch.tensor( df_train_norm['Model Year'].values )"
   ]
  },
  {
   "cell_type": "code",
   "execution_count": 280,
   "id": "82fe4dae-80f8-409a-9a00-170558ae1bb4",
   "metadata": {},
   "outputs": [],
   "source": [
    "df_train_norm['Model Year Bucketed'] = torch.bucketize( v, boundries, right = True )"
   ]
  },
  {
   "cell_type": "code",
   "execution_count": 309,
   "id": "4cad9097-b3c8-4aa8-9e29-c05279b49ed1",
   "metadata": {},
   "outputs": [],
   "source": [
    "v = torch.tensor(df_test_norm['Model Year'].values)\n",
    "df_test_norm['Model Year Bucketed'] = torch.bucketize( v, boundries, right = True )"
   ]
  },
  {
   "cell_type": "code",
   "execution_count": 281,
   "id": "80388a0e-1186-40b4-8dad-7b6031bf4445",
   "metadata": {},
   "outputs": [],
   "source": [
    "numeric_column_names.append('Model Year Bucketed')"
   ]
  },
  {
   "cell_type": "code",
   "execution_count": 283,
   "id": "d51f856c-c328-482f-8649-69840058f5f2",
   "metadata": {},
   "outputs": [],
   "source": [
    "from torch.nn.functional import one_hot"
   ]
  },
  {
   "cell_type": "code",
   "execution_count": 340,
   "id": "d6b0405d-f73e-4a8b-b80d-839ca7a826e6",
   "metadata": {},
   "outputs": [],
   "source": [
    "total_origin = len(set(df_train_norm['Origin']))\n",
    "origin_encoded = one_hot( torch.from_numpy(df_train_norm['Origin'].values) % total_origin )"
   ]
  },
  {
   "cell_type": "code",
   "execution_count": 341,
   "id": "64851e3e-aeb2-44ea-9cc3-21f42eff3a0f",
   "metadata": {},
   "outputs": [],
   "source": [
    "x_train_numeric = torch.tensor( df_train_norm[numeric_column_names].values )"
   ]
  },
  {
   "cell_type": "code",
   "execution_count": 342,
   "id": "68abfbab-c323-4758-9c79-84284910f417",
   "metadata": {},
   "outputs": [],
   "source": [
    "x_train = torch.cat( ( x_train_numeric, origin_encoded ), 1 ).float()"
   ]
  },
  {
   "cell_type": "code",
   "execution_count": 343,
   "id": "9aa84aea-5f6c-46f7-9da9-adc1f84f8231",
   "metadata": {},
   "outputs": [],
   "source": [
    "total_origin   = len(set(df_test_norm['Origin']))\n",
    "origin_encoded = one_hot( torch.from_numpy( df_test_norm['Origin'].values ) % total_origin )\n",
    "x_test_numeric = torch.tensor( df_test_norm[numeric_column_names].values )"
   ]
  },
  {
   "cell_type": "code",
   "execution_count": 344,
   "id": "9f9e491b-2af2-453d-b986-b1518d812a46",
   "metadata": {},
   "outputs": [],
   "source": [
    "x_test = torch.cat( ( x_test_numeric, origin_encoded ), 1 ).float()"
   ]
  },
  {
   "cell_type": "code",
   "execution_count": 345,
   "id": "bd3f5bf4-9b77-4231-9e2e-a906fe166a65",
   "metadata": {},
   "outputs": [],
   "source": [
    "y_train = torch.tensor( df_train_norm['MPG'].values ).float()\n",
    "y_test = torch.tensor( df_test_norm['MPG'].values ).float()"
   ]
  },
  {
   "cell_type": "code",
   "execution_count": 346,
   "id": "5e2f9bd8-d1fb-4e55-8338-10f17da74c40",
   "metadata": {},
   "outputs": [],
   "source": [
    "train_td = TensorDataset( x_train, y_train )"
   ]
  },
  {
   "cell_type": "code",
   "execution_count": 347,
   "id": "36cc8d12-4a22-47d9-a49f-829006eaff5d",
   "metadata": {},
   "outputs": [],
   "source": [
    "batch_size = 5\n",
    "torch.manual_seed(0)\n",
    "train_dl = DataLoader( train_td, batch_size=batch_size, shuffle=True )"
   ]
  },
  {
   "cell_type": "code",
   "execution_count": 348,
   "id": "fd620b6e-8097-40bf-b632-39917bcdd3b2",
   "metadata": {},
   "outputs": [],
   "source": [
    "hidden_units = [ 8, 4 ]\n",
    "input_size = x_train.shape[1]\n",
    "all_layers = []\n",
    "for hidden_unit in hidden_units:\n",
    "    layer = nn.Linear( input_size, hidden_unit )\n",
    "    all_layers.append( layer ) \n",
    "    all_layers.append( nn.ReLU() )\n",
    "    input_size = hidden_unit"
   ]
  },
  {
   "cell_type": "code",
   "execution_count": 349,
   "id": "ee2273eb-88a0-4a68-b79f-28b902cbe6df",
   "metadata": {},
   "outputs": [],
   "source": [
    "all_layers.append( nn.Linear( hidden_units[-1], 1 ) )"
   ]
  },
  {
   "cell_type": "code",
   "execution_count": 350,
   "id": "e6cfcb4b-311d-4268-9c33-21b88ec15696",
   "metadata": {},
   "outputs": [],
   "source": [
    "model = nn.Sequential( *all_layers )"
   ]
  },
  {
   "cell_type": "code",
   "execution_count": 366,
   "id": "aebc136b-65f6-48b3-8b98-99cb7b2cc5e9",
   "metadata": {},
   "outputs": [],
   "source": [
    "loss_f = nn.MSELoss()\n",
    "optim  = torch.optim.SGD( params=model.parameters(), lr=0.001 )\n",
    "n_epochs = 200\n",
    "n_logs = 10"
   ]
  },
  {
   "cell_type": "code",
   "execution_count": 367,
   "id": "28d5c828-4dc3-4781-9fd3-a88f07aca067",
   "metadata": {},
   "outputs": [
    {
     "name": "stdout",
     "output_type": "stream",
     "text": [
      "loss hist = 60.59913915301126\n",
      "loss hist = 60.25492469091264\n",
      "loss hist = 60.12456055293008\n",
      "loss hist = 60.62998833731999\n",
      "loss hist = 60.392424114166744\n",
      "loss hist = 60.13905570620582\n",
      "loss hist = 60.763249836270774\n",
      "loss hist = 60.19032491956438\n",
      "loss hist = 60.450181325276695\n",
      "loss hist = 61.42148490179153\n",
      "loss hist = 60.233200042966814\n",
      "loss hist = 60.41797634911916\n",
      "loss hist = 60.45388518439399\n",
      "loss hist = 60.490093624781046\n",
      "loss hist = 60.339843023391\n",
      "loss hist = 60.44602244240897\n",
      "loss hist = 60.403504008338565\n",
      "loss hist = 60.28138027493916\n",
      "loss hist = 60.57321605985127\n",
      "loss hist = 60.414771307082404\n"
     ]
    }
   ],
   "source": [
    "for e in range(n_epochs):\n",
    "    loss_hist = 0\n",
    "    for x_batch, y_batch in train_dl:\n",
    "        pred = model(x_batch)[:,0]\n",
    "        cost = loss_f( pred, y_batch )\n",
    "        cost.backward()\n",
    "        optim.step()\n",
    "        optim.zero_grad()\n",
    "        loss_hist += cost.item()\n",
    "    if e % n_logs == 0:\n",
    "        print(f\"loss hist = {loss_hist / len(train_dl)}\")"
   ]
  }
 ],
 "metadata": {
  "kernelspec": {
   "display_name": "Python 3 (ipykernel)",
   "language": "python",
   "name": "python3"
  },
  "language_info": {
   "codemirror_mode": {
    "name": "ipython",
    "version": 3
   },
   "file_extension": ".py",
   "mimetype": "text/x-python",
   "name": "python",
   "nbconvert_exporter": "python",
   "pygments_lexer": "ipython3",
   "version": "3.12.1"
  }
 },
 "nbformat": 4,
 "nbformat_minor": 5
}
