{
 "cells": [
  {
   "cell_type": "markdown",
   "id": "28eb7055-8286-43e8-810e-98787703ff74",
   "metadata": {
    "jp-MarkdownHeadingCollapsed": true
   },
   "source": [
    "### PyTorch's Computation Graphs"
   ]
  },
  {
   "cell_type": "code",
   "execution_count": 3,
   "id": "aaa26b53-7ab9-4d1c-bf06-dbee4995eb79",
   "metadata": {},
   "outputs": [],
   "source": [
    "import torch"
   ]
  },
  {
   "cell_type": "code",
   "execution_count": 4,
   "id": "f7da81e0-65cd-44e5-a8db-abfbe15938f5",
   "metadata": {},
   "outputs": [],
   "source": [
    "def compute_z( a, b, c ):\n",
    "    r1 = torch.sub(a,b)\n",
    "    r2 = torch.mul(r1,2)\n",
    "    z  = torch.add(r2,c)\n",
    "    return z"
   ]
  },
  {
   "cell_type": "code",
   "execution_count": 5,
   "id": "1265d157-81d9-460f-bb31-0964de7450f5",
   "metadata": {},
   "outputs": [
    {
     "data": {
      "text/plain": [
       "tensor(1)"
      ]
     },
     "execution_count": 5,
     "metadata": {},
     "output_type": "execute_result"
    }
   ],
   "source": [
    "compute_z(1,2,3)"
   ]
  },
  {
   "cell_type": "code",
   "execution_count": 6,
   "id": "8a73d704-755c-47b0-9a8c-88e9b278b0ec",
   "metadata": {},
   "outputs": [
    {
     "data": {
      "text/plain": [
       "tensor(1)"
      ]
     },
     "execution_count": 6,
     "metadata": {},
     "output_type": "execute_result"
    }
   ],
   "source": [
    "compute_z(torch.tensor(1),torch.tensor(2),torch.tensor(3))"
   ]
  },
  {
   "cell_type": "code",
   "execution_count": 7,
   "id": "f7eab623-33cd-4145-b901-55818eb7014e",
   "metadata": {},
   "outputs": [
    {
     "data": {
      "text/plain": [
       "tensor([[1]])"
      ]
     },
     "execution_count": 7,
     "metadata": {},
     "output_type": "execute_result"
    }
   ],
   "source": [
    "compute_z(torch.tensor([[1]]),torch.tensor([[2]]),torch.tensor([[3]]))"
   ]
  },
  {
   "cell_type": "markdown",
   "id": "75418b2e-1c39-4abd-9047-02c733da22d7",
   "metadata": {
    "jp-MarkdownHeadingCollapsed": true
   },
   "source": [
    "### Tensors Gradient"
   ]
  },
  {
   "cell_type": "code",
   "execution_count": 8,
   "id": "15be595a-6670-403e-9ffe-3f46537a3803",
   "metadata": {},
   "outputs": [
    {
     "name": "stdout",
     "output_type": "stream",
     "text": [
      "False\n"
     ]
    }
   ],
   "source": [
    "a = torch.tensor([3.123,123,321])\n",
    "print(a.requires_grad)"
   ]
  },
  {
   "cell_type": "code",
   "execution_count": 9,
   "id": "19838619-7096-43d8-b963-3badb3ca6dae",
   "metadata": {},
   "outputs": [
    {
     "name": "stdout",
     "output_type": "stream",
     "text": [
      "True\n"
     ]
    }
   ],
   "source": [
    "a.requires_grad_()\n",
    "print(a.requires_grad)"
   ]
  },
  {
   "cell_type": "markdown",
   "id": "3193bf08-c7bc-46a3-a1c8-cb50778f51d8",
   "metadata": {},
   "source": [
    "The `method_()` methods are in-place functions to increase efficiency."
   ]
  },
  {
   "cell_type": "markdown",
   "id": "27cdaac4-b755-40f4-8826-f62e8b169c04",
   "metadata": {
    "jp-MarkdownHeadingCollapsed": true
   },
   "source": [
    "### Tensors Random Init"
   ]
  },
  {
   "cell_type": "code",
   "execution_count": 10,
   "id": "7236d48c-485e-42f7-b36c-6ce3cfef8e4f",
   "metadata": {},
   "outputs": [],
   "source": [
    "import torch.nn as nn"
   ]
  },
  {
   "cell_type": "code",
   "execution_count": 11,
   "id": "d0c84c32-7c58-4568-8ef2-d84ea77e95ac",
   "metadata": {},
   "outputs": [
    {
     "data": {
      "text/plain": [
       "tensor([[-0.3944, -0.2626,  1.0169],\n",
       "        [-0.0609, -0.6730, -0.2243]])"
      ]
     },
     "execution_count": 11,
     "metadata": {},
     "output_type": "execute_result"
    }
   ],
   "source": [
    "a = torch.empty(2,3)\n",
    "nn.init.xavier_normal_(a)"
   ]
  },
  {
   "cell_type": "code",
   "execution_count": 12,
   "id": "e622776c-21dc-44df-8c82-bbbb55e1134a",
   "metadata": {},
   "outputs": [],
   "source": [
    "class myModule( nn.Module ):\n",
    "    def __init__(self):\n",
    "        super().__init__()\n",
    "        self.w1 = torch.empty(2, 3, reqeuire_grad = True )\n",
    "        nn.init.xavier_normal_(self.w1)\n",
    "        self.w2 = torch.empty(1, 2, reqeuire_grad = True )\n",
    "        nn.init.xavier_normal_(self.w2)"
   ]
  },
  {
   "cell_type": "code",
   "execution_count": null,
   "id": "86c5cddb-2a0e-4beb-bb05-10f1c71de43f",
   "metadata": {},
   "outputs": [],
   "source": []
  },
  {
   "cell_type": "markdown",
   "id": "91cfd250-a583-4527-8eed-b47d76ea883c",
   "metadata": {
    "jp-MarkdownHeadingCollapsed": true
   },
   "source": [
    "### Automatic Diffrentation"
   ]
  },
  {
   "cell_type": "code",
   "execution_count": 13,
   "id": "89e370ac-0f0a-42e5-b997-1f8b07231218",
   "metadata": {},
   "outputs": [],
   "source": [
    "w = torch.tensor( (2.0, 3.0), requires_grad = True ) \n",
    "b = torch.tensor( 2.0, requires_grad = True ) \n",
    "x = torch.randn(2)"
   ]
  },
  {
   "cell_type": "code",
   "execution_count": 14,
   "id": "aa9bdaf2-796b-4a75-8cf1-58b3a6b501b2",
   "metadata": {},
   "outputs": [
    {
     "data": {
      "text/plain": [
       "tensor([ 0.6158, -0.7107], grad_fn=<AddBackward0>)"
      ]
     },
     "execution_count": 14,
     "metadata": {},
     "output_type": "execute_result"
    }
   ],
   "source": [
    "z = (x.mul(w)).add(b)\n",
    "z"
   ]
  },
  {
   "cell_type": "code",
   "execution_count": 15,
   "id": "9e5fda03-e5ac-4289-a452-496f5d4b14fd",
   "metadata": {},
   "outputs": [],
   "source": [
    "y = torch.tensor( [1.5, 4.3] )"
   ]
  },
  {
   "cell_type": "code",
   "execution_count": 16,
   "id": "9c7d2bc3-3f07-43f9-bae6-657090b77075",
   "metadata": {},
   "outputs": [],
   "source": [
    "loss = ( y.sub(z) ).pow(2).sum()"
   ]
  },
  {
   "cell_type": "code",
   "execution_count": 17,
   "id": "7f3f5798-e1c3-49b2-b7ba-dece55d12557",
   "metadata": {},
   "outputs": [
    {
     "name": "stdout",
     "output_type": "stream",
     "text": [
      "dL/dw : tensor([1.2239, 9.0549])\n",
      "dL/db : -11.789711952209473\n"
     ]
    }
   ],
   "source": [
    "loss.backward()\n",
    "print(f\"dL/dw : {w.grad}\")\n",
    "print(f\"dL/db : {b.grad}\")"
   ]
  },
  {
   "cell_type": "markdown",
   "id": "c961d41e-d3ef-43aa-86d8-ed1505e93035",
   "metadata": {},
   "source": [
    "### nn.Sequential"
   ]
  },
  {
   "cell_type": "code",
   "execution_count": 18,
   "id": "d513b7eb-a7f2-4724-901b-b9ed7dcb3937",
   "metadata": {},
   "outputs": [
    {
     "data": {
      "text/plain": [
       "'\\n    In order to bind some nn.modules after each other we can\\n    use this method. It is a kind of container that will\\n    execute in a sequential way.\\n'"
      ]
     },
     "execution_count": 18,
     "metadata": {},
     "output_type": "execute_result"
    }
   ],
   "source": [
    "'''\n",
    "    In order to bind some nn.modules after each other we can\n",
    "    use this method. It is a kind of container that will\n",
    "    execute in a sequential way.\n",
    "'''"
   ]
  },
  {
   "cell_type": "code",
   "execution_count": 19,
   "id": "3f0b4f13-9a01-4d3b-85bd-c76f14b05ecb",
   "metadata": {},
   "outputs": [
    {
     "data": {
      "text/plain": [
       "Sequential(\n",
       "  (0): Linear(in_features=14, out_features=6, bias=True)\n",
       "  (1): ReLU()\n",
       "  (2): Linear(in_features=16, out_features=32, bias=True)\n",
       "  (3): ReLU()\n",
       ")"
      ]
     },
     "execution_count": 19,
     "metadata": {},
     "output_type": "execute_result"
    }
   ],
   "source": [
    "model = nn.Sequential(\n",
    "    nn.Linear(14,6),\n",
    "    nn.ReLU(),\n",
    "    nn.Linear(16,32),\n",
    "    nn.ReLU()\n",
    ")\n",
    "model"
   ]
  },
  {
   "cell_type": "code",
   "execution_count": 20,
   "id": "c1a575e0-4500-4ad0-b360-ddb7cdc1d978",
   "metadata": {},
   "outputs": [
    {
     "data": {
      "text/plain": [
       "tensor(0.6393, grad_fn=<MulBackward0>)"
      ]
     },
     "execution_count": 20,
     "metadata": {},
     "output_type": "execute_result"
    }
   ],
   "source": [
    "nn.init.xavier_uniform_(model[0].weight)\n",
    "l1_weight = 0.01\n",
    "l1_penalty = l1_weight * model[2].weight.abs().sum()\n",
    "l1_penalty"
   ]
  },
  {
   "cell_type": "code",
   "execution_count": 28,
   "id": "411c39f8-8e1b-4672-be5d-e41f608c24f2",
   "metadata": {},
   "outputs": [],
   "source": [
    "loss_fn = nn.BCELoss()\n",
    "optim = torch.optim.SGD(lr=0.001, params = model.parameters() )"
   ]
  },
  {
   "cell_type": "code",
   "execution_count": 22,
   "id": "1befb861-78dc-4866-9249-5a95ba162dcb",
   "metadata": {},
   "outputs": [],
   "source": [
    "import numpy as np\n",
    "import matplotlib.pyplot as plt"
   ]
  },
  {
   "cell_type": "code",
   "execution_count": 30,
   "id": "ddd00f61-6b14-4b28-b615-78171758a623",
   "metadata": {},
   "outputs": [],
   "source": [
    "torch.manual_seed(0)\n",
    "np.random.seed(0)"
   ]
  },
  {
   "cell_type": "code",
   "execution_count": 49,
   "id": "37b27b1b-a5cd-4a6f-8609-2de995a472a9",
   "metadata": {},
   "outputs": [],
   "source": [
    "x = np.random.uniform( low = -1, high = 1, size = (200,2) )\n",
    "y = np.ones( len(x) )\n",
    "y[ x[:,0] * x[:,1] < 0 ] = 0"
   ]
  },
  {
   "cell_type": "code",
   "execution_count": 50,
   "id": "aa457577-e0df-4fec-9ec1-7ddf453ec019",
   "metadata": {},
   "outputs": [],
   "source": [
    "n_train = 100\n",
    "\n",
    "x_train = torch.tensor( x[:n_train, :], dtype = torch.float32 ) \n",
    "x_valid = torch.tensor( x[n_train:, :], dtype = torch.float32 ) \n",
    "\n",
    "y_train = torch.tensor( y[:n_train], dtype = torch.float32 ) \n",
    "y_valid = torch.tensor( y[n_train:], dtype = torch.float32 ) "
   ]
  },
  {
   "cell_type": "code",
   "execution_count": 61,
   "id": "d5e24307-5224-460a-82be-a1d021c7b9f0",
   "metadata": {},
   "outputs": [
    {
     "data": {
      "text/plain": [
       "<matplotlib.collections.PathCollection at 0x1d691950c20>"
      ]
     },
     "execution_count": 61,
     "metadata": {},
     "output_type": "execute_result"
    },
    {
     "data": {
      "image/png": "[encoded data removed]",
      "text/plain": [
       "<Figure size 640x480 with 1 Axes>"
      ]
     },
     "metadata": {},
     "output_type": "display_data"
    }
   ],
   "source": [
    "plt.scatter( x[ y == 0, 0], x[ y == 0, 1], color = \"crimson\",marker = \"s\")\n",
    "plt.scatter( x[ y == 1, 0], x[ y == 1, 1], color = \"blue\" )"
   ]
  },
  {
   "cell_type": "code",
   "execution_count": 63,
   "id": "989a29e8-5a0d-45ef-b7fb-c8a341f5c80d",
   "metadata": {},
   "outputs": [],
   "source": [
    "model1 = nn.Sequential(\n",
    "    nn.Linear(2,1),\n",
    "    nn.Softmax() \n",
    ")"
   ]
  },
  {
   "cell_type": "code",
   "execution_count": 66,
   "id": "27c2e837-5fb1-4ced-9df6-27e9ff131e51",
   "metadata": {},
   "outputs": [],
   "source": [
    "loss_fun = nn.BCELoss()\n",
    "optim = torch.optim.SGD( params=model1.parameters(), lr=0.01)"
   ]
  },
  {
   "cell_type": "code",
   "execution_count": 67,
   "id": "319eb081-3956-4339-ba12-8d6854f6f228",
   "metadata": {},
   "outputs": [],
   "source": [
    "from torch.utils.data import DataLoader\n",
    "from torch.utils.data import TensorDataset"
   ]
  },
  {
   "cell_type": "code",
   "execution_count": 68,
   "id": "406b76d7-cb24-4cbe-a8a6-f2aa41659719",
   "metadata": {},
   "outputs": [],
   "source": [
    "td_train = TensorDataset( x_train, y_train ) \n",
    "dl_train = DataLoader(dataset=td_train, batch_size=2, shuffle=True )"
   ]
  },
  {
   "cell_type": "code",
   "execution_count": 77,
   "id": "1c602a0d-3c1d-4a17-8339-01c5e12506cc",
   "metadata": {},
   "outputs": [],
   "source": [
    "for x_batch, y_batch in dl_train:\n",
    "    pred = model1( x_batch )\n",
    "    break"
   ]
  },
  {
   "cell_type": "code",
   "execution_count": 85,
   "id": "8697e024-28f2-4e77-8857-7ab7886319a9",
   "metadata": {},
   "outputs": [
    {
     "data": {
      "text/plain": [
       "tensor([[0., 0.],\n",
       "        [0., 0.]])"
      ]
     },
     "execution_count": 85,
     "metadata": {},
     "output_type": "execute_result"
    }
   ],
   "source": [
    "(( pred == 1 ).float() == y_batch ).float()"
   ]
  },
  {
   "cell_type": "code",
   "execution_count": null,
   "id": "d37314ac-d964-4cab-a24c-278a10ed767f",
   "metadata": {},
   "outputs": [],
   "source": [
    "is_correct = "
   ]
  },
  {
   "cell_type": "code",
   "execution_count": null,
   "id": "e4c12879-c63e-43a6-8bad-20effddd18e8",
   "metadata": {},
   "outputs": [],
   "source": [
    "def train( model, x_valid, y_valid, dl, n_epoch ):\n",
    "    loss_hist_train = [0] * n_epoch\n",
    "    acc_hist_train = [0] * n_epoch\n",
    "    loss_hist_valid = [0] * n_epoch\n",
    "    acc_hist_valid = [0] * n_epoch\n",
    "    for e in range(n_epoch):\n",
    "        for x_batch, y_batch in dl:\n",
    "            y_pred = model(x_batch)\n",
    "            cost = loss_fun( y_pred, y_batch )\n",
    "            cost.backward()\n",
    "            optim.step()\n",
    "            optim.zero_grad()\n",
    "            loss_hist_train[n_epoch] += cost.item()\n",
    "            loss_hist_train[n_epoch] += cost.item()"
   ]
  },
  {
   "cell_type": "code",
   "execution_count": null,
   "id": "9791a50e-19e3-4b4c-b0cf-ad5c8f8dd77d",
   "metadata": {},
   "outputs": [],
   "source": []
  }
 ],
 "metadata": {
  "kernelspec": {
   "display_name": "Python 3 (ipykernel)",
   "language": "python",
   "name": "python3"
  },
  "language_info": {
   "codemirror_mode": {
    "name": "ipython",
    "version": 3
   },
   "file_extension": ".py",
   "mimetype": "text/x-python",
   "name": "python",
   "nbconvert_exporter": "python",
   "pygments_lexer": "ipython3",
   "version": "3.12.1"
  }
 },
 "nbformat": 4,
 "nbformat_minor": 5
}
