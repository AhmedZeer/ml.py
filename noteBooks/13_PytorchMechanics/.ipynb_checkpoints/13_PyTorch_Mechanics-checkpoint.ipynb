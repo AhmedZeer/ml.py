{
 "cells": [
  {
   "cell_type": "markdown",
   "id": "28eb7055-8286-43e8-810e-98787703ff74",
   "metadata": {
    "jp-MarkdownHeadingCollapsed": true
   },
   "source": [
    "### PyTorch's Computation Graphs"
   ]
  },
  {
   "cell_type": "code",
   "execution_count": 1,
   "id": "aaa26b53-7ab9-4d1c-bf06-dbee4995eb79",
   "metadata": {},
   "outputs": [],
   "source": [
    "import torch"
   ]
  },
  {
   "cell_type": "code",
   "execution_count": 7,
   "id": "f7da81e0-65cd-44e5-a8db-abfbe15938f5",
   "metadata": {},
   "outputs": [],
   "source": [
    "def compute_z( a, b, c ):\n",
    "    r1 = torch.sub(a,b)\n",
    "    r2 = torch.mul(r1,2)\n",
    "    z  = torch.add(r2,c)\n",
    "    return z"
   ]
  },
  {
   "cell_type": "code",
   "execution_count": 8,
   "id": "1265d157-81d9-460f-bb31-0964de7450f5",
   "metadata": {},
   "outputs": [
    {
     "data": {
      "text/plain": [
       "tensor(1)"
      ]
     },
     "execution_count": 8,
     "metadata": {},
     "output_type": "execute_result"
    }
   ],
   "source": [
    "compute_z(1,2,3)"
   ]
  },
  {
   "cell_type": "code",
   "execution_count": 10,
   "id": "8a73d704-755c-47b0-9a8c-88e9b278b0ec",
   "metadata": {},
   "outputs": [
    {
     "data": {
      "text/plain": [
       "tensor(1)"
      ]
     },
     "execution_count": 10,
     "metadata": {},
     "output_type": "execute_result"
    }
   ],
   "source": [
    "compute_z(torch.tensor(1),torch.tensor(2),torch.tensor(3))"
   ]
  },
  {
   "cell_type": "code",
   "execution_count": 11,
   "id": "f7eab623-33cd-4145-b901-55818eb7014e",
   "metadata": {},
   "outputs": [
    {
     "data": {
      "text/plain": [
       "tensor([[1]])"
      ]
     },
     "execution_count": 11,
     "metadata": {},
     "output_type": "execute_result"
    }
   ],
   "source": [
    "compute_z(torch.tensor([[1]]),torch.tensor([[2]]),torch.tensor([[3]]))"
   ]
  },
  {
   "cell_type": "markdown",
   "id": "75418b2e-1c39-4abd-9047-02c733da22d7",
   "metadata": {
    "jp-MarkdownHeadingCollapsed": true
   },
   "source": [
    "### Tensors Gradient"
   ]
  },
  {
   "cell_type": "code",
   "execution_count": 20,
   "id": "15be595a-6670-403e-9ffe-3f46537a3803",
   "metadata": {},
   "outputs": [
    {
     "name": "stdout",
     "output_type": "stream",
     "text": [
      "False\n"
     ]
    }
   ],
   "source": [
    "a = torch.tensor([3.123,123,321])\n",
    "print(a.requires_grad)"
   ]
  },
  {
   "cell_type": "code",
   "execution_count": 21,
   "id": "19838619-7096-43d8-b963-3badb3ca6dae",
   "metadata": {},
   "outputs": [
    {
     "name": "stdout",
     "output_type": "stream",
     "text": [
      "True\n"
     ]
    }
   ],
   "source": [
    "a.requires_grad_()\n",
    "print(a.requires_grad)"
   ]
  },
  {
   "cell_type": "markdown",
   "id": "3193bf08-c7bc-46a3-a1c8-cb50778f51d8",
   "metadata": {},
   "source": [
    "The `method_()` methods are in-place functions to increase efficiency."
   ]
  },
  {
   "cell_type": "markdown",
   "id": "27cdaac4-b755-40f4-8826-f62e8b169c04",
   "metadata": {
    "jp-MarkdownHeadingCollapsed": true
   },
   "source": [
    "### Tensors Random Init"
   ]
  },
  {
   "cell_type": "code",
   "execution_count": 22,
   "id": "7236d48c-485e-42f7-b36c-6ce3cfef8e4f",
   "metadata": {},
   "outputs": [],
   "source": [
    "import torch.nn as nn"
   ]
  },
  {
   "cell_type": "code",
   "execution_count": 32,
   "id": "d0c84c32-7c58-4568-8ef2-d84ea77e95ac",
   "metadata": {},
   "outputs": [
    {
     "data": {
      "text/plain": [
       "tensor([[ 0.3244,  0.2392,  1.0183],\n",
       "        [ 0.5733, -0.7506,  1.0690]])"
      ]
     },
     "execution_count": 32,
     "metadata": {},
     "output_type": "execute_result"
    }
   ],
   "source": [
    "a = torch.empty(2,3)\n",
    "nn.init.xavier_normal_(a)"
   ]
  },
  {
   "cell_type": "code",
   "execution_count": 35,
   "id": "e622776c-21dc-44df-8c82-bbbb55e1134a",
   "metadata": {},
   "outputs": [],
   "source": [
    "class myModule( nn.Module ):\n",
    "    def __init__(self):\n",
    "        super().__init__()\n",
    "        self.w1 = torch.empty(2, 3, reqeuire_grad = True )\n",
    "        nn.init.xavier_normal_(self.w1)\n",
    "        self.w2 = torch.empty(1, 2, reqeuire_grad = True )\n",
    "        nn.init.xavier_normal_(self.w2)"
   ]
  },
  {
   "cell_type": "code",
   "execution_count": null,
   "id": "86c5cddb-2a0e-4beb-bb05-10f1c71de43f",
   "metadata": {},
   "outputs": [],
   "source": []
  },
  {
   "cell_type": "markdown",
   "id": "91cfd250-a583-4527-8eed-b47d76ea883c",
   "metadata": {},
   "source": [
    "### Automatic Diffrentation"
   ]
  },
  {
   "cell_type": "code",
   "execution_count": 42,
   "id": "89e370ac-0f0a-42e5-b997-1f8b07231218",
   "metadata": {},
   "outputs": [],
   "source": [
    "w = torch.tensor( (2.0, 3.0), requires_grad = True ) \n",
    "b = torch.tensor( 2.0, requires_grad = True ) \n",
    "x = torch.randn(2)"
   ]
  },
  {
   "cell_type": "code",
   "execution_count": 47,
   "id": "aa9bdaf2-796b-4a75-8cf1-58b3a6b501b2",
   "metadata": {},
   "outputs": [
    {
     "data": {
      "text/plain": [
       "tensor([1.0225, 4.9693], grad_fn=<AddBackward0>)"
      ]
     },
     "execution_count": 47,
     "metadata": {},
     "output_type": "execute_result"
    }
   ],
   "source": [
    "z = (x.mul(w)).add(b)\n",
    "z"
   ]
  },
  {
   "cell_type": "code",
   "execution_count": 49,
   "id": "9e5fda03-e5ac-4289-a452-496f5d4b14fd",
   "metadata": {},
   "outputs": [
    {
     "data": {
      "text/plain": [
       "<bound method Tensor.backward of tensor([1.0225, 4.9693], grad_fn=<AddBackward0>)>"
      ]
     },
     "execution_count": 49,
     "metadata": {},
     "output_type": "execute_result"
    }
   ],
   "source": [
    "z.backward"
   ]
  },
  {
   "cell_type": "code",
   "execution_count": null,
   "id": "9c7d2bc3-3f07-43f9-bae6-657090b77075",
   "metadata": {},
   "outputs": [],
   "source": []
  },
  {
   "cell_type": "code",
   "execution_count": null,
   "id": "7ec5b2e8-464e-4c6c-9f2d-45bf6719c31b",
   "metadata": {},
   "outputs": [],
   "source": []
  }
 ],
 "metadata": {
  "kernelspec": {
   "display_name": "Python 3 (ipykernel)",
   "language": "python",
   "name": "python3"
  },
  "language_info": {
   "codemirror_mode": {
    "name": "ipython",
    "version": 3
   },
   "file_extension": ".py",
   "mimetype": "text/x-python",
   "name": "python",
   "nbconvert_exporter": "python",
   "pygments_lexer": "ipython3",
   "version": "3.12.1"
  }
 },
 "nbformat": 4,
 "nbformat_minor": 5
}
