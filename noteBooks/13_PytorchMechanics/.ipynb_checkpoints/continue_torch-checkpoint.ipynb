{
 "cells": [
  {
   "cell_type": "code",
   "execution_count": 1,
   "id": "c0c9d3ba-7ed5-4e3f-8d30-9e1142aa38c1",
   "metadata": {},
   "outputs": [],
   "source": [
    "import torch\n",
    "import torch.nn as nn"
   ]
  },
  {
   "cell_type": "code",
   "execution_count": 9,
   "id": "3a7f5c8c-db33-4174-bf85-960cf0a9f718",
   "metadata": {},
   "outputs": [
    {
     "data": {
      "text/plain": [
       "tensor([[0., 0., 0.],\n",
       "        [0., 0., 0.]])"
      ]
     },
     "execution_count": 9,
     "metadata": {},
     "output_type": "execute_result"
    }
   ],
   "source": [
    "torch.Tensor( 2,3 ).fill_(0)"
   ]
  },
  {
   "cell_type": "code",
   "execution_count": 12,
   "id": "ec099911-b589-4322-82d1-5e1f4d4745c9",
   "metadata": {},
   "outputs": [],
   "source": [
    "class NoisyLinear( nn.Module ):\n",
    "    def __init__( self, input_size, output_size, stddev = 0.1 ):\n",
    "        super().__init__()\n",
    "        w = torch.Tensor( input_size, output_size )\n",
    "        self.w = nn.Parameter(w)\n",
    "        nn.init.xavier_normal_(w)\n",
    "\n",
    "        b = torch.Tensor( output_size ).fill_(0)\n",
    "        self.b = nn.Parameter(b)\n",
    "        self.stddev_noise = stddev\n",
    "\n",
    "    def forward( self, x, is_training = False ):\n",
    "        if is_training:\n",
    "            noise = torch.normal( 0.0,  self.stddev, self.x )\n",
    "            new_x = torch.add( x, noise )\n",
    "        else:\n",
    "            new_x = x\n",
    "        return torch.(torch.multiply( x, self.w ), self.b )\n",
    "        "
   ]
  },
  {
   "cell_type": "code",
   "execution_count": null,
   "id": "9ec2eb3b-f9fd-4f99-bac5-07ed1bb4f7ec",
   "metadata": {},
   "outputs": [],
   "source": []
  }
 ],
 "metadata": {
  "kernelspec": {
   "display_name": "Python 3 (ipykernel)",
   "language": "python",
   "name": "python3"
  },
  "language_info": {
   "codemirror_mode": {
    "name": "ipython",
    "version": 3
   },
   "file_extension": ".py",
   "mimetype": "text/x-python",
   "name": "python",
   "nbconvert_exporter": "python",
   "pygments_lexer": "ipython3",
   "version": "3.12.1"
  }
 },
 "nbformat": 4,
 "nbformat_minor": 5
}
