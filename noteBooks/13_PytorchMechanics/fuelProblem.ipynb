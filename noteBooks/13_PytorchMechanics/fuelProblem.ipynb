{
 "cells": [
  {
   "cell_type": "code",
   "execution_count": 125,
   "id": "d299706b-7252-4bad-9829-4d61e5b3148c",
   "metadata": {},
   "outputs": [],
   "source": [
    "import pandas as pd\n",
    "from sklearn.model_selection import train_test_split\n",
    "import torch\n",
    "import torch.nn as nn\n",
    "import torch.nn.functional as F\n",
    "from torch.nn.functional import one_hot\n",
    "from torch.utils.data import TensorDataset\n",
    "from torch.utils.data import DataLoader"
   ]
  },
  {
   "cell_type": "code",
   "execution_count": 3,
   "id": "66d60058-8583-4240-af54-3ba2650f026f",
   "metadata": {},
   "outputs": [
    {
     "data": {
      "text/html": [
       "<div>\n",
       "<style scoped>\n",
       "    .dataframe tbody tr th:only-of-type {\n",
       "        vertical-align: middle;\n",
       "    }\n",
       "\n",
       "    .dataframe tbody tr th {\n",
       "        vertical-align: top;\n",
       "    }\n",
       "\n",
       "    .dataframe thead th {\n",
       "        text-align: right;\n",
       "    }\n",
       "</style>\n",
       "<table border=\"1\" class=\"dataframe\">\n",
       "  <thead>\n",
       "    <tr style=\"text-align: right;\">\n",
       "      <th></th>\n",
       "      <th>MPG</th>\n",
       "      <th>Cylinders</th>\n",
       "      <th>Displacement</th>\n",
       "      <th>Horsepower</th>\n",
       "      <th>Weight</th>\n",
       "      <th>Acceleration</th>\n",
       "      <th>Model Year</th>\n",
       "      <th>Origin</th>\n",
       "    </tr>\n",
       "  </thead>\n",
       "  <tbody>\n",
       "    <tr>\n",
       "      <th>393</th>\n",
       "      <td>27.0</td>\n",
       "      <td>4</td>\n",
       "      <td>140.0</td>\n",
       "      <td>86.0</td>\n",
       "      <td>2790.0</td>\n",
       "      <td>15.6</td>\n",
       "      <td>82</td>\n",
       "      <td>1</td>\n",
       "    </tr>\n",
       "    <tr>\n",
       "      <th>394</th>\n",
       "      <td>44.0</td>\n",
       "      <td>4</td>\n",
       "      <td>97.0</td>\n",
       "      <td>52.0</td>\n",
       "      <td>2130.0</td>\n",
       "      <td>24.6</td>\n",
       "      <td>82</td>\n",
       "      <td>2</td>\n",
       "    </tr>\n",
       "    <tr>\n",
       "      <th>395</th>\n",
       "      <td>32.0</td>\n",
       "      <td>4</td>\n",
       "      <td>135.0</td>\n",
       "      <td>84.0</td>\n",
       "      <td>2295.0</td>\n",
       "      <td>11.6</td>\n",
       "      <td>82</td>\n",
       "      <td>1</td>\n",
       "    </tr>\n",
       "    <tr>\n",
       "      <th>396</th>\n",
       "      <td>28.0</td>\n",
       "      <td>4</td>\n",
       "      <td>120.0</td>\n",
       "      <td>79.0</td>\n",
       "      <td>2625.0</td>\n",
       "      <td>18.6</td>\n",
       "      <td>82</td>\n",
       "      <td>1</td>\n",
       "    </tr>\n",
       "    <tr>\n",
       "      <th>397</th>\n",
       "      <td>31.0</td>\n",
       "      <td>4</td>\n",
       "      <td>119.0</td>\n",
       "      <td>82.0</td>\n",
       "      <td>2720.0</td>\n",
       "      <td>19.4</td>\n",
       "      <td>82</td>\n",
       "      <td>1</td>\n",
       "    </tr>\n",
       "  </tbody>\n",
       "</table>\n",
       "</div>"
      ],
      "text/plain": [
       "      MPG  Cylinders  Displacement  Horsepower  Weight  Acceleration  \\\n",
       "393  27.0          4         140.0        86.0  2790.0          15.6   \n",
       "394  44.0          4          97.0        52.0  2130.0          24.6   \n",
       "395  32.0          4         135.0        84.0  2295.0          11.6   \n",
       "396  28.0          4         120.0        79.0  2625.0          18.6   \n",
       "397  31.0          4         119.0        82.0  2720.0          19.4   \n",
       "\n",
       "     Model Year  Origin  \n",
       "393          82       1  \n",
       "394          82       2  \n",
       "395          82       1  \n",
       "396          82       1  \n",
       "397          82       1  "
      ]
     },
     "execution_count": 3,
     "metadata": {},
     "output_type": "execute_result"
    }
   ],
   "source": [
    "url = 'http://archive.ics.uci.edu/ml/machine-learning-databases/auto-mpg/auto-mpg.data'\n",
    "column_names = ['MPG', 'Cylinders', 'Displacement', 'Horsepower', 'Weight',\n",
    "                'Acceleration', 'Model Year', 'Origin']\n",
    "\n",
    "df = pd.read_csv(url, names=column_names,\n",
    "                 na_values = \"?\", comment='\\t',\n",
    "                 sep=\" \", skipinitialspace=True)\n",
    "\n",
    "df.tail()"
   ]
  },
  {
   "cell_type": "code",
   "execution_count": 17,
   "id": "7e8006de-4687-48ac-a987-f7d85c69d02e",
   "metadata": {},
   "outputs": [],
   "source": [
    "df.dropna(inplace=True)\n",
    "df.reset_index( drop=True, inplace = True)"
   ]
  },
  {
   "cell_type": "code",
   "execution_count": 89,
   "id": "abfa39b0-a448-40fb-aae8-32fe024190ec",
   "metadata": {},
   "outputs": [],
   "source": [
    "numerical_cols = [\"Cylinders\", \"Displacement\", \"Horsepower\", \"Weight\", \"Acceleration\"]"
   ]
  },
  {
   "cell_type": "code",
   "execution_count": 21,
   "id": "88b0b118-44bf-401c-98ce-6cbe4b4a4653",
   "metadata": {},
   "outputs": [],
   "source": [
    "df_train, df_test = train_test_split( df, train_size=0.8, random_state=0 )"
   ]
  },
  {
   "cell_type": "code",
   "execution_count": 120,
   "id": "55a8de5a-30d9-42c5-9466-e3fe58202f76",
   "metadata": {},
   "outputs": [],
   "source": [
    "y_train = torch.tensor(df_train['MPG'].values).float()\n",
    "y_test = torch.tensor(df_test['MPG'].values).float()"
   ]
  },
  {
   "cell_type": "code",
   "execution_count": 122,
   "id": "70a2bf98-1225-4783-9fd7-caca90ef4f02",
   "metadata": {},
   "outputs": [],
   "source": [
    "# x_train_numericals = df_train[numerical_cols]\n",
    "# x_test_numericals = df_test[numerical_cols]"
   ]
  },
  {
   "cell_type": "code",
   "execution_count": 121,
   "id": "bf2ebff3-6090-46fe-afd7-41d6e8e26e22",
   "metadata": {},
   "outputs": [],
   "source": [
    "train_details = df_train.describe().transpose()\n",
    "test_details = df_test.describe().transpose()"
   ]
  },
  {
   "cell_type": "code",
   "execution_count": 32,
   "id": "0fb281b5-0a71-4c8f-b807-14eb10435bb4",
   "metadata": {},
   "outputs": [
    {
     "data": {
      "text/html": [
       "<div>\n",
       "<style scoped>\n",
       "    .dataframe tbody tr th:only-of-type {\n",
       "        vertical-align: middle;\n",
       "    }\n",
       "\n",
       "    .dataframe tbody tr th {\n",
       "        vertical-align: top;\n",
       "    }\n",
       "\n",
       "    .dataframe thead th {\n",
       "        text-align: right;\n",
       "    }\n",
       "</style>\n",
       "<table border=\"1\" class=\"dataframe\">\n",
       "  <thead>\n",
       "    <tr style=\"text-align: right;\">\n",
       "      <th></th>\n",
       "      <th>count</th>\n",
       "      <th>mean</th>\n",
       "      <th>std</th>\n",
       "      <th>min</th>\n",
       "      <th>25%</th>\n",
       "      <th>50%</th>\n",
       "      <th>75%</th>\n",
       "      <th>max</th>\n",
       "    </tr>\n",
       "  </thead>\n",
       "  <tbody>\n",
       "    <tr>\n",
       "      <th>Cylinders</th>\n",
       "      <td>313.0</td>\n",
       "      <td>5.447284</td>\n",
       "      <td>1.690263</td>\n",
       "      <td>3.0</td>\n",
       "      <td>4.0</td>\n",
       "      <td>4.0</td>\n",
       "      <td>8.0</td>\n",
       "      <td>8.0</td>\n",
       "    </tr>\n",
       "    <tr>\n",
       "      <th>Displacement</th>\n",
       "      <td>313.0</td>\n",
       "      <td>192.787540</td>\n",
       "      <td>103.201153</td>\n",
       "      <td>68.0</td>\n",
       "      <td>105.0</td>\n",
       "      <td>151.0</td>\n",
       "      <td>260.0</td>\n",
       "      <td>455.0</td>\n",
       "    </tr>\n",
       "    <tr>\n",
       "      <th>Horsepower</th>\n",
       "      <td>313.0</td>\n",
       "      <td>104.009585</td>\n",
       "      <td>37.915348</td>\n",
       "      <td>46.0</td>\n",
       "      <td>78.0</td>\n",
       "      <td>95.0</td>\n",
       "      <td>120.0</td>\n",
       "      <td>230.0</td>\n",
       "    </tr>\n",
       "    <tr>\n",
       "      <th>Weight</th>\n",
       "      <td>313.0</td>\n",
       "      <td>2972.255591</td>\n",
       "      <td>841.134947</td>\n",
       "      <td>1613.0</td>\n",
       "      <td>2230.0</td>\n",
       "      <td>2815.0</td>\n",
       "      <td>3574.0</td>\n",
       "      <td>5140.0</td>\n",
       "    </tr>\n",
       "    <tr>\n",
       "      <th>Acceleration</th>\n",
       "      <td>313.0</td>\n",
       "      <td>15.560383</td>\n",
       "      <td>2.785476</td>\n",
       "      <td>8.0</td>\n",
       "      <td>13.6</td>\n",
       "      <td>15.5</td>\n",
       "      <td>17.0</td>\n",
       "      <td>24.8</td>\n",
       "    </tr>\n",
       "  </tbody>\n",
       "</table>\n",
       "</div>"
      ],
      "text/plain": [
       "              count         mean         std     min     25%     50%     75%  \\\n",
       "Cylinders     313.0     5.447284    1.690263     3.0     4.0     4.0     8.0   \n",
       "Displacement  313.0   192.787540  103.201153    68.0   105.0   151.0   260.0   \n",
       "Horsepower    313.0   104.009585   37.915348    46.0    78.0    95.0   120.0   \n",
       "Weight        313.0  2972.255591  841.134947  1613.0  2230.0  2815.0  3574.0   \n",
       "Acceleration  313.0    15.560383    2.785476     8.0    13.6    15.5    17.0   \n",
       "\n",
       "                 max  \n",
       "Cylinders        8.0  \n",
       "Displacement   455.0  \n",
       "Horsepower     230.0  \n",
       "Weight        5140.0  \n",
       "Acceleration    24.8  "
      ]
     },
     "execution_count": 32,
     "metadata": {},
     "output_type": "execute_result"
    }
   ],
   "source": [
    "train_details"
   ]
  },
  {
   "cell_type": "code",
   "execution_count": 90,
   "id": "7fce1274-a95d-4f09-bf15-6a8f9eb869b1",
   "metadata": {},
   "outputs": [],
   "source": [
    "# Normalize Numericals\n",
    "\n",
    "df_train_norm = df_train.copy()\n",
    "df_test_norm  = df_test.copy()\n",
    "\n",
    "for col in numerical_cols:\n",
    "    \n",
    "    train_mean = train_details.loc[col,\"mean\"]\n",
    "    train_std = train_details.loc[col,\"std\"]\n",
    "    df_train_norm[col] = ( df_train_norm[col] - train_mean ) / train_std\n",
    "\n",
    "    test_mean = test_details.loc[col,\"mean\"]\n",
    "    test_std = test_details.loc[col,\"std\"]\n",
    "    df_test_norm[col] = ( df_test_norm[col] - train_mean ) / train_std\n"
   ]
  },
  {
   "cell_type": "code",
   "execution_count": 41,
   "id": "746ecf44-1c4b-4133-8db3-bb0deace3430",
   "metadata": {},
   "outputs": [
    {
     "data": {
      "text/plain": [
       "count    392.000000\n",
       "mean      75.979592\n",
       "std        3.683737\n",
       "min       70.000000\n",
       "25%       73.000000\n",
       "50%       76.000000\n",
       "75%       79.000000\n",
       "max       82.000000\n",
       "Name: Model Year, dtype: float64"
      ]
     },
     "execution_count": 41,
     "metadata": {},
     "output_type": "execute_result"
    }
   ],
   "source": [
    "df.describe().transpose().loc['Model Year']"
   ]
  },
  {
   "cell_type": "code",
   "execution_count": 92,
   "id": "06b46de1-0fe4-47d8-bd40-14d035c0674f",
   "metadata": {},
   "outputs": [],
   "source": [
    "boundries = torch.tensor([73,76,79] )\n",
    "v = torch.tensor( df_train['Model Year'].values )"
   ]
  },
  {
   "cell_type": "code",
   "execution_count": 93,
   "id": "afca7809-c1fb-417e-92b9-f4d8f98a0b99",
   "metadata": {},
   "outputs": [],
   "source": [
    "df_train_norm['Bucketted Year'] = torch.bucketize( v, boundries, right = True )"
   ]
  },
  {
   "cell_type": "code",
   "execution_count": 94,
   "id": "f970f22b-f715-44e5-a69b-f4508675d06c",
   "metadata": {},
   "outputs": [],
   "source": [
    "boundries = torch.tensor([73,76,79] )\n",
    "v = torch.tensor( df_test['Model Year'].values )"
   ]
  },
  {
   "cell_type": "code",
   "execution_count": 95,
   "id": "74e9c33e-19ab-464e-b86f-ed5922110e60",
   "metadata": {},
   "outputs": [],
   "source": [
    "df_test_norm['Bucketted Year'] = torch.bucketize( v, boundries, right = True )"
   ]
  },
  {
   "cell_type": "code",
   "execution_count": 96,
   "id": "6f5284b1-2081-4c73-a739-20f5688135c0",
   "metadata": {},
   "outputs": [],
   "source": [
    "numerical_cols.append('Bucketted Year')"
   ]
  },
  {
   "cell_type": "code",
   "execution_count": 113,
   "id": "925b0dc1-fbff-432f-b686-4fc71e518ac5",
   "metadata": {},
   "outputs": [],
   "source": [
    "x_train_numeric = torch.tensor(df_train[numerical_cols].values)\n",
    "x_test_numeric = torch.tensor(df_test[numerical_cols].values)"
   ]
  },
  {
   "cell_type": "code",
   "execution_count": 118,
   "id": "1c5644ac-6a6c-4705-bca6-070bb5792ac0",
   "metadata": {},
   "outputs": [],
   "source": [
    "origin_num = len(set(df_train_norm['Origin'].values))\n",
    "origin_encoded = one_hot( torch.tensor(df_train_norm['Origin'].values) % origin_num )\n",
    "x_train = torch.cat( (x_train_numeric, origin_encoded), 1 ).float()"
   ]
  },
  {
   "cell_type": "code",
   "execution_count": 119,
   "id": "4b9a6cfb-6bda-4a38-be08-d818f0f85d80",
   "metadata": {},
   "outputs": [],
   "source": [
    "origin_num = len(set(df_test_norm['Origin'].values))\n",
    "origin_encoded = one_hot( torch.tensor(df_test_norm['Origin'].values) % origin_num )\n",
    "x_test = torch.cat( (x_test_numeric, origin_encoded), 1 ).float()"
   ]
  },
  {
   "cell_type": "code",
   "execution_count": 168,
   "id": "75271476-1f39-4824-8eec-55c881306784",
   "metadata": {},
   "outputs": [],
   "source": [
    "batch_size = 8\n",
    "torch.manual_seed(0)\n",
    "td_train = TensorDataset( x_train, y_train )\n",
    "dl_train = DataLoader( td_train, batch_size=batch_size, shuffle=True )"
   ]
  },
  {
   "cell_type": "code",
   "execution_count": 169,
   "id": "a27a82ad-42f9-4620-870a-13f7fc17967c",
   "metadata": {},
   "outputs": [],
   "source": [
    "hidden_unit = [8,4]\n",
    "input_size = x_train.shape[1]\n",
    "\n",
    "all_layers = []\n",
    "for unit in hidden_unit:\n",
    "    layer = nn.Linear(input_size, unit)\n",
    "    all_layers.append(layer)\n",
    "    all_layers.append(nn.ReLU())\n",
    "    input_size = unit\n",
    "\n",
    "all_layers.append(nn.Linear(hidden_unit[-1], 1))\n",
    "\n",
    "model = nn.Sequential( *all_layers )\n",
    "loss_f = nn.MSELoss()\n",
    "# optimizer = torch.optim.SGD( params=model.parameters(), lr=0.01 )"
   ]
  },
  {
   "cell_type": "code",
   "execution_count": null,
   "id": "10c4cba3-eec4-4139-8c51-2428be924fd8",
   "metadata": {},
   "outputs": [],
   "source": [
    "# Change the optimizer to Adam\n",
    "optimizer = torch.optim.SGD(params=model.parameters(), lr=0.001)\n",
    "\n",
    "# Training loop with more epochs and logging the loss history\n",
    "n_epochs = 500\n",
    "n_log = 20\n",
    "losses = []\n",
    "\n",
    "for e in range(n_epochs):\n",
    "    loss_history = 0\n",
    "    for x_batch, y_batch in dl_train:\n",
    "        pred = model(x_batch)[:, 0]\n",
    "        cost = loss_f(pred, y_batch)\n",
    "        cost.backward()\n",
    "        optimizer.step()\n",
    "        optimizer.zero_grad()\n",
    "        loss_history += cost.item()\n",
    "    avg_loss = loss_history / len(dl_train)\n",
    "    losses.append(avg_loss)\n",
    "    if e % n_log == 0:\n",
    "        print(f\"loss: {avg_loss}\")\n"
   ]
  },
  {
   "cell_type": "code",
   "execution_count": 173,
   "id": "2e1bf890-d53f-403b-bc99-c5f6b5be060a",
   "metadata": {},
   "outputs": [
    {
     "data": {
      "image/png": "[encoded data removed]",
      "text/plain": [
       "<Figure size 640x480 with 1 Axes>"
      ]
     },
     "metadata": {},
     "output_type": "display_data"
    }
   ],
   "source": [
    "import matplotlib.pyplot as plt\n",
    "\n",
    "plt.plot(losses)\n",
    "plt.xlabel('Epochs')\n",
    "plt.ylabel('Loss')\n",
    "plt.title('Training Loss')\n",
    "plt.show()\n"
   ]
  }
 ],
 "metadata": {
  "kernelspec": {
   "display_name": "Python 3 (ipykernel)",
   "language": "python",
   "name": "python3"
  },
  "language_info": {
   "codemirror_mode": {
    "name": "ipython",
    "version": 3
   },
   "file_extension": ".py",
   "mimetype": "text/x-python",
   "name": "python",
   "nbconvert_exporter": "python",
   "pygments_lexer": "ipython3",
   "version": "3.12.1"
  }
 },
 "nbformat": 4,
 "nbformat_minor": 5
}
