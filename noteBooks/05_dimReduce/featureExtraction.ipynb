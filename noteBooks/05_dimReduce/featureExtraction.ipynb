{
 "cells": [
  {
   "cell_type": "code",
   "execution_count": null,
   "id": "4a2b2f73-d68c-4846-b86d-119fc9262454",
   "metadata": {},
   "outputs": [],
   "source": [
    "'''\n",
    "    The main difference between feature `extraction` and `selection` is that we project\n",
    "    the data to a new feature subspace.\n",
    "\n",
    "    These tricks can be very handy not only to reduce the amount of storage space but also \n",
    "    to maximize the accuracy of learning algirthms that are non-regularized.\n",
    "\n",
    "    The first two methods describes how to reduce dimensions in a linear way ( LDA, PCA )\n",
    "'''"
   ]
  },
  {
   "cell_type": "markdown",
   "id": "eec3c6cf-2066-4a19-920c-ec4935370988",
   "metadata": {
    "jp-MarkdownHeadingCollapsed": true
   },
   "source": [
    "# Principal Component Analysis ( PCA )"
   ]
  },
  {
   "cell_type": "code",
   "execution_count": null,
   "id": "58b37641-1914-4dd0-aaba-a7353f83e5d4",
   "metadata": {},
   "outputs": [],
   "source": [
    "'''\n",
    "    * In a nutshell, what it does is find the directions where most variance occures in a dataset.\n",
    "    Using these new orthogonal vectore ( PCA vectors ) a new subspace can be found.\n",
    "\n",
    "    * It is highly sensitive to data scaling so the data needs to be standardized.\n",
    "'''"
   ]
  },
  {
   "cell_type": "markdown",
   "id": "76eefa34-9abc-4109-8f18-bb82c97cd2f7",
   "metadata": {
    "jp-MarkdownHeadingCollapsed": true
   },
   "source": [
    "## Raw Imp."
   ]
  },
  {
   "cell_type": "code",
   "execution_count": 1,
   "id": "5b14c765-5901-4329-9c69-50b7fcd83a1e",
   "metadata": {},
   "outputs": [],
   "source": [
    "import pandas as pd"
   ]
  },
  {
   "cell_type": "code",
   "execution_count": 2,
   "id": "24eafdca-8078-4a1d-acec-446610cba4e0",
   "metadata": {},
   "outputs": [],
   "source": [
    "df = pd.read_csv( 'https://archive.ics.uci.edu/ml/machine-learning-databases/wine/wine.data' , header = None)"
   ]
  },
  {
   "cell_type": "code",
   "execution_count": 3,
   "id": "0cb65d79-58be-4bde-ae41-92c4f5cb91d4",
   "metadata": {},
   "outputs": [],
   "source": [
    "from sklearn.model_selection import train_test_split"
   ]
  },
  {
   "cell_type": "code",
   "execution_count": 4,
   "id": "727f47d9-b823-4cdb-9676-94866969b7e2",
   "metadata": {},
   "outputs": [],
   "source": [
    "y = df.iloc[:, 0].values\n",
    "X = df.iloc[:, 1:].values"
   ]
  },
  {
   "cell_type": "code",
   "execution_count": 5,
   "id": "b3efaabf-8fe6-464f-9b1d-ab54da43567c",
   "metadata": {},
   "outputs": [],
   "source": [
    "X_train, X_test, y_train, y_test = train_test_split( X, y, test_size = 0.3, random_state=0, stratify=y )  "
   ]
  },
  {
   "cell_type": "code",
   "execution_count": 6,
   "id": "73876732-f29b-4088-8ca3-52bbb63c2c78",
   "metadata": {},
   "outputs": [],
   "source": [
    "from sklearn.preprocessing import StandardScaler"
   ]
  },
  {
   "cell_type": "code",
   "execution_count": 7,
   "id": "16c7c8a0-cdb3-4dc6-8719-7b21b29061a8",
   "metadata": {},
   "outputs": [],
   "source": [
    "sc = StandardScaler()"
   ]
  },
  {
   "cell_type": "code",
   "execution_count": 8,
   "id": "cabee4d9-0d6a-4286-98fb-0fc31b345707",
   "metadata": {},
   "outputs": [],
   "source": [
    "X_train_std = sc.fit_transform( X_train )\n",
    "X_test_std = sc.transform( X_test )"
   ]
  },
  {
   "cell_type": "code",
   "execution_count": null,
   "id": "fd0dba18-3844-4fd2-8e61-817ea0fda217",
   "metadata": {},
   "outputs": [],
   "source": [
    "'''\n",
    "    * We will start by computing the covariance matrix of our dataset.\n",
    "    As you can see, because we have standardized the dataset, the mean of each \n",
    "    feature would be 0 ( X_j - \\mu{j} ). So, when we multiply all of the features'\n",
    "    variances we should conclude the relationship between them upon the sign\n",
    "    of the result. If it is positive they are correlated, otherwise not.\n",
    "\n",
    "    * Obtaining the eign vectors/values will give us the most `varied` features.\n",
    "'''"
   ]
  },
  {
   "cell_type": "code",
   "execution_count": 30,
   "id": "d41121e3-bc6a-4cb8-bebf-2219b325f87d",
   "metadata": {},
   "outputs": [],
   "source": [
    "import numpy as np"
   ]
  },
  {
   "cell_type": "code",
   "execution_count": 140,
   "id": "182cfba5-018a-49ad-bb4f-51d0434c8bf4",
   "metadata": {},
   "outputs": [],
   "source": [
    "cov_matrix = np.cov( X_train_std.T )"
   ]
  },
  {
   "cell_type": "code",
   "execution_count": 141,
   "id": "953a4896-1c0c-4a66-bf70-e96b743d8aec",
   "metadata": {},
   "outputs": [],
   "source": [
    "eign_vals, eign_vecs = np.linalg.eig( cov_matrix )"
   ]
  },
  {
   "cell_type": "code",
   "execution_count": 142,
   "id": "ff27b78c-df94-4393-afc2-da2daabd6a02",
   "metadata": {},
   "outputs": [],
   "source": [
    "tot = sum(eign_vals)"
   ]
  },
  {
   "cell_type": "code",
   "execution_count": 143,
   "id": "6254358c-2ba6-49ab-a2de-6af75708a338",
   "metadata": {},
   "outputs": [],
   "source": [
    "var_ratio = [ ( i / tot ) for i in sorted(eign_vals, reverse = True )  ] "
   ]
  },
  {
   "cell_type": "code",
   "execution_count": 144,
   "id": "181a0f75-8e49-477c-996c-e120f88b2b68",
   "metadata": {},
   "outputs": [],
   "source": [
    "cum_var_ratio = np.cumsum( var_ratio )"
   ]
  },
  {
   "cell_type": "code",
   "execution_count": 145,
   "id": "43a67b99-b364-4060-a913-ecd08833495e",
   "metadata": {},
   "outputs": [],
   "source": [
    "import matplotlib.pyplot as plt"
   ]
  },
  {
   "cell_type": "code",
   "execution_count": 146,
   "id": "b7214b6f-6d1f-458a-9149-d6c4c400d127",
   "metadata": {},
   "outputs": [
    {
     "data": {
      "text/plain": [
       "Text(0.5, 0, 'Pirncipal Component Index')"
      ]
     },
     "execution_count": 146,
     "metadata": {},
     "output_type": "execute_result"
    },
    {
     "data": {
      "image/png": "[encoded data removed]",
      "text/plain": [
       "<Figure size 640x480 with 1 Axes>"
      ]
     },
     "metadata": {},
     "output_type": "display_data"
    }
   ],
   "source": [
    "plt.step( range(len(eign_vals)), cum_var_ratio, label = \"cumulative ratio\")\n",
    "plt.bar( range(len(eign_vals)), var_ratio, label = \"Vector's covariance\" )\n",
    "plt.legend()\n",
    "plt.ylabel(\"Covariance Ratio\")\n",
    "plt.xlabel(\"Pirncipal Component Index\")"
   ]
  },
  {
   "cell_type": "code",
   "execution_count": null,
   "id": "f045cb14-fc99-44ad-b32c-d50aea2b6701",
   "metadata": {},
   "outputs": [],
   "source": [
    "'''\n",
    "    * One of the most important diffrences between this method and the others used, like random forest,\n",
    "    is that this method is Unsupervised.\n",
    "'''"
   ]
  },
  {
   "cell_type": "code",
   "execution_count": 147,
   "id": "b275dbe7-c1d6-42a2-acdb-38a2b729cb50",
   "metadata": {},
   "outputs": [],
   "source": [
    "eign_pairs = [( np.abs(eign_vals[i]) , eign_vecs[:, i] ) for i in range(len(eign_vals))]"
   ]
  },
  {
   "cell_type": "code",
   "execution_count": 148,
   "id": "4df58697-074a-45c3-b550-b4dfa1468c50",
   "metadata": {},
   "outputs": [],
   "source": [
    "eign_pairs.sort( key = lambda k:k[0], reverse=True)"
   ]
  },
  {
   "cell_type": "code",
   "execution_count": 149,
   "id": "1f20fba9-1fb9-4fce-9c4d-861a7a96b513",
   "metadata": {},
   "outputs": [],
   "source": [
    "W = np.hstack( (eign_pairs[0][1][:, np.newaxis], eign_pairs[1][1][:, np.newaxis]) )"
   ]
  },
  {
   "cell_type": "code",
   "execution_count": 150,
   "id": "92d1d028-c55e-45b8-bbbb-78bb6f49384a",
   "metadata": {},
   "outputs": [
    {
     "data": {
      "text/plain": [
       "array([[-0.13724218,  0.50303478],\n",
       "       [ 0.24724326,  0.16487119],\n",
       "       [-0.02545159,  0.24456476],\n",
       "       [ 0.20694508, -0.11352904],\n",
       "       [-0.15436582,  0.28974518],\n",
       "       [-0.39376952,  0.05080104],\n",
       "       [-0.41735106, -0.02287338],\n",
       "       [ 0.30572896,  0.09048885],\n",
       "       [-0.30668347,  0.00835233],\n",
       "       [ 0.07554066,  0.54977581],\n",
       "       [-0.32613263, -0.20716433],\n",
       "       [-0.36861022, -0.24902536],\n",
       "       [-0.29669651,  0.38022942]])"
      ]
     },
     "execution_count": 150,
     "metadata": {},
     "output_type": "execute_result"
    }
   ],
   "source": [
    "W"
   ]
  },
  {
   "cell_type": "code",
   "execution_count": 151,
   "id": "656d3f79-4004-4635-941e-470c5e548445",
   "metadata": {},
   "outputs": [],
   "source": [
    "X_train_PCA = X_train_std.dot( W )"
   ]
  },
  {
   "cell_type": "code",
   "execution_count": 152,
   "id": "d1faa983-10f4-4175-b42c-4b67a16365db",
   "metadata": {},
   "outputs": [],
   "source": [
    "l = np.unique( y_train ) "
   ]
  },
  {
   "cell_type": "code",
   "execution_count": 153,
   "id": "34ee1012-e8bd-4c34-a6f7-76e87c708f24",
   "metadata": {},
   "outputs": [
    {
     "data": {
      "text/plain": [
       "(124,)"
      ]
     },
     "execution_count": 153,
     "metadata": {},
     "output_type": "execute_result"
    }
   ],
   "source": [
    "y_train.shape"
   ]
  },
  {
   "cell_type": "code",
   "execution_count": 154,
   "id": "d513f998-b745-407d-918d-1e0348790a58",
   "metadata": {},
   "outputs": [
    {
     "data": {
      "text/plain": [
       "array([1, 2, 3])"
      ]
     },
     "execution_count": 154,
     "metadata": {},
     "output_type": "execute_result"
    }
   ],
   "source": [
    "l"
   ]
  },
  {
   "cell_type": "code",
   "execution_count": 155,
   "id": "b263cd95-e503-417f-a2c3-617a85ba9860",
   "metadata": {},
   "outputs": [
    {
     "data": {
      "text/plain": [
       "array([-1.96578183, -2.53907598, -1.43010776, -3.00366211, -1.12276518,\n",
       "       -1.58427878, -1.71438911, -2.07635784, -2.50372355, -2.19448402,\n",
       "       -1.11739618, -1.71469178, -2.48581303, -2.38993219, -2.65169609,\n",
       "       -1.16670455, -2.4858391 , -2.16575568, -2.66783112, -2.67324153,\n",
       "       -2.36367378, -0.39171875, -2.98908845, -1.91822539, -1.06050503,\n",
       "       -3.31185057, -2.23205085, -1.88961007, -3.08131761, -3.45716348,\n",
       "       -3.43344371, -4.20642597, -0.60047516, -3.08276231, -3.07882055,\n",
       "       -2.84838157, -2.46582558, -2.16983025, -2.66728229, -3.53223924,\n",
       "       -1.96637688])"
      ]
     },
     "execution_count": 155,
     "metadata": {},
     "output_type": "execute_result"
    }
   ],
   "source": [
    "X_train_PCA[ y_train == l[0], 0]"
   ]
  },
  {
   "cell_type": "code",
   "execution_count": 156,
   "id": "d0511f33-e5ef-4c63-b91c-c846c3488cc8",
   "metadata": {},
   "outputs": [
    {
     "data": {
      "image/png": "[encoded data removed]",
      "text/plain": [
       "<Figure size 640x480 with 1 Axes>"
      ]
     },
     "metadata": {},
     "output_type": "display_data"
    }
   ],
   "source": [
    "colors = ['r', 'g', 'b']\n",
    "markers = ['o', 's', 'v']\n",
    "\n",
    "for c, m, l in zip( colors, markers, np.unique( y_train ) ):\n",
    "    plt.scatter( X_train_PCA[ y_train == l, 0],\n",
    "                 X_train_PCA[ y_train == l, 1],\n",
    "                color = c, marker = m, label = f\"class {l}\" )"
   ]
  },
  {
   "cell_type": "markdown",
   "id": "14ecc8e0-2398-41e3-a5dd-a272bb079ed6",
   "metadata": {
    "jp-MarkdownHeadingCollapsed": true
   },
   "source": [
    "## Scikit Imp."
   ]
  },
  {
   "cell_type": "code",
   "execution_count": 218,
   "id": "6d95843a-3933-4246-a6fc-3734055a85bf",
   "metadata": {},
   "outputs": [],
   "source": [
    "from matplotlib.colors import ListedColormap\n",
    "\n",
    "def plot_decision_regions( X, y, classifier, resolution = 0.02 ):\n",
    "    \n",
    "    markers = ( 'o', 's', '<', '>', 'v' )\n",
    "    colors = ( \"red\", \"blue\", \"green\", \"lightgray\", \"cyan\" )\n",
    "    cmap = ListedColormap( colors[:len( np.unique(y)) ] )\n",
    "\n",
    "    x1_min, x1_max = ( X[:, 0].min() - 1 ), ( X[:, 0].max() + 1 )\n",
    "    x2_min, x2_max = ( X[:, 1].min() - 1 ), ( X[:, 1].max() + 1 )\n",
    "\n",
    "    xx1, xx2 = np.meshgrid( np.arange( x1_min, x1_max, resolution ), np.arange( x2_min, x2_max, resolution )) \n",
    "    lab = classifier.predict( np.array([xx1.ravel(), xx2.ravel()]).T )\n",
    "    lab = lab.reshape(xx1.shape)\n",
    "\n",
    "    plt.contourf( xx1, xx2, lab, alpha = 0.3, cmap = cmap )\n",
    "    plt.xlim( xx1.min(), xx1.max() )\n",
    "    plt.ylim( xx2.min(), xx2.max() )\n",
    "\n",
    "    for idx, cl in enumerate(np.unique(y)):\n",
    "        plt.scatter( x = X[ y == cl, 1],\n",
    "                     y = X[ y == cl, 0],\n",
    "                    alpha = 0.8,\n",
    "                    color = colors[idx],\n",
    "                    marker = markers[idx], )"
   ]
  },
  {
   "cell_type": "code",
   "execution_count": 158,
   "id": "aa569021-8ae1-4760-9c94-c5f431ef15be",
   "metadata": {},
   "outputs": [],
   "source": [
    "from sklearn.decomposition import PCA\n",
    "from sklearn.linear_model  import LogisticRegression"
   ]
  },
  {
   "cell_type": "code",
   "execution_count": 159,
   "id": "16b80bc9-f3bd-4af4-99c5-a6ee83413e0e",
   "metadata": {},
   "outputs": [],
   "source": [
    "lr = LogisticRegression( multi_class=\"ovr\", random_state=0, solver=\"lbfgs\" )"
   ]
  },
  {
   "cell_type": "code",
   "execution_count": 169,
   "id": "7d210002-4eb2-4f1b-987d-05cb9659b201",
   "metadata": {},
   "outputs": [],
   "source": [
    "pca = PCA( n_components=2 )"
   ]
  },
  {
   "cell_type": "code",
   "execution_count": 176,
   "id": "67f724c2-f0cd-45b6-95ab-c251c44499f3",
   "metadata": {},
   "outputs": [],
   "source": [
    "X_train_pca = pca.fit_transform( X_train_std )\n",
    "X_test_pca = pca.transform( X_test_std )"
   ]
  },
  {
   "cell_type": "code",
   "execution_count": 177,
   "id": "a13a308a-2b0b-46c1-baa7-896c3105da47",
   "metadata": {},
   "outputs": [
    {
     "name": "stderr",
     "output_type": "stream",
     "text": [
      "/home/ahmed4/ml.py/ml/lib/python3.12/site-packages/sklearn/linear_model/_logistic.py:1256: FutureWarning: 'multi_class' was deprecated in version 1.5 and will be removed in 1.7. Use OneVsRestClassifier(LogisticRegression(..)) instead. Leave it to its default value to avoid this warning.\n",
      "  warnings.warn(\n"
     ]
    },
    {
     "data": {
      "text/html": [
       "<style>#sk-container-id-9 {\n",
       "  /* Definition of color scheme common for light and dark mode */\n",
       "  --sklearn-color-text: black;\n",
       "  --sklearn-color-line: gray;\n",
       "  /* Definition of color scheme for unfitted estimators */\n",
       "  --sklearn-color-unfitted-level-0: #fff5e6;\n",
       "  --sklearn-color-unfitted-level-1: #f6e4d2;\n",
       "  --sklearn-color-unfitted-level-2: #ffe0b3;\n",
       "  --sklearn-color-unfitted-level-3: chocolate;\n",
       "  /* Definition of color scheme for fitted estimators */\n",
       "  --sklearn-color-fitted-level-0: #f0f8ff;\n",
       "  --sklearn-color-fitted-level-1: #d4ebff;\n",
       "  --sklearn-color-fitted-level-2: #b3dbfd;\n",
       "  --sklearn-color-fitted-level-3: cornflowerblue;\n",
       "\n",
       "  /* Specific color for light theme */\n",
       "  --sklearn-color-text-on-default-background: var(--sg-text-color, var(--theme-code-foreground, var(--jp-content-font-color1, black)));\n",
       "  --sklearn-color-background: var(--sg-background-color, var(--theme-background, var(--jp-layout-color0, white)));\n",
       "  --sklearn-color-border-box: var(--sg-text-color, var(--theme-code-foreground, var(--jp-content-font-color1, black)));\n",
       "  --sklearn-color-icon: #696969;\n",
       "\n",
       "  @media (prefers-color-scheme: dark) {\n",
       "    /* Redefinition of color scheme for dark theme */\n",
       "    --sklearn-color-text-on-default-background: var(--sg-text-color, var(--theme-code-foreground, var(--jp-content-font-color1, white)));\n",
       "    --sklearn-color-background: var(--sg-background-color, var(--theme-background, var(--jp-layout-color0, #111)));\n",
       "    --sklearn-color-border-box: var(--sg-text-color, var(--theme-code-foreground, var(--jp-content-font-color1, white)));\n",
       "    --sklearn-color-icon: #878787;\n",
       "  }\n",
       "}\n",
       "\n",
       "#sk-container-id-9 {\n",
       "  color: var(--sklearn-color-text);\n",
       "}\n",
       "\n",
       "#sk-container-id-9 pre {\n",
       "  padding: 0;\n",
       "}\n",
       "\n",
       "#sk-container-id-9 input.sk-hidden--visually {\n",
       "  border: 0;\n",
       "  clip: rect(1px 1px 1px 1px);\n",
       "  clip: rect(1px, 1px, 1px, 1px);\n",
       "  height: 1px;\n",
       "  margin: -1px;\n",
       "  overflow: hidden;\n",
       "  padding: 0;\n",
       "  position: absolute;\n",
       "  width: 1px;\n",
       "}\n",
       "\n",
       "#sk-container-id-9 div.sk-dashed-wrapped {\n",
       "  border: 1px dashed var(--sklearn-color-line);\n",
       "  margin: 0 0.4em 0.5em 0.4em;\n",
       "  box-sizing: border-box;\n",
       "  padding-bottom: 0.4em;\n",
       "  background-color: var(--sklearn-color-background);\n",
       "}\n",
       "\n",
       "#sk-container-id-9 div.sk-container {\n",
       "  /* jupyter's `normalize.less` sets `[hidden] { display: none; }`\n",
       "     but bootstrap.min.css set `[hidden] { display: none !important; }`\n",
       "     so we also need the `!important` here to be able to override the\n",
       "     default hidden behavior on the sphinx rendered scikit-learn.org.\n",
       "     See: https://github.com/scikit-learn/scikit-learn/issues/21755 */\n",
       "  display: inline-block !important;\n",
       "  position: relative;\n",
       "}\n",
       "\n",
       "#sk-container-id-9 div.sk-text-repr-fallback {\n",
       "  display: none;\n",
       "}\n",
       "\n",
       "div.sk-parallel-item,\n",
       "div.sk-serial,\n",
       "div.sk-item {\n",
       "  /* draw centered vertical line to link estimators */\n",
       "  background-image: linear-gradient(var(--sklearn-color-text-on-default-background), var(--sklearn-color-text-on-default-background));\n",
       "  background-size: 2px 100%;\n",
       "  background-repeat: no-repeat;\n",
       "  background-position: center center;\n",
       "}\n",
       "\n",
       "/* Parallel-specific style estimator block */\n",
       "\n",
       "#sk-container-id-9 div.sk-parallel-item::after {\n",
       "  content: \"\";\n",
       "  width: 100%;\n",
       "  border-bottom: 2px solid var(--sklearn-color-text-on-default-background);\n",
       "  flex-grow: 1;\n",
       "}\n",
       "\n",
       "#sk-container-id-9 div.sk-parallel {\n",
       "  display: flex;\n",
       "  align-items: stretch;\n",
       "  justify-content: center;\n",
       "  background-color: var(--sklearn-color-background);\n",
       "  position: relative;\n",
       "}\n",
       "\n",
       "#sk-container-id-9 div.sk-parallel-item {\n",
       "  display: flex;\n",
       "  flex-direction: column;\n",
       "}\n",
       "\n",
       "#sk-container-id-9 div.sk-parallel-item:first-child::after {\n",
       "  align-self: flex-end;\n",
       "  width: 50%;\n",
       "}\n",
       "\n",
       "#sk-container-id-9 div.sk-parallel-item:last-child::after {\n",
       "  align-self: flex-start;\n",
       "  width: 50%;\n",
       "}\n",
       "\n",
       "#sk-container-id-9 div.sk-parallel-item:only-child::after {\n",
       "  width: 0;\n",
       "}\n",
       "\n",
       "/* Serial-specific style estimator block */\n",
       "\n",
       "#sk-container-id-9 div.sk-serial {\n",
       "  display: flex;\n",
       "  flex-direction: column;\n",
       "  align-items: center;\n",
       "  background-color: var(--sklearn-color-background);\n",
       "  padding-right: 1em;\n",
       "  padding-left: 1em;\n",
       "}\n",
       "\n",
       "\n",
       "/* Toggleable style: style used for estimator/Pipeline/ColumnTransformer box that is\n",
       "clickable and can be expanded/collapsed.\n",
       "- Pipeline and ColumnTransformer use this feature and define the default style\n",
       "- Estimators will overwrite some part of the style using the `sk-estimator` class\n",
       "*/\n",
       "\n",
       "/* Pipeline and ColumnTransformer style (default) */\n",
       "\n",
       "#sk-container-id-9 div.sk-toggleable {\n",
       "  /* Default theme specific background. It is overwritten whether we have a\n",
       "  specific estimator or a Pipeline/ColumnTransformer */\n",
       "  background-color: var(--sklearn-color-background);\n",
       "}\n",
       "\n",
       "/* Toggleable label */\n",
       "#sk-container-id-9 label.sk-toggleable__label {\n",
       "  cursor: pointer;\n",
       "  display: block;\n",
       "  width: 100%;\n",
       "  margin-bottom: 0;\n",
       "  padding: 0.5em;\n",
       "  box-sizing: border-box;\n",
       "  text-align: center;\n",
       "}\n",
       "\n",
       "#sk-container-id-9 label.sk-toggleable__label-arrow:before {\n",
       "  /* Arrow on the left of the label */\n",
       "  content: \"▸\";\n",
       "  float: left;\n",
       "  margin-right: 0.25em;\n",
       "  color: var(--sklearn-color-icon);\n",
       "}\n",
       "\n",
       "#sk-container-id-9 label.sk-toggleable__label-arrow:hover:before {\n",
       "  color: var(--sklearn-color-text);\n",
       "}\n",
       "\n",
       "/* Toggleable content - dropdown */\n",
       "\n",
       "#sk-container-id-9 div.sk-toggleable__content {\n",
       "  max-height: 0;\n",
       "  max-width: 0;\n",
       "  overflow: hidden;\n",
       "  text-align: left;\n",
       "  /* unfitted */\n",
       "  background-color: var(--sklearn-color-unfitted-level-0);\n",
       "}\n",
       "\n",
       "#sk-container-id-9 div.sk-toggleable__content.fitted {\n",
       "  /* fitted */\n",
       "  background-color: var(--sklearn-color-fitted-level-0);\n",
       "}\n",
       "\n",
       "#sk-container-id-9 div.sk-toggleable__content pre {\n",
       "  margin: 0.2em;\n",
       "  border-radius: 0.25em;\n",
       "  color: var(--sklearn-color-text);\n",
       "  /* unfitted */\n",
       "  background-color: var(--sklearn-color-unfitted-level-0);\n",
       "}\n",
       "\n",
       "#sk-container-id-9 div.sk-toggleable__content.fitted pre {\n",
       "  /* unfitted */\n",
       "  background-color: var(--sklearn-color-fitted-level-0);\n",
       "}\n",
       "\n",
       "#sk-container-id-9 input.sk-toggleable__control:checked~div.sk-toggleable__content {\n",
       "  /* Expand drop-down */\n",
       "  max-height: 200px;\n",
       "  max-width: 100%;\n",
       "  overflow: auto;\n",
       "}\n",
       "\n",
       "#sk-container-id-9 input.sk-toggleable__control:checked~label.sk-toggleable__label-arrow:before {\n",
       "  content: \"▾\";\n",
       "}\n",
       "\n",
       "/* Pipeline/ColumnTransformer-specific style */\n",
       "\n",
       "#sk-container-id-9 div.sk-label input.sk-toggleable__control:checked~label.sk-toggleable__label {\n",
       "  color: var(--sklearn-color-text);\n",
       "  background-color: var(--sklearn-color-unfitted-level-2);\n",
       "}\n",
       "\n",
       "#sk-container-id-9 div.sk-label.fitted input.sk-toggleable__control:checked~label.sk-toggleable__label {\n",
       "  background-color: var(--sklearn-color-fitted-level-2);\n",
       "}\n",
       "\n",
       "/* Estimator-specific style */\n",
       "\n",
       "/* Colorize estimator box */\n",
       "#sk-container-id-9 div.sk-estimator input.sk-toggleable__control:checked~label.sk-toggleable__label {\n",
       "  /* unfitted */\n",
       "  background-color: var(--sklearn-color-unfitted-level-2);\n",
       "}\n",
       "\n",
       "#sk-container-id-9 div.sk-estimator.fitted input.sk-toggleable__control:checked~label.sk-toggleable__label {\n",
       "  /* fitted */\n",
       "  background-color: var(--sklearn-color-fitted-level-2);\n",
       "}\n",
       "\n",
       "#sk-container-id-9 div.sk-label label.sk-toggleable__label,\n",
       "#sk-container-id-9 div.sk-label label {\n",
       "  /* The background is the default theme color */\n",
       "  color: var(--sklearn-color-text-on-default-background);\n",
       "}\n",
       "\n",
       "/* On hover, darken the color of the background */\n",
       "#sk-container-id-9 div.sk-label:hover label.sk-toggleable__label {\n",
       "  color: var(--sklearn-color-text);\n",
       "  background-color: var(--sklearn-color-unfitted-level-2);\n",
       "}\n",
       "\n",
       "/* Label box, darken color on hover, fitted */\n",
       "#sk-container-id-9 div.sk-label.fitted:hover label.sk-toggleable__label.fitted {\n",
       "  color: var(--sklearn-color-text);\n",
       "  background-color: var(--sklearn-color-fitted-level-2);\n",
       "}\n",
       "\n",
       "/* Estimator label */\n",
       "\n",
       "#sk-container-id-9 div.sk-label label {\n",
       "  font-family: monospace;\n",
       "  font-weight: bold;\n",
       "  display: inline-block;\n",
       "  line-height: 1.2em;\n",
       "}\n",
       "\n",
       "#sk-container-id-9 div.sk-label-container {\n",
       "  text-align: center;\n",
       "}\n",
       "\n",
       "/* Estimator-specific */\n",
       "#sk-container-id-9 div.sk-estimator {\n",
       "  font-family: monospace;\n",
       "  border: 1px dotted var(--sklearn-color-border-box);\n",
       "  border-radius: 0.25em;\n",
       "  box-sizing: border-box;\n",
       "  margin-bottom: 0.5em;\n",
       "  /* unfitted */\n",
       "  background-color: var(--sklearn-color-unfitted-level-0);\n",
       "}\n",
       "\n",
       "#sk-container-id-9 div.sk-estimator.fitted {\n",
       "  /* fitted */\n",
       "  background-color: var(--sklearn-color-fitted-level-0);\n",
       "}\n",
       "\n",
       "/* on hover */\n",
       "#sk-container-id-9 div.sk-estimator:hover {\n",
       "  /* unfitted */\n",
       "  background-color: var(--sklearn-color-unfitted-level-2);\n",
       "}\n",
       "\n",
       "#sk-container-id-9 div.sk-estimator.fitted:hover {\n",
       "  /* fitted */\n",
       "  background-color: var(--sklearn-color-fitted-level-2);\n",
       "}\n",
       "\n",
       "/* Specification for estimator info (e.g. \"i\" and \"?\") */\n",
       "\n",
       "/* Common style for \"i\" and \"?\" */\n",
       "\n",
       ".sk-estimator-doc-link,\n",
       "a:link.sk-estimator-doc-link,\n",
       "a:visited.sk-estimator-doc-link {\n",
       "  float: right;\n",
       "  font-size: smaller;\n",
       "  line-height: 1em;\n",
       "  font-family: monospace;\n",
       "  background-color: var(--sklearn-color-background);\n",
       "  border-radius: 1em;\n",
       "  height: 1em;\n",
       "  width: 1em;\n",
       "  text-decoration: none !important;\n",
       "  margin-left: 1ex;\n",
       "  /* unfitted */\n",
       "  border: var(--sklearn-color-unfitted-level-1) 1pt solid;\n",
       "  color: var(--sklearn-color-unfitted-level-1);\n",
       "}\n",
       "\n",
       ".sk-estimator-doc-link.fitted,\n",
       "a:link.sk-estimator-doc-link.fitted,\n",
       "a:visited.sk-estimator-doc-link.fitted {\n",
       "  /* fitted */\n",
       "  border: var(--sklearn-color-fitted-level-1) 1pt solid;\n",
       "  color: var(--sklearn-color-fitted-level-1);\n",
       "}\n",
       "\n",
       "/* On hover */\n",
       "div.sk-estimator:hover .sk-estimator-doc-link:hover,\n",
       ".sk-estimator-doc-link:hover,\n",
       "div.sk-label-container:hover .sk-estimator-doc-link:hover,\n",
       ".sk-estimator-doc-link:hover {\n",
       "  /* unfitted */\n",
       "  background-color: var(--sklearn-color-unfitted-level-3);\n",
       "  color: var(--sklearn-color-background);\n",
       "  text-decoration: none;\n",
       "}\n",
       "\n",
       "div.sk-estimator.fitted:hover .sk-estimator-doc-link.fitted:hover,\n",
       ".sk-estimator-doc-link.fitted:hover,\n",
       "div.sk-label-container:hover .sk-estimator-doc-link.fitted:hover,\n",
       ".sk-estimator-doc-link.fitted:hover {\n",
       "  /* fitted */\n",
       "  background-color: var(--sklearn-color-fitted-level-3);\n",
       "  color: var(--sklearn-color-background);\n",
       "  text-decoration: none;\n",
       "}\n",
       "\n",
       "/* Span, style for the box shown on hovering the info icon */\n",
       ".sk-estimator-doc-link span {\n",
       "  display: none;\n",
       "  z-index: 9999;\n",
       "  position: relative;\n",
       "  font-weight: normal;\n",
       "  right: .2ex;\n",
       "  padding: .5ex;\n",
       "  margin: .5ex;\n",
       "  width: min-content;\n",
       "  min-width: 20ex;\n",
       "  max-width: 50ex;\n",
       "  color: var(--sklearn-color-text);\n",
       "  box-shadow: 2pt 2pt 4pt #999;\n",
       "  /* unfitted */\n",
       "  background: var(--sklearn-color-unfitted-level-0);\n",
       "  border: .5pt solid var(--sklearn-color-unfitted-level-3);\n",
       "}\n",
       "\n",
       ".sk-estimator-doc-link.fitted span {\n",
       "  /* fitted */\n",
       "  background: var(--sklearn-color-fitted-level-0);\n",
       "  border: var(--sklearn-color-fitted-level-3);\n",
       "}\n",
       "\n",
       ".sk-estimator-doc-link:hover span {\n",
       "  display: block;\n",
       "}\n",
       "\n",
       "/* \"?\"-specific style due to the `<a>` HTML tag */\n",
       "\n",
       "#sk-container-id-9 a.estimator_doc_link {\n",
       "  float: right;\n",
       "  font-size: 1rem;\n",
       "  line-height: 1em;\n",
       "  font-family: monospace;\n",
       "  background-color: var(--sklearn-color-background);\n",
       "  border-radius: 1rem;\n",
       "  height: 1rem;\n",
       "  width: 1rem;\n",
       "  text-decoration: none;\n",
       "  /* unfitted */\n",
       "  color: var(--sklearn-color-unfitted-level-1);\n",
       "  border: var(--sklearn-color-unfitted-level-1) 1pt solid;\n",
       "}\n",
       "\n",
       "#sk-container-id-9 a.estimator_doc_link.fitted {\n",
       "  /* fitted */\n",
       "  border: var(--sklearn-color-fitted-level-1) 1pt solid;\n",
       "  color: var(--sklearn-color-fitted-level-1);\n",
       "}\n",
       "\n",
       "/* On hover */\n",
       "#sk-container-id-9 a.estimator_doc_link:hover {\n",
       "  /* unfitted */\n",
       "  background-color: var(--sklearn-color-unfitted-level-3);\n",
       "  color: var(--sklearn-color-background);\n",
       "  text-decoration: none;\n",
       "}\n",
       "\n",
       "#sk-container-id-9 a.estimator_doc_link.fitted:hover {\n",
       "  /* fitted */\n",
       "  background-color: var(--sklearn-color-fitted-level-3);\n",
       "}\n",
       "</style><div id=\"sk-container-id-9\" class=\"sk-top-container\"><div class=\"sk-text-repr-fallback\"><pre>LogisticRegression(multi_class=&#x27;ovr&#x27;, random_state=0)</pre><b>In a Jupyter environment, please rerun this cell to show the HTML representation or trust the notebook. <br />On GitHub, the HTML representation is unable to render, please try loading this page with nbviewer.org.</b></div><div class=\"sk-container\" hidden><div class=\"sk-item\"><div class=\"sk-estimator fitted sk-toggleable\"><input class=\"sk-toggleable__control sk-hidden--visually\" id=\"sk-estimator-id-9\" type=\"checkbox\" checked><label for=\"sk-estimator-id-9\" class=\"sk-toggleable__label fitted sk-toggleable__label-arrow fitted\">&nbsp;&nbsp;LogisticRegression<a class=\"sk-estimator-doc-link fitted\" rel=\"noreferrer\" target=\"_blank\" href=\"https://scikit-learn.org/1.5/modules/generated/sklearn.linear_model.LogisticRegression.html\">?<span>Documentation for LogisticRegression</span></a><span class=\"sk-estimator-doc-link fitted\">i<span>Fitted</span></span></label><div class=\"sk-toggleable__content fitted\"><pre>LogisticRegression(multi_class=&#x27;ovr&#x27;, random_state=0)</pre></div> </div></div></div></div>"
      ],
      "text/plain": [
       "LogisticRegression(multi_class='ovr', random_state=0)"
      ]
     },
     "execution_count": 177,
     "metadata": {},
     "output_type": "execute_result"
    }
   ],
   "source": [
    "lr.fit( X_train_pca, y_train )"
   ]
  },
  {
   "cell_type": "code",
   "execution_count": 178,
   "id": "ead6498b-8632-4a57-b005-45cd5dfff174",
   "metadata": {},
   "outputs": [
    {
     "data": {
      "image/png": "[encoded data removed]",
      "text/plain": [
       "<Figure size 640x480 with 1 Axes>"
      ]
     },
     "metadata": {},
     "output_type": "display_data"
    }
   ],
   "source": [
    "plot_decision_regions( classifier = lr, X = X_test_pca, y = y_test )"
   ]
  },
  {
   "cell_type": "markdown",
   "id": "69badb08-14f0-47fa-990f-ae9d9ea3cab5",
   "metadata": {
    "jp-MarkdownHeadingCollapsed": true
   },
   "source": [
    "## Assessing each faeture's contribution."
   ]
  },
  {
   "cell_type": "code",
   "execution_count": null,
   "id": "bef0aca2-a842-4cd2-b7d8-85bebbc43d9f",
   "metadata": {},
   "outputs": [],
   "source": [
    "'''\n",
    "    loadings : Not only the whole variance of features is important to use. Sometimes, we would like\n",
    "    to know how each feature is contributing to the principal component.\n",
    "'''"
   ]
  },
  {
   "cell_type": "code",
   "execution_count": 179,
   "id": "7e318d0b-5aa3-4248-8680-db47b503e7b0",
   "metadata": {},
   "outputs": [],
   "source": [
    "loadings = eign_vecs * np.sqrt(eign_vals)"
   ]
  },
  {
   "cell_type": "code",
   "execution_count": 195,
   "id": "9fb4f596-fb0d-40a8-a988-06051cf7c306",
   "metadata": {},
   "outputs": [
    {
     "data": {
      "text/plain": [
       "Index([1, 2, 3, 4, 5, 6, 7, 8, 9, 10, 11, 12, 13], dtype='int64')"
      ]
     },
     "execution_count": 195,
     "metadata": {},
     "output_type": "execute_result"
    }
   ],
   "source": [
    "df.columns[1:]"
   ]
  },
  {
   "cell_type": "code",
   "execution_count": 201,
   "id": "d773d1a8-a1c8-4bb0-ab1f-697c830cdf56",
   "metadata": {},
   "outputs": [
    {
     "data": {
      "text/plain": [
       "[Text(0, 0, '1'),\n",
       " Text(1, 0, '2'),\n",
       " Text(2, 0, '3'),\n",
       " Text(3, 0, '4'),\n",
       " Text(4, 0, '5'),\n",
       " Text(5, 0, '6'),\n",
       " Text(6, 0, '7'),\n",
       " Text(7, 0, '8'),\n",
       " Text(8, 0, '9'),\n",
       " Text(9, 0, '10'),\n",
       " Text(10, 0, '11'),\n",
       " Text(11, 0, '12'),\n",
       " Text(12, 0, '13')]"
      ]
     },
     "execution_count": 201,
     "metadata": {},
     "output_type": "execute_result"
    },
    {
     "data": {
      "image/png": "[encoded data removed]",
      "text/plain": [
       "<Figure size 640x480 with 1 Axes>"
      ]
     },
     "metadata": {},
     "output_type": "display_data"
    }
   ],
   "source": [
    "fig, ax = plt.subplots()\n",
    "ax.bar( range(len(eign_vals)), loadings[:,0] )\n",
    "ax.set_xticks( range(len(eign_vals)) )\n",
    "ax.set_xticklabels( df.columns[1:], rotation = 90 )"
   ]
  },
  {
   "cell_type": "markdown",
   "id": "6ec20b8f-c89b-4530-afb4-e9cf3b6a94d6",
   "metadata": {
    "jp-MarkdownHeadingCollapsed": true
   },
   "source": [
    "# Linear Discriminant Analysis ( LDA )"
   ]
  },
  {
   "cell_type": "code",
   "execution_count": null,
   "id": "811e340b-ba3a-4f1c-a20b-4fe364fe7f52",
   "metadata": {},
   "outputs": [],
   "source": [
    "'''\n",
    "    LDA differs from PCA in the follwing way : it tries to maximize the seperation between the classes.\n",
    "    what that means is maximizing the mean difference between classes and minmizing their own `scatter \n",
    "    or variance`.\n",
    "'''"
   ]
  },
  {
   "cell_type": "code",
   "execution_count": 9,
   "id": "5d41e249-ac32-4273-8983-b2730f0bfa67",
   "metadata": {},
   "outputs": [],
   "source": [
    "import numpy as np"
   ]
  },
  {
   "cell_type": "code",
   "execution_count": 16,
   "id": "423e1471-9070-400b-9852-2d24ce6821ac",
   "metadata": {},
   "outputs": [],
   "source": [
    "np.set_printoptions( precision=2 )"
   ]
  },
  {
   "cell_type": "code",
   "execution_count": 33,
   "id": "e931e0c2-1cd7-465f-8c10-c20b618463c1",
   "metadata": {},
   "outputs": [],
   "source": [
    "labels = np.array(range(len(np.unique( y_train ))))+1"
   ]
  },
  {
   "cell_type": "code",
   "execution_count": 34,
   "id": "7ab4a7b6-3d9b-4cd8-8bbd-67e6c93b818a",
   "metadata": {},
   "outputs": [
    {
     "data": {
      "text/plain": [
       "array([1, 2, 3])"
      ]
     },
     "execution_count": 34,
     "metadata": {},
     "output_type": "execute_result"
    }
   ],
   "source": [
    "labels"
   ]
  },
  {
   "cell_type": "code",
   "execution_count": 45,
   "id": "b6005b7e-d288-4ee5-93a2-cd12091b092f",
   "metadata": {},
   "outputs": [
    {
     "data": {
      "text/plain": [
       "(124,)"
      ]
     },
     "execution_count": 45,
     "metadata": {},
     "output_type": "execute_result"
    }
   ],
   "source": [
    "y_train.shape"
   ]
  },
  {
   "cell_type": "code",
   "execution_count": 61,
   "id": "1c164810-0dd6-44c2-bf08-9ac82b863b8c",
   "metadata": {},
   "outputs": [
    {
     "data": {
      "text/plain": [
       "(50, 13)"
      ]
     },
     "execution_count": 61,
     "metadata": {},
     "output_type": "execute_result"
    }
   ],
   "source": [
    "X_train_std[ y_train == 2 ].shape"
   ]
  },
  {
   "cell_type": "code",
   "execution_count": 72,
   "id": "dbb22a5b-e6bb-4160-a03f-f979ce49d0d3",
   "metadata": {},
   "outputs": [],
   "source": [
    "mean_vecs = []\n",
    "for i in labels:\n",
    "    mean_vecs.append(np.mean(X_train_std[ y_train == i ], axis = 0))"
   ]
  },
  {
   "cell_type": "code",
   "execution_count": 85,
   "id": "b0d2aa2a-cbcb-4a16-b470-a401350ae742",
   "metadata": {},
   "outputs": [
    {
     "data": {
      "text/plain": [
       "[0, 1, 2]"
      ]
     },
     "execution_count": 85,
     "metadata": {},
     "output_type": "execute_result"
    }
   ],
   "source": [
    "list(range(len(mean_vecs)))"
   ]
  },
  {
   "cell_type": "code",
   "execution_count": 94,
   "id": "939cfcb8-3346-4bbf-a56f-9b07699d6b10",
   "metadata": {},
   "outputs": [],
   "source": [
    "mv = mean_vecs[0]"
   ]
  },
  {
   "cell_type": "code",
   "execution_count": 80,
   "id": "35b39864-08a0-481f-84b3-205189d8798e",
   "metadata": {},
   "outputs": [],
   "source": [
    "dims = X_train_std.shape[1]"
   ]
  },
  {
   "cell_type": "code",
   "execution_count": 97,
   "id": "ecf03394-1018-4d5f-b84a-696a8ecb862d",
   "metadata": {},
   "outputs": [],
   "source": [
    "S_W = np.zeros( ( dims, dims ) )\n",
    "for label, mv in zip( labels , mean_vecs ):\n",
    "    class_scatter = np.zeros( ( dims, dims ) )\n",
    "    for row in X_train_std[ y_train == label ]:\n",
    "        row, mv = row.reshape(dims,1), mv.reshape(dims,1)\n",
    "        class_scatter += ( row - mv ).dot( ( row - mv ).T )\n",
    "    S_W += class_scatter"
   ]
  },
  {
   "cell_type": "code",
   "execution_count": 101,
   "id": "06bd42b8-bdbc-47d4-b987-f7d74792aa94",
   "metadata": {},
   "outputs": [
    {
     "data": {
      "text/plain": [
       "array([41, 50, 33])"
      ]
     },
     "execution_count": 101,
     "metadata": {},
     "output_type": "execute_result"
    }
   ],
   "source": [
    "np.bincount(y_train)[1:]"
   ]
  },
  {
   "cell_type": "code",
   "execution_count": 181,
   "id": "10f67481-dca2-443c-b9f8-2b21ece4d213",
   "metadata": {},
   "outputs": [
    {
     "data": {
      "text/plain": [
       "'\\n    As you can see above, the distribution of classes dont look like a normal\\n    distrubtion, and that violates our assumptions. So, we end up dividing the scatter\\n    matrix with the number of unique classes. Fortunately, that yields the formula\\n    of covariance !\\n'"
      ]
     },
     "execution_count": 181,
     "metadata": {},
     "output_type": "execute_result"
    }
   ],
   "source": [
    "'''\n",
    "    As you can see above, the distribution of classes dont look like a normal\n",
    "    distrubtion, and that violates our assumptions. So, we end up dividing the scatter\n",
    "    matrix with the number of unique classes. Fortunately, that yields the formula\n",
    "    of covariance !\n",
    "'''"
   ]
  },
  {
   "cell_type": "code",
   "execution_count": 180,
   "id": "6b2e960d-1bf0-4daa-a491-3d3f59d50c7e",
   "metadata": {},
   "outputs": [],
   "source": [
    "S_W = np.zeros( (dims,dims) )\n",
    "for label, mv in zip( labels, mean_vecs ):\n",
    "    scatter += np.cov( X_train_std[ y_train == label ].T )\n",
    "    S_W += scatter"
   ]
  },
  {
   "cell_type": "code",
   "execution_count": 182,
   "id": "32634558-35b0-4c87-8b6d-caaf37fa5e04",
   "metadata": {},
   "outputs": [],
   "source": [
    "mean_overall = X_train_std.mean( axis = 0 )"
   ]
  },
  {
   "cell_type": "code",
   "execution_count": 183,
   "id": "b7f622ea-5f56-4951-b59e-034d12aa91fc",
   "metadata": {},
   "outputs": [],
   "source": [
    "mean_overall = mean_overall.reshape( dims, 1 )"
   ]
  },
  {
   "cell_type": "code",
   "execution_count": null,
   "id": "84261ee1-0596-4591-ae79-9b2685e1a6a8",
   "metadata": {},
   "outputs": [],
   "source": [
    "'''\n",
    "    After we have computed the within-scatter, or within-varinace, \n",
    "    we can move to the between-class matrix.\n",
    "'''"
   ]
  },
  {
   "cell_type": "code",
   "execution_count": 184,
   "id": "5d774702-28d2-4ed6-a430-b8d44a1074ab",
   "metadata": {},
   "outputs": [],
   "source": [
    "S_B = np.zeros( ( dims, dims ) )"
   ]
  },
  {
   "cell_type": "code",
   "execution_count": 185,
   "id": "54941654-7266-403f-9bed-81d088e84935",
   "metadata": {},
   "outputs": [],
   "source": [
    "for i, mv in enumerate( mean_vecs ):\n",
    "    n  = X_train_std[ y_train == i+1 ].shape[0]\n",
    "    mv = mv.reshape( dims, 1 )\n",
    "    S_B += n * ( mv - mean_overall ).dot( ( mv - mean_overall ).T )"
   ]
  },
  {
   "cell_type": "code",
   "execution_count": null,
   "id": "c5dfbf8c-53d7-4e53-8776-957bc9f63fce",
   "metadata": {},
   "outputs": [],
   "source": [
    "'''\n",
    "    After we have computed S_B and S_W now we can select\n",
    "    linear discriminants.\n",
    "'''"
   ]
  },
  {
   "cell_type": "code",
   "execution_count": 196,
   "id": "307fef2b-3f88-4e34-9a12-b1f01a62d3c1",
   "metadata": {},
   "outputs": [],
   "source": [
    "eign_vals, eign_vecs = np.linalg.eig( np.dot( np.linalg.inv(S_W), S_B ) )"
   ]
  },
  {
   "cell_type": "code",
   "execution_count": 197,
   "id": "a9083f4c-c88e-4aa4-89fc-1faf6935fb84",
   "metadata": {},
   "outputs": [],
   "source": [
    "eign_pairs = [ ( np.abs(eign_vals[i]), eign_vecs[:, i] ) for i in range( len( eign_vals ) ) ]"
   ]
  },
  {
   "cell_type": "code",
   "execution_count": null,
   "id": "759eefde-d366-4e90-8241-54afaede2084",
   "metadata": {},
   "outputs": [],
   "source": [
    "sorted( eign_pairs, key = lambda k: k[0], reverse=True )"
   ]
  },
  {
   "cell_type": "code",
   "execution_count": 199,
   "id": "bce4812d-4d2c-4575-bb75-46510f1732fd",
   "metadata": {},
   "outputs": [],
   "source": [
    "tot = sum(eign_vals.real)"
   ]
  },
  {
   "cell_type": "code",
   "execution_count": 200,
   "id": "f1953371-515f-47d6-8239-3d05561218bf",
   "metadata": {},
   "outputs": [],
   "source": [
    "discr = [( i / tot ) for i in sorted( eign_vals, reverse=True )]"
   ]
  },
  {
   "cell_type": "code",
   "execution_count": 202,
   "id": "31858cb0-445f-4228-b430-9df8cfe5cf84",
   "metadata": {},
   "outputs": [],
   "source": [
    "cum_discr = np.cumsum( discr )"
   ]
  },
  {
   "cell_type": "code",
   "execution_count": 203,
   "id": "7321dfd3-762b-4d90-86ee-6ad47366606b",
   "metadata": {},
   "outputs": [],
   "source": [
    "import matplotlib.pyplot as plt"
   ]
  },
  {
   "cell_type": "code",
   "execution_count": 193,
   "id": "bfaef80b-cb7e-4037-be91-b64aae8c9667",
   "metadata": {},
   "outputs": [
    {
     "name": "stderr",
     "output_type": "stream",
     "text": [
      "/home/ahmed4/ml.py/ml/lib/python3.12/site-packages/matplotlib/cbook.py:1762: ComplexWarning: Casting complex values to real discards the imaginary part\n",
      "  return math.isfinite(val)\n",
      "/home/ahmed4/ml.py/ml/lib/python3.12/site-packages/matplotlib/transforms.py:767: ComplexWarning: Casting complex values to real discards the imaginary part\n",
      "  points = np.asarray(points, float)\n",
      "/home/ahmed4/ml.py/ml/lib/python3.12/site-packages/matplotlib/cbook.py:1398: ComplexWarning: Casting complex values to real discards the imaginary part\n",
      "  return np.asarray(x, float)\n"
     ]
    },
    {
     "data": {
      "image/png": "[encoded data removed]",
      "text/plain": [
       "<Figure size 640x480 with 1 Axes>"
      ]
     },
     "metadata": {},
     "output_type": "display_data"
    }
   ],
   "source": [
    "plt.bar( range(len(eign_vals.real)), discr )\n",
    "plt.step( range(len(eign_vals.real)), cum_discr )\n",
    "plt.tight_layout()\n",
    "plt.show()"
   ]
  },
  {
   "cell_type": "code",
   "execution_count": 204,
   "id": "0795c839-be41-4aca-9953-8b617b9a3db9",
   "metadata": {},
   "outputs": [],
   "source": [
    "w = np.hstack( (eign_pairs[0][1][:, np.newaxis].real, eign_pairs[0][1][:, np.newaxis].real) )"
   ]
  },
  {
   "cell_type": "code",
   "execution_count": 205,
   "id": "ddd0f782-a919-4ff1-b45c-0083fe847d1a",
   "metadata": {},
   "outputs": [
    {
     "data": {
      "text/plain": [
       "array([[ 0.75,  0.75],\n",
       "       [-0.08, -0.08],\n",
       "       [-0.24, -0.24],\n",
       "       [ 0.25,  0.25],\n",
       "       [-0.06, -0.06],\n",
       "       [ 0.11,  0.11],\n",
       "       [ 0.  ,  0.  ],\n",
       "       [-0.03, -0.03],\n",
       "       [ 0.07,  0.07],\n",
       "       [-0.06, -0.06],\n",
       "       [ 0.19,  0.19],\n",
       "       [-0.09, -0.09],\n",
       "       [-0.5 , -0.5 ]])"
      ]
     },
     "execution_count": 205,
     "metadata": {},
     "output_type": "execute_result"
    }
   ],
   "source": [
    "w"
   ]
  },
  {
   "cell_type": "code",
   "execution_count": null,
   "id": "cbf397c5-2438-43c5-9372-7265479d7f6a",
   "metadata": {},
   "outputs": [],
   "source": [
    "'''\n",
    "    Using the transformation matrix lets convert the weight space.\n",
    "    X' = X.W\n",
    "'''"
   ]
  },
  {
   "cell_type": "code",
   "execution_count": 206,
   "id": "b29f2889-62de-43bb-8482-ffa6e2d09934",
   "metadata": {},
   "outputs": [],
   "source": [
    "X_train_LDA = X_train_std.dot( w )"
   ]
  },
  {
   "cell_type": "code",
   "execution_count": 207,
   "id": "8dec4791-7cea-4967-b3ff-01d81a10b957",
   "metadata": {},
   "outputs": [
    {
     "data": {
      "image/png": "[encoded data removed]",
      "text/plain": [
       "<Figure size 640x480 with 1 Axes>"
      ]
     },
     "metadata": {},
     "output_type": "display_data"
    }
   ],
   "source": [
    "colors = ['r','g','b']\n",
    "markers = ['v','o','s']\n",
    "\n",
    "for c, m, l in zip( colors, markers, y_train ):\n",
    "    plt.scatter( X_train_LDA[ y_train == l, 0 ], X_train_LDA[ y_train == l, 1 ], c = c, marker = m, label = f\"Clas{l}\" )\n",
    "\n",
    "plt.tight_layout()\n",
    "plt.show()"
   ]
  },
  {
   "cell_type": "code",
   "execution_count": 212,
   "id": "645e2a0a-f460-4a00-b152-afd2e2cab9a1",
   "metadata": {},
   "outputs": [],
   "source": [
    "from sklearn.discriminant_analysis import LinearDiscriminantAnalysis\n",
    "from sklearn.linear_model import LogisticRegression"
   ]
  },
  {
   "cell_type": "code",
   "execution_count": 213,
   "id": "9b233082-a748-4676-8f1c-fc662eb151b6",
   "metadata": {},
   "outputs": [],
   "source": [
    "lda = LinearDiscriminantAnalysis( n_components=2 )"
   ]
  },
  {
   "cell_type": "code",
   "execution_count": 214,
   "id": "d4d96531-7684-4efe-aba6-dda95dcb76b8",
   "metadata": {},
   "outputs": [],
   "source": [
    "X_train_lda = lda.fit_transform( X_train_std, y_train ) "
   ]
  },
  {
   "cell_type": "code",
   "execution_count": 215,
   "id": "d7be3a8f-74f7-4e90-b768-a479ead538ad",
   "metadata": {},
   "outputs": [],
   "source": [
    "lr = LogisticRegression( multi_class=\"ovr\", solver=\"lbfgs\", random_state=0 )"
   ]
  },
  {
   "cell_type": "code",
   "execution_count": 217,
   "id": "db6257d9-7833-4b28-808c-83bfbf0fb887",
   "metadata": {},
   "outputs": [
    {
     "name": "stderr",
     "output_type": "stream",
     "text": [
      "/home/ahmed4/ml.py/ml/lib/python3.12/site-packages/sklearn/linear_model/_logistic.py:1256: FutureWarning: 'multi_class' was deprecated in version 1.5 and will be removed in 1.7. Use OneVsRestClassifier(LogisticRegression(..)) instead. Leave it to its default value to avoid this warning.\n",
      "  warnings.warn(\n"
     ]
    },
    {
     "data": {
      "text/html": [
       "<style>#sk-container-id-1 {\n",
       "  /* Definition of color scheme common for light and dark mode */\n",
       "  --sklearn-color-text: black;\n",
       "  --sklearn-color-line: gray;\n",
       "  /* Definition of color scheme for unfitted estimators */\n",
       "  --sklearn-color-unfitted-level-0: #fff5e6;\n",
       "  --sklearn-color-unfitted-level-1: #f6e4d2;\n",
       "  --sklearn-color-unfitted-level-2: #ffe0b3;\n",
       "  --sklearn-color-unfitted-level-3: chocolate;\n",
       "  /* Definition of color scheme for fitted estimators */\n",
       "  --sklearn-color-fitted-level-0: #f0f8ff;\n",
       "  --sklearn-color-fitted-level-1: #d4ebff;\n",
       "  --sklearn-color-fitted-level-2: #b3dbfd;\n",
       "  --sklearn-color-fitted-level-3: cornflowerblue;\n",
       "\n",
       "  /* Specific color for light theme */\n",
       "  --sklearn-color-text-on-default-background: var(--sg-text-color, var(--theme-code-foreground, var(--jp-content-font-color1, black)));\n",
       "  --sklearn-color-background: var(--sg-background-color, var(--theme-background, var(--jp-layout-color0, white)));\n",
       "  --sklearn-color-border-box: var(--sg-text-color, var(--theme-code-foreground, var(--jp-content-font-color1, black)));\n",
       "  --sklearn-color-icon: #696969;\n",
       "\n",
       "  @media (prefers-color-scheme: dark) {\n",
       "    /* Redefinition of color scheme for dark theme */\n",
       "    --sklearn-color-text-on-default-background: var(--sg-text-color, var(--theme-code-foreground, var(--jp-content-font-color1, white)));\n",
       "    --sklearn-color-background: var(--sg-background-color, var(--theme-background, var(--jp-layout-color0, #111)));\n",
       "    --sklearn-color-border-box: var(--sg-text-color, var(--theme-code-foreground, var(--jp-content-font-color1, white)));\n",
       "    --sklearn-color-icon: #878787;\n",
       "  }\n",
       "}\n",
       "\n",
       "#sk-container-id-1 {\n",
       "  color: var(--sklearn-color-text);\n",
       "}\n",
       "\n",
       "#sk-container-id-1 pre {\n",
       "  padding: 0;\n",
       "}\n",
       "\n",
       "#sk-container-id-1 input.sk-hidden--visually {\n",
       "  border: 0;\n",
       "  clip: rect(1px 1px 1px 1px);\n",
       "  clip: rect(1px, 1px, 1px, 1px);\n",
       "  height: 1px;\n",
       "  margin: -1px;\n",
       "  overflow: hidden;\n",
       "  padding: 0;\n",
       "  position: absolute;\n",
       "  width: 1px;\n",
       "}\n",
       "\n",
       "#sk-container-id-1 div.sk-dashed-wrapped {\n",
       "  border: 1px dashed var(--sklearn-color-line);\n",
       "  margin: 0 0.4em 0.5em 0.4em;\n",
       "  box-sizing: border-box;\n",
       "  padding-bottom: 0.4em;\n",
       "  background-color: var(--sklearn-color-background);\n",
       "}\n",
       "\n",
       "#sk-container-id-1 div.sk-container {\n",
       "  /* jupyter's `normalize.less` sets `[hidden] { display: none; }`\n",
       "     but bootstrap.min.css set `[hidden] { display: none !important; }`\n",
       "     so we also need the `!important` here to be able to override the\n",
       "     default hidden behavior on the sphinx rendered scikit-learn.org.\n",
       "     See: https://github.com/scikit-learn/scikit-learn/issues/21755 */\n",
       "  display: inline-block !important;\n",
       "  position: relative;\n",
       "}\n",
       "\n",
       "#sk-container-id-1 div.sk-text-repr-fallback {\n",
       "  display: none;\n",
       "}\n",
       "\n",
       "div.sk-parallel-item,\n",
       "div.sk-serial,\n",
       "div.sk-item {\n",
       "  /* draw centered vertical line to link estimators */\n",
       "  background-image: linear-gradient(var(--sklearn-color-text-on-default-background), var(--sklearn-color-text-on-default-background));\n",
       "  background-size: 2px 100%;\n",
       "  background-repeat: no-repeat;\n",
       "  background-position: center center;\n",
       "}\n",
       "\n",
       "/* Parallel-specific style estimator block */\n",
       "\n",
       "#sk-container-id-1 div.sk-parallel-item::after {\n",
       "  content: \"\";\n",
       "  width: 100%;\n",
       "  border-bottom: 2px solid var(--sklearn-color-text-on-default-background);\n",
       "  flex-grow: 1;\n",
       "}\n",
       "\n",
       "#sk-container-id-1 div.sk-parallel {\n",
       "  display: flex;\n",
       "  align-items: stretch;\n",
       "  justify-content: center;\n",
       "  background-color: var(--sklearn-color-background);\n",
       "  position: relative;\n",
       "}\n",
       "\n",
       "#sk-container-id-1 div.sk-parallel-item {\n",
       "  display: flex;\n",
       "  flex-direction: column;\n",
       "}\n",
       "\n",
       "#sk-container-id-1 div.sk-parallel-item:first-child::after {\n",
       "  align-self: flex-end;\n",
       "  width: 50%;\n",
       "}\n",
       "\n",
       "#sk-container-id-1 div.sk-parallel-item:last-child::after {\n",
       "  align-self: flex-start;\n",
       "  width: 50%;\n",
       "}\n",
       "\n",
       "#sk-container-id-1 div.sk-parallel-item:only-child::after {\n",
       "  width: 0;\n",
       "}\n",
       "\n",
       "/* Serial-specific style estimator block */\n",
       "\n",
       "#sk-container-id-1 div.sk-serial {\n",
       "  display: flex;\n",
       "  flex-direction: column;\n",
       "  align-items: center;\n",
       "  background-color: var(--sklearn-color-background);\n",
       "  padding-right: 1em;\n",
       "  padding-left: 1em;\n",
       "}\n",
       "\n",
       "\n",
       "/* Toggleable style: style used for estimator/Pipeline/ColumnTransformer box that is\n",
       "clickable and can be expanded/collapsed.\n",
       "- Pipeline and ColumnTransformer use this feature and define the default style\n",
       "- Estimators will overwrite some part of the style using the `sk-estimator` class\n",
       "*/\n",
       "\n",
       "/* Pipeline and ColumnTransformer style (default) */\n",
       "\n",
       "#sk-container-id-1 div.sk-toggleable {\n",
       "  /* Default theme specific background. It is overwritten whether we have a\n",
       "  specific estimator or a Pipeline/ColumnTransformer */\n",
       "  background-color: var(--sklearn-color-background);\n",
       "}\n",
       "\n",
       "/* Toggleable label */\n",
       "#sk-container-id-1 label.sk-toggleable__label {\n",
       "  cursor: pointer;\n",
       "  display: block;\n",
       "  width: 100%;\n",
       "  margin-bottom: 0;\n",
       "  padding: 0.5em;\n",
       "  box-sizing: border-box;\n",
       "  text-align: center;\n",
       "}\n",
       "\n",
       "#sk-container-id-1 label.sk-toggleable__label-arrow:before {\n",
       "  /* Arrow on the left of the label */\n",
       "  content: \"▸\";\n",
       "  float: left;\n",
       "  margin-right: 0.25em;\n",
       "  color: var(--sklearn-color-icon);\n",
       "}\n",
       "\n",
       "#sk-container-id-1 label.sk-toggleable__label-arrow:hover:before {\n",
       "  color: var(--sklearn-color-text);\n",
       "}\n",
       "\n",
       "/* Toggleable content - dropdown */\n",
       "\n",
       "#sk-container-id-1 div.sk-toggleable__content {\n",
       "  max-height: 0;\n",
       "  max-width: 0;\n",
       "  overflow: hidden;\n",
       "  text-align: left;\n",
       "  /* unfitted */\n",
       "  background-color: var(--sklearn-color-unfitted-level-0);\n",
       "}\n",
       "\n",
       "#sk-container-id-1 div.sk-toggleable__content.fitted {\n",
       "  /* fitted */\n",
       "  background-color: var(--sklearn-color-fitted-level-0);\n",
       "}\n",
       "\n",
       "#sk-container-id-1 div.sk-toggleable__content pre {\n",
       "  margin: 0.2em;\n",
       "  border-radius: 0.25em;\n",
       "  color: var(--sklearn-color-text);\n",
       "  /* unfitted */\n",
       "  background-color: var(--sklearn-color-unfitted-level-0);\n",
       "}\n",
       "\n",
       "#sk-container-id-1 div.sk-toggleable__content.fitted pre {\n",
       "  /* unfitted */\n",
       "  background-color: var(--sklearn-color-fitted-level-0);\n",
       "}\n",
       "\n",
       "#sk-container-id-1 input.sk-toggleable__control:checked~div.sk-toggleable__content {\n",
       "  /* Expand drop-down */\n",
       "  max-height: 200px;\n",
       "  max-width: 100%;\n",
       "  overflow: auto;\n",
       "}\n",
       "\n",
       "#sk-container-id-1 input.sk-toggleable__control:checked~label.sk-toggleable__label-arrow:before {\n",
       "  content: \"▾\";\n",
       "}\n",
       "\n",
       "/* Pipeline/ColumnTransformer-specific style */\n",
       "\n",
       "#sk-container-id-1 div.sk-label input.sk-toggleable__control:checked~label.sk-toggleable__label {\n",
       "  color: var(--sklearn-color-text);\n",
       "  background-color: var(--sklearn-color-unfitted-level-2);\n",
       "}\n",
       "\n",
       "#sk-container-id-1 div.sk-label.fitted input.sk-toggleable__control:checked~label.sk-toggleable__label {\n",
       "  background-color: var(--sklearn-color-fitted-level-2);\n",
       "}\n",
       "\n",
       "/* Estimator-specific style */\n",
       "\n",
       "/* Colorize estimator box */\n",
       "#sk-container-id-1 div.sk-estimator input.sk-toggleable__control:checked~label.sk-toggleable__label {\n",
       "  /* unfitted */\n",
       "  background-color: var(--sklearn-color-unfitted-level-2);\n",
       "}\n",
       "\n",
       "#sk-container-id-1 div.sk-estimator.fitted input.sk-toggleable__control:checked~label.sk-toggleable__label {\n",
       "  /* fitted */\n",
       "  background-color: var(--sklearn-color-fitted-level-2);\n",
       "}\n",
       "\n",
       "#sk-container-id-1 div.sk-label label.sk-toggleable__label,\n",
       "#sk-container-id-1 div.sk-label label {\n",
       "  /* The background is the default theme color */\n",
       "  color: var(--sklearn-color-text-on-default-background);\n",
       "}\n",
       "\n",
       "/* On hover, darken the color of the background */\n",
       "#sk-container-id-1 div.sk-label:hover label.sk-toggleable__label {\n",
       "  color: var(--sklearn-color-text);\n",
       "  background-color: var(--sklearn-color-unfitted-level-2);\n",
       "}\n",
       "\n",
       "/* Label box, darken color on hover, fitted */\n",
       "#sk-container-id-1 div.sk-label.fitted:hover label.sk-toggleable__label.fitted {\n",
       "  color: var(--sklearn-color-text);\n",
       "  background-color: var(--sklearn-color-fitted-level-2);\n",
       "}\n",
       "\n",
       "/* Estimator label */\n",
       "\n",
       "#sk-container-id-1 div.sk-label label {\n",
       "  font-family: monospace;\n",
       "  font-weight: bold;\n",
       "  display: inline-block;\n",
       "  line-height: 1.2em;\n",
       "}\n",
       "\n",
       "#sk-container-id-1 div.sk-label-container {\n",
       "  text-align: center;\n",
       "}\n",
       "\n",
       "/* Estimator-specific */\n",
       "#sk-container-id-1 div.sk-estimator {\n",
       "  font-family: monospace;\n",
       "  border: 1px dotted var(--sklearn-color-border-box);\n",
       "  border-radius: 0.25em;\n",
       "  box-sizing: border-box;\n",
       "  margin-bottom: 0.5em;\n",
       "  /* unfitted */\n",
       "  background-color: var(--sklearn-color-unfitted-level-0);\n",
       "}\n",
       "\n",
       "#sk-container-id-1 div.sk-estimator.fitted {\n",
       "  /* fitted */\n",
       "  background-color: var(--sklearn-color-fitted-level-0);\n",
       "}\n",
       "\n",
       "/* on hover */\n",
       "#sk-container-id-1 div.sk-estimator:hover {\n",
       "  /* unfitted */\n",
       "  background-color: var(--sklearn-color-unfitted-level-2);\n",
       "}\n",
       "\n",
       "#sk-container-id-1 div.sk-estimator.fitted:hover {\n",
       "  /* fitted */\n",
       "  background-color: var(--sklearn-color-fitted-level-2);\n",
       "}\n",
       "\n",
       "/* Specification for estimator info (e.g. \"i\" and \"?\") */\n",
       "\n",
       "/* Common style for \"i\" and \"?\" */\n",
       "\n",
       ".sk-estimator-doc-link,\n",
       "a:link.sk-estimator-doc-link,\n",
       "a:visited.sk-estimator-doc-link {\n",
       "  float: right;\n",
       "  font-size: smaller;\n",
       "  line-height: 1em;\n",
       "  font-family: monospace;\n",
       "  background-color: var(--sklearn-color-background);\n",
       "  border-radius: 1em;\n",
       "  height: 1em;\n",
       "  width: 1em;\n",
       "  text-decoration: none !important;\n",
       "  margin-left: 1ex;\n",
       "  /* unfitted */\n",
       "  border: var(--sklearn-color-unfitted-level-1) 1pt solid;\n",
       "  color: var(--sklearn-color-unfitted-level-1);\n",
       "}\n",
       "\n",
       ".sk-estimator-doc-link.fitted,\n",
       "a:link.sk-estimator-doc-link.fitted,\n",
       "a:visited.sk-estimator-doc-link.fitted {\n",
       "  /* fitted */\n",
       "  border: var(--sklearn-color-fitted-level-1) 1pt solid;\n",
       "  color: var(--sklearn-color-fitted-level-1);\n",
       "}\n",
       "\n",
       "/* On hover */\n",
       "div.sk-estimator:hover .sk-estimator-doc-link:hover,\n",
       ".sk-estimator-doc-link:hover,\n",
       "div.sk-label-container:hover .sk-estimator-doc-link:hover,\n",
       ".sk-estimator-doc-link:hover {\n",
       "  /* unfitted */\n",
       "  background-color: var(--sklearn-color-unfitted-level-3);\n",
       "  color: var(--sklearn-color-background);\n",
       "  text-decoration: none;\n",
       "}\n",
       "\n",
       "div.sk-estimator.fitted:hover .sk-estimator-doc-link.fitted:hover,\n",
       ".sk-estimator-doc-link.fitted:hover,\n",
       "div.sk-label-container:hover .sk-estimator-doc-link.fitted:hover,\n",
       ".sk-estimator-doc-link.fitted:hover {\n",
       "  /* fitted */\n",
       "  background-color: var(--sklearn-color-fitted-level-3);\n",
       "  color: var(--sklearn-color-background);\n",
       "  text-decoration: none;\n",
       "}\n",
       "\n",
       "/* Span, style for the box shown on hovering the info icon */\n",
       ".sk-estimator-doc-link span {\n",
       "  display: none;\n",
       "  z-index: 9999;\n",
       "  position: relative;\n",
       "  font-weight: normal;\n",
       "  right: .2ex;\n",
       "  padding: .5ex;\n",
       "  margin: .5ex;\n",
       "  width: min-content;\n",
       "  min-width: 20ex;\n",
       "  max-width: 50ex;\n",
       "  color: var(--sklearn-color-text);\n",
       "  box-shadow: 2pt 2pt 4pt #999;\n",
       "  /* unfitted */\n",
       "  background: var(--sklearn-color-unfitted-level-0);\n",
       "  border: .5pt solid var(--sklearn-color-unfitted-level-3);\n",
       "}\n",
       "\n",
       ".sk-estimator-doc-link.fitted span {\n",
       "  /* fitted */\n",
       "  background: var(--sklearn-color-fitted-level-0);\n",
       "  border: var(--sklearn-color-fitted-level-3);\n",
       "}\n",
       "\n",
       ".sk-estimator-doc-link:hover span {\n",
       "  display: block;\n",
       "}\n",
       "\n",
       "/* \"?\"-specific style due to the `<a>` HTML tag */\n",
       "\n",
       "#sk-container-id-1 a.estimator_doc_link {\n",
       "  float: right;\n",
       "  font-size: 1rem;\n",
       "  line-height: 1em;\n",
       "  font-family: monospace;\n",
       "  background-color: var(--sklearn-color-background);\n",
       "  border-radius: 1rem;\n",
       "  height: 1rem;\n",
       "  width: 1rem;\n",
       "  text-decoration: none;\n",
       "  /* unfitted */\n",
       "  color: var(--sklearn-color-unfitted-level-1);\n",
       "  border: var(--sklearn-color-unfitted-level-1) 1pt solid;\n",
       "}\n",
       "\n",
       "#sk-container-id-1 a.estimator_doc_link.fitted {\n",
       "  /* fitted */\n",
       "  border: var(--sklearn-color-fitted-level-1) 1pt solid;\n",
       "  color: var(--sklearn-color-fitted-level-1);\n",
       "}\n",
       "\n",
       "/* On hover */\n",
       "#sk-container-id-1 a.estimator_doc_link:hover {\n",
       "  /* unfitted */\n",
       "  background-color: var(--sklearn-color-unfitted-level-3);\n",
       "  color: var(--sklearn-color-background);\n",
       "  text-decoration: none;\n",
       "}\n",
       "\n",
       "#sk-container-id-1 a.estimator_doc_link.fitted:hover {\n",
       "  /* fitted */\n",
       "  background-color: var(--sklearn-color-fitted-level-3);\n",
       "}\n",
       "</style><div id=\"sk-container-id-1\" class=\"sk-top-container\"><div class=\"sk-text-repr-fallback\"><pre>LogisticRegression(multi_class=&#x27;ovr&#x27;, random_state=0)</pre><b>In a Jupyter environment, please rerun this cell to show the HTML representation or trust the notebook. <br />On GitHub, the HTML representation is unable to render, please try loading this page with nbviewer.org.</b></div><div class=\"sk-container\" hidden><div class=\"sk-item\"><div class=\"sk-estimator fitted sk-toggleable\"><input class=\"sk-toggleable__control sk-hidden--visually\" id=\"sk-estimator-id-1\" type=\"checkbox\" checked><label for=\"sk-estimator-id-1\" class=\"sk-toggleable__label fitted sk-toggleable__label-arrow fitted\">&nbsp;&nbsp;LogisticRegression<a class=\"sk-estimator-doc-link fitted\" rel=\"noreferrer\" target=\"_blank\" href=\"https://scikit-learn.org/1.5/modules/generated/sklearn.linear_model.LogisticRegression.html\">?<span>Documentation for LogisticRegression</span></a><span class=\"sk-estimator-doc-link fitted\">i<span>Fitted</span></span></label><div class=\"sk-toggleable__content fitted\"><pre>LogisticRegression(multi_class=&#x27;ovr&#x27;, random_state=0)</pre></div> </div></div></div></div>"
      ],
      "text/plain": [
       "LogisticRegression(multi_class='ovr', random_state=0)"
      ]
     },
     "execution_count": 217,
     "metadata": {},
     "output_type": "execute_result"
    }
   ],
   "source": [
    "lr.fit( X_train_lda, y_train )"
   ]
  },
  {
   "cell_type": "code",
   "execution_count": 219,
   "id": "649dfda5-7757-4585-90a8-fca8a1136926",
   "metadata": {},
   "outputs": [
    {
     "data": {
      "image/png": "[encoded data removed]",
      "text/plain": [
       "<Figure size 640x480 with 1 Axes>"
      ]
     },
     "metadata": {},
     "output_type": "display_data"
    }
   ],
   "source": [
    "plot_decision_regions( X_train_lda, y_train, classifier=lr )"
   ]
  },
  {
   "cell_type": "markdown",
   "id": "e426f464-f2e9-4799-8ad9-a32adefa5017",
   "metadata": {},
   "source": [
    "# Non-linear dim. reduction. ( t-SNE )"
   ]
  },
  {
   "cell_type": "markdown",
   "id": "053250c0-ecce-4360-b534-400f7efb488d",
   "metadata": {},
   "source": [
    "## T-SNE"
   ]
  },
  {
   "cell_type": "code",
   "execution_count": 220,
   "id": "25c5ec15-e1d6-4068-88f4-e805ac5fd3c7",
   "metadata": {},
   "outputs": [],
   "source": [
    "from sklearn.datasets import load_digits"
   ]
  },
  {
   "cell_type": "code",
   "execution_count": 221,
   "id": "4f6c462e-1f53-478f-aea7-93b3520d1e17",
   "metadata": {},
   "outputs": [],
   "source": [
    "digits = load_digits()"
   ]
  },
  {
   "cell_type": "code",
   "execution_count": 238,
   "id": "166bd889-2b65-4466-92e9-77ff76808847",
   "metadata": {},
   "outputs": [
    {
     "data": {
      "image/png": "[encoded data removed]",
      "text/plain": [
       "<Figure size 640x480 with 4 Axes>"
      ]
     },
     "metadata": {},
     "output_type": "display_data"
    }
   ],
   "source": [
    "fig, ax = plt.subplots(1,4)\n",
    "for i in range(4):\n",
    "    ax[i].imshow( digits.images[i], cmap = \"grey\" )\n",
    "plt.tight_layout()\n",
    "plt.show()"
   ]
  },
  {
   "cell_type": "code",
   "execution_count": 235,
   "id": "d255dd4e-58b1-4a53-8219-a2341e84b541",
   "metadata": {},
   "outputs": [
    {
     "data": {
      "text/plain": [
       "(1797, 64)"
      ]
     },
     "execution_count": 235,
     "metadata": {},
     "output_type": "execute_result"
    }
   ],
   "source": [
    "digits.data.shape"
   ]
  },
  {
   "cell_type": "code",
   "execution_count": 246,
   "id": "3f4f108b-8a7e-41c8-8d08-a2a9f2719cf3",
   "metadata": {},
   "outputs": [],
   "source": [
    "X_digits = digits.data\n",
    "y_digits = digits.target"
   ]
  },
  {
   "cell_type": "code",
   "execution_count": 248,
   "id": "932524eb-9dac-45cf-b9c7-3d84fbbf5d0c",
   "metadata": {},
   "outputs": [],
   "source": [
    "from sklearn.manifold import TSNE\n",
    "\n",
    "tsne = TSNE( n_components=2, init=\"pca\", random_state=0)"
   ]
  },
  {
   "cell_type": "code",
   "execution_count": 250,
   "id": "896aa699-a6f7-47d9-b1a8-9ee6c8c90ec0",
   "metadata": {},
   "outputs": [],
   "source": [
    "X_digits_tsne = tsne.fit_transform( X_digits )"
   ]
  },
  {
   "cell_type": "code",
   "execution_count": 252,
   "id": "c3d6b2d0-513f-4565-848f-2d3a044651df",
   "metadata": {},
   "outputs": [
    {
     "data": {
      "text/plain": [
       "(1797, 2)"
      ]
     },
     "execution_count": 252,
     "metadata": {},
     "output_type": "execute_result"
    }
   ],
   "source": [
    "X_digits_tsne.shape"
   ]
  },
  {
   "cell_type": "code",
   "execution_count": null,
   "id": "e198c1ae-cc11-43c0-b447-373b8ceed2c2",
   "metadata": {},
   "outputs": [],
   "source": [
    "for i in range(10):\n",
    "    xtext, ytext = np.median( X[ i == colors, : ], axis = 0 )\n",
    "    print(xtext)\n",
    "    print(ytext)"
   ]
  },
  {
   "cell_type": "code",
   "execution_count": 284,
   "id": "134c9957-aa17-4de2-817c-60e0ef817909",
   "metadata": {},
   "outputs": [],
   "source": [
    "def plot_proj( X, colors ):\n",
    "    f = plt.figure( figsize = (8,8) )\n",
    "    ax = plt.subplot( aspect = \"equal\" )\n",
    "\n",
    "    for i in range(10):\n",
    "        plt.scatter( X[ i == colors, 0], X[ i == colors, 1] )\n",
    "\n",
    "    for i in range(10):\n",
    "        xtext, ytext = np.median( X[ i == colors, : ], axis = 0 )\n",
    "        print(\"xtext :\", xtext )\n",
    "        print(\"ytext :\", ytext )"
   ]
  },
  {
   "cell_type": "code",
   "execution_count": 285,
   "id": "1f065b4a-db9b-4dac-b1e8-304407382ea6",
   "metadata": {},
   "outputs": [
    {
     "name": "stdout",
     "output_type": "stream",
     "text": [
      "xtext : 1.4856641\n",
      "ytext : -54.339214\n",
      "xtext : 5.255334\n",
      "ytext : 12.623518\n",
      "xtext : -28.050234\n",
      "ytext : 29.502539\n",
      "xtext : -37.837547\n",
      "ytext : -2.194054\n",
      "xtext : 43.050484\n",
      "ytext : 12.961863\n",
      "xtext : 1.8386695\n",
      "ytext : -19.237312\n",
      "xtext : 34.820904\n",
      "ytext : -21.995064\n",
      "xtext : 8.242352\n",
      "ytext : 43.228695\n",
      "xtext : -11.515963\n",
      "ytext : 5.7552843\n",
      "xtext : -22.500301\n",
      "ytext : -17.943241\n"
     ]
    },
    {
     "data": {
      "image/png": "[encoded data removed]",
      "text/plain": [
       "<Figure size 800x800 with 1 Axes>"
      ]
     },
     "metadata": {},
     "output_type": "display_data"
    }
   ],
   "source": [
    "plot_proj( X_digits_tsne, y_digits )\n",
    "plt.show()"
   ]
  }
 ],
 "metadata": {
  "kernelspec": {
   "display_name": "Python (ml)",
   "language": "python",
   "name": "ml"
  },
  "language_info": {
   "codemirror_mode": {
    "name": "ipython",
    "version": 3
   },
   "file_extension": ".py",
   "mimetype": "text/x-python",
   "name": "python",
   "nbconvert_exporter": "python",
   "pygments_lexer": "ipython3",
   "version": "3.12.3"
  }
 },
 "nbformat": 4,
 "nbformat_minor": 5
}
