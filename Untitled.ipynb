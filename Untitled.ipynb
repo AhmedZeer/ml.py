{
 "cells": [
  {
   "cell_type": "code",
   "execution_count": 3,
   "id": "4937bac7-b6ca-4501-b61c-fad8a50dace8",
   "metadata": {},
   "outputs": [],
   "source": [
    "text =\"\"\"\n",
    "When forty winters shall besiege thy brow,\n",
    "And dig deep trenches in thy beauty's field,\n",
    "Thy youth's proud livery so gazed on now,\n",
    "Will be a totter'd weed of small worth held:\n",
    "Then being asked, where all thy beauty lies,\n",
    "Where all the treasure of thy lusty days;\n",
    "To say, within thine own deep sunken eyes,\n",
    "Were an all-eating shame, and thriftless praise.\n",
    "How much more praise deserv'd thy beauty's use,\n",
    "If thou couldst answer 'This fair child of mine\n",
    "Shall sum my count, and make my old excuse,'\n",
    "Proving his beauty by succession thine!\n",
    "This were to be new made when thou art old,\n",
    "And see thy blood warm when thou feel'st it cold\n",
    "\"\"\".split()"
   ]
  },
  {
   "cell_type": "code",
   "execution_count": 5,
   "id": "a72745ab-f88f-43f7-bf2e-69562dae34a3",
   "metadata": {},
   "outputs": [],
   "source": [
    "text = list(set(text))"
   ]
  },
  {
   "cell_type": "code",
   "execution_count": 25,
   "id": "d2224255-ef6c-45b8-b027-56e2e1868746",
   "metadata": {},
   "outputs": [
    {
     "data": {
      "text/plain": [
       "['see', \"deserv'd\", 'count,', 'weed', 'blood']"
      ]
     },
     "execution_count": 25,
     "metadata": {},
     "output_type": "execute_result"
    }
   ],
   "source": [
    "text[:5]"
   ]
  },
  {
   "cell_type": "code",
   "execution_count": 33,
   "id": "6080dcc5-c982-4258-89d4-2988865137da",
   "metadata": {},
   "outputs": [],
   "source": [
    "n_grams = []\n",
    "WINDOW = 1\n",
    "for center in range( WINDOW, len(text) - WINDOW):\n",
    "    for context in range(1, WINDOW + 1):\n",
    "        center_word = text[center]\n",
    "        context1 = text[center + context]\n",
    "        context2 = text[center - context]\n",
    "        n_grams.append((text[center], [context1, context2]))"
   ]
  },
  {
   "cell_type": "code",
   "execution_count": 34,
   "id": "9f19a9d5-284e-49c1-a055-75778060e311",
   "metadata": {},
   "outputs": [
    {
     "data": {
      "text/plain": [
       "[(\"deserv'd\", ['count,', 'see']),\n",
       " ('count,', ['weed', \"deserv'd\"]),\n",
       " ('weed', ['blood', 'count,']),\n",
       " ('blood', ['Proving', 'weed']),\n",
       " ('Proving', ['Where', 'blood']),\n",
       " ('Where', ['shame,', 'Proving']),\n",
       " ('shame,', [\"excuse,'\", 'Where']),\n",
       " (\"excuse,'\", ['thine!', 'shame,']),\n",
       " ('thine!', ['art', \"excuse,'\"]),\n",
       " ('art', ['worth', 'thine!']),\n",
       " ('worth', ['beauty', 'art']),\n",
       " ('beauty', ['the', 'worth']),\n",
       " ('the', ['dig', 'beauty']),\n",
       " ('dig', ['make', 'the']),\n",
       " ('make', ['say,', 'dig']),\n",
       " ('say,', ['proud', 'make']),\n",
       " ('proud', ['praise.', 'say,']),\n",
       " ('praise.', ['child', 'proud']),\n",
       " ('child', ['forty', 'praise.']),\n",
       " ('forty', ['shall', 'child']),\n",
       " ('shall', ['sunken', 'forty']),\n",
       " ('sunken', ['When', 'shall']),\n",
       " ('When', ['small', 'sunken']),\n",
       " ('small', ['to', 'When']),\n",
       " ('to', ['Were', 'small']),\n",
       " ('Were', ['within', 'to']),\n",
       " ('within', ['all', 'Were']),\n",
       " ('all', ['How', 'within']),\n",
       " ('How', ['mine', 'all']),\n",
       " ('mine', ['thou', 'How']),\n",
       " ('thou', ['thriftless', 'mine']),\n",
       " ('thriftless', ['praise', 'thou']),\n",
       " ('praise', ['his', 'thriftless']),\n",
       " ('his', [\"youth's\", 'praise']),\n",
       " (\"youth's\", ['when', 'his']),\n",
       " ('when', ['fair', \"youth's\"]),\n",
       " ('fair', ['be', 'when']),\n",
       " ('be', ['it', 'fair']),\n",
       " ('it', ['eyes,', 'be']),\n",
       " ('eyes,', ['more', 'it']),\n",
       " ('more', ['on', 'eyes,']),\n",
       " ('on', ['much', 'more']),\n",
       " ('much', ['thine', 'on']),\n",
       " ('thine', ['besiege', 'much']),\n",
       " ('besiege', ['If', 'thine']),\n",
       " ('If', ['now,', 'besiege']),\n",
       " ('now,', ['use,', 'If']),\n",
       " ('use,', [\"totter'd\", 'now,']),\n",
       " (\"totter'd\", ['where', 'use,']),\n",
       " ('where', ['sum', \"totter'd\"]),\n",
       " ('sum', ['and', 'where']),\n",
       " ('and', ['new', 'sum']),\n",
       " ('new', ['of', 'and']),\n",
       " ('of', ['answer', 'new']),\n",
       " ('answer', ['held:', 'of']),\n",
       " ('held:', ['thy', 'answer']),\n",
       " ('thy', ['all-eating', 'held:']),\n",
       " ('all-eating', ['This', 'thy']),\n",
       " ('This', ['couldst', 'all-eating']),\n",
       " ('couldst', ['lies,', 'This']),\n",
       " ('lies,', ['treasure', 'couldst']),\n",
       " ('treasure', ['And', 'lies,']),\n",
       " ('And', ['livery', 'treasure']),\n",
       " ('livery', ['deep', 'And']),\n",
       " ('deep', ['succession', 'livery']),\n",
       " ('succession', ['my', 'deep']),\n",
       " ('my', ['old,', 'succession']),\n",
       " ('old,', ['Then', 'my']),\n",
       " ('Then', ['made', 'old,']),\n",
       " ('made', ['so', 'Then']),\n",
       " ('so', ['asked,', 'made']),\n",
       " ('asked,', ['a', 'so']),\n",
       " ('a', ['by', 'asked,']),\n",
       " ('by', ['winters', 'a']),\n",
       " ('winters', [\"beauty's\", 'by']),\n",
       " (\"beauty's\", ['being', 'winters']),\n",
       " ('being', ['lusty', \"beauty's\"]),\n",
       " ('lusty', ['days;', 'being']),\n",
       " ('days;', ['were', 'lusty']),\n",
       " ('were', [\"feel'st\", 'days;']),\n",
       " (\"feel'st\", ['Will', 'were']),\n",
       " ('Will', ['in', \"feel'st\"]),\n",
       " ('in', ['Thy', 'Will']),\n",
       " ('Thy', ['Shall', 'in']),\n",
       " ('Shall', [\"'This\", 'Thy']),\n",
       " (\"'This\", ['brow,', 'Shall']),\n",
       " ('brow,', ['an', \"'This\"]),\n",
       " ('an', ['own', 'brow,']),\n",
       " ('own', ['warm', 'an']),\n",
       " ('warm', ['field,', 'own']),\n",
       " ('field,', ['trenches', 'warm']),\n",
       " ('trenches', ['old', 'field,']),\n",
       " ('old', ['cold', 'trenches']),\n",
       " ('cold', ['To', 'old']),\n",
       " ('To', ['gazed', 'cold'])]"
      ]
     },
     "execution_count": 34,
     "metadata": {},
     "output_type": "execute_result"
    }
   ],
   "source": [
    "n_grams"
   ]
  }
 ],
 "metadata": {
  "kernelspec": {
   "display_name": "Python 3 (ipykernel)",
   "language": "python",
   "name": "python3"
  },
  "language_info": {
   "codemirror_mode": {
    "name": "ipython",
    "version": 3
   },
   "file_extension": ".py",
   "mimetype": "text/x-python",
   "name": "python",
   "nbconvert_exporter": "python",
   "pygments_lexer": "ipython3",
   "version": "3.12.1"
  }
 },
 "nbformat": 4,
 "nbformat_minor": 5
}
